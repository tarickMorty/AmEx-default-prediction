{
 "cells": [
  {
   "cell_type": "code",
   "execution_count": 1,
   "id": "0a1b7dbf",
   "metadata": {},
   "outputs": [
    {
     "name": "stdout",
     "output_type": "stream",
     "text": [
      "Downloading amex-data-integer-dtypes-parquet-format.zip to /home/tarique/Misc/AmEx/src/data/raw\n",
      "100%|#####################################9| 4.06G/4.07G [01:05<00:00, 58.1MB/s]\n",
      "100%|######################################| 4.07G/4.07G [01:05<00:00, 66.8MB/s]\n"
     ]
    }
   ],
   "source": [
    "!kaggle datasets download -d raddar/amex-data-integer-dtypes-parquet-format"
   ]
  },
  {
   "cell_type": "code",
   "execution_count": null,
   "id": "22e9d1e9",
   "metadata": {},
   "outputs": [
    {
     "name": "stdout",
     "output_type": "stream",
     "text": [
      "Archive:  amex-data-integer-dtypes-parquet-format.zip\r\n",
      "  inflating: test.parquet            "
     ]
    }
   ],
   "source": [
    "!unzip amex-data-integer-dtypes-parquet-format.zip"
   ]
  },
  {
   "cell_type": "code",
   "execution_count": null,
   "id": "37e35764",
   "metadata": {},
   "outputs": [],
   "source": []
  }
 ],
 "metadata": {
  "kernelspec": {
   "display_name": "Python 3 (ipykernel)",
   "language": "python",
   "name": "python3"
  },
  "language_info": {
   "codemirror_mode": {
    "name": "ipython",
    "version": 3
   },
   "file_extension": ".py",
   "mimetype": "text/x-python",
   "name": "python",
   "nbconvert_exporter": "python",
   "pygments_lexer": "ipython3",
   "version": "3.6.13"
  }
 },
 "nbformat": 4,
 "nbformat_minor": 5
}
