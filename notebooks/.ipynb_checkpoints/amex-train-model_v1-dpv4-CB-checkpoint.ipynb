{
 "cells": [
  {
   "cell_type": "code",
   "execution_count": 1,
   "metadata": {
    "execution": {
     "iopub.execute_input": "2022-08-07T06:08:55.379396Z",
     "iopub.status.busy": "2022-08-07T06:08:55.378107Z",
     "iopub.status.idle": "2022-08-07T06:08:55.412431Z",
     "shell.execute_reply": "2022-08-07T06:08:55.411149Z",
     "shell.execute_reply.started": "2022-08-07T06:08:55.379267Z"
    }
   },
   "outputs": [],
   "source": [
    "import numpy as np\n",
    "import pandas as pd\n",
    "import os\n",
    "pd.options.display.max_rows = 500\n",
    "pd.options.display.max_columns = 500"
   ]
  },
  {
   "cell_type": "code",
   "execution_count": 18,
   "metadata": {
    "execution": {
     "iopub.execute_input": "2022-08-07T06:08:55.415365Z",
     "iopub.status.busy": "2022-08-07T06:08:55.414595Z",
     "iopub.status.idle": "2022-08-07T06:08:58.401412Z",
     "shell.execute_reply": "2022-08-07T06:08:58.399724Z",
     "shell.execute_reply.started": "2022-08-07T06:08:55.415313Z"
    }
   },
   "outputs": [],
   "source": [
    "import gc\n",
    "from math import sqrt\n",
    "from catboost import Pool, CatBoostClassifier\n",
    "from sklearn.metrics import roc_auc_score\n",
    "import pickle\n",
    "\n",
    "import catboost as cb \n",
    "\n",
    "import math as mt\n",
    "from math import *\n",
    "import matplotlib as mlp\n",
    "import matplotlib.pyplot as plt\n",
    "\n",
    "from sklearn.model_selection import KFold, StratifiedKFold, train_test_split\n",
    "import seaborn as sns\n",
    "from tqdm import tqdm\n",
    "\n",
    "from sklearn.linear_model import LinearRegression\n",
    "from sklearn.preprocessing import OneHotEncoder\n",
    "from sklearn.preprocessing import LabelEncoder\n",
    "from sklearn.model_selection import cross_val_predict\n",
    "\n",
    "\n",
    "import joblib\n",
    "import random\n",
    "import itertools\n",
    "import scipy as sp\n",
    "\n",
    "from itertools import combinations\n",
    "import warnings\n",
    "warnings.filterwarnings('ignore')"
   ]
  },
  {
   "cell_type": "code",
   "execution_count": 6,
   "metadata": {},
   "outputs": [],
   "source": [
    "class CFG:\n",
    "    seed = 42\n",
    "    n_folds = 5\n",
    "    target = 'target'\n",
    "    input_dir = '../src/data/processed/'\n",
    "    dpv = 'v4'\n",
    "    mv = 'v1'"
   ]
  },
  {
   "cell_type": "code",
   "execution_count": 7,
   "metadata": {},
   "outputs": [],
   "source": [
    "def seed_everything(seed):\n",
    "    random.seed(seed)\n",
    "    np.random.seed(seed)\n",
    "    os.environ['PYTHONHASHSEED'] = str(seed)\n",
    "\n",
    "def read_data():\n",
    "    train = pd.read_parquet(CFG.input_dir + 'train_v4.parquet')\n",
    "    test = pd.read_parquet(CFG.input_dir + 'test_v4.parquet')\n",
    "    return train, test\n",
    "\n",
    "def amex_metric(y_true, y_pred):\n",
    "    labels = np.transpose(np.array([y_true, y_pred]))\n",
    "    labels = labels[labels[:, 1].argsort()[::-1]]\n",
    "    weights = np.where(labels[:,0]==0, 20, 1)\n",
    "    cut_vals = labels[np.cumsum(weights) <= int(0.04 * np.sum(weights))]\n",
    "    top_four = np.sum(cut_vals[:,0]) / np.sum(labels[:,0])\n",
    "    gini = [0,0]\n",
    "    for i in [1,0]:\n",
    "        labels = np.transpose(np.array([y_true, y_pred]))\n",
    "        labels = labels[labels[:, i].argsort()[::-1]]\n",
    "        weight = np.where(labels[:,0]==0, 20, 1)\n",
    "        weight_random = np.cumsum(weight / np.sum(weight))\n",
    "        total_pos = np.sum(labels[:, 0] *  weight)\n",
    "        cum_pos_found = np.cumsum(labels[:, 0] * weight)\n",
    "        lorentz = cum_pos_found / total_pos\n",
    "        gini[i] = np.sum((lorentz - weight_random) * weight)\n",
    "    return 0.5 * (gini[1]/gini[0] + top_four)\n",
    "\n",
    "def amex_metric_np(preds, target):\n",
    "    indices = np.argsort(preds)[::-1]\n",
    "    preds, target = preds[indices], target[indices]\n",
    "    weight = 20.0 - target * 19.0\n",
    "    cum_norm_weight = (weight / weight.sum()).cumsum()\n",
    "    four_pct_mask = cum_norm_weight <= 0.04\n",
    "    d = np.sum(target[four_pct_mask]) / np.sum(target)\n",
    "    weighted_target = target * weight\n",
    "    lorentz = (weighted_target / weighted_target.sum()).cumsum()\n",
    "    gini = ((lorentz - cum_norm_weight) * weight).sum()\n",
    "    n_pos = np.sum(target)\n",
    "    n_neg = target.shape[0] - n_pos\n",
    "    gini_max = 10 * n_neg * (n_pos + 20 * n_neg - 19) / (n_pos + 20 * n_neg)\n",
    "    g = gini / gini_max\n",
    "    return 0.5 * (g + d)"
   ]
  },
  {
   "cell_type": "code",
   "execution_count": 8,
   "metadata": {},
   "outputs": [
    {
     "data": {
      "text/plain": [
       "((458913, 2446), (924621, 2445))"
      ]
     },
     "execution_count": 8,
     "metadata": {},
     "output_type": "execute_result"
    }
   ],
   "source": [
    "seed_everything(CFG.seed)\n",
    "df_train, df_test = read_data()\n",
    "df_train.shape, df_test.shape"
   ]
  },
  {
   "cell_type": "code",
   "execution_count": 9,
   "metadata": {
    "execution": {
     "iopub.execute_input": "2022-08-07T06:08:58.462180Z",
     "iopub.status.busy": "2022-08-07T06:08:58.461074Z",
     "iopub.status.idle": "2022-08-07T06:08:58.492634Z",
     "shell.execute_reply": "2022-08-07T06:08:58.491357Z",
     "shell.execute_reply.started": "2022-08-07T06:08:58.462119Z"
    }
   },
   "outputs": [],
   "source": [
    "cat_cols = ['B_30','B_38','D_114','D_116','D_117','D_120','D_126','D_63','D_64','D_66','D_68']\n",
    "cat_features = []\n",
    "for col in cat_cols:\n",
    "    for i in range(1, 14):\n",
    "        cat_features.append(col+'_'+('{:0>2}'.format(i)))"
   ]
  },
  {
   "cell_type": "code",
   "execution_count": 10,
   "metadata": {},
   "outputs": [],
   "source": [
    "log_cols = [\"B_4\",\"D_62\",\"D_53\",\"D_55\",\"D_132\"]\n",
    "log_transform = []\n",
    "for col in log_cols:\n",
    "    for i in range(1, 14):\n",
    "        log_transform.append(col+'_'+('{:0>2}'.format(i)))"
   ]
  },
  {
   "cell_type": "code",
   "execution_count": 27,
   "metadata": {},
   "outputs": [],
   "source": [
    "X_train = df_train.drop(['customer_ID'], axis=1)\n",
    "X_test = df_test.drop(['customer_ID'], axis=1)\n",
    "Y_train = df_train['target']"
   ]
  },
  {
   "cell_type": "code",
   "execution_count": 28,
   "metadata": {},
   "outputs": [],
   "source": [
    "X_test['B_30_02'] = np.where(X_test['B_30_02']==-1, 0, X_test['B_30_02'])\n",
    "X_test['B_38_02'] = np.where(X_test['B_38_02']==-1, 2, X_test['B_38_02'])\n",
    "\n",
    "for col in X_test.columns:\n",
    "    if X_test[col].dtype=='float16':\n",
    "        X_train[col] = X_train[col].astype('float32').round(decimals=2).astype('float16')\n",
    "        X_test[col] = X_test[col].astype('float32').round(decimals=2).astype('float16')"
   ]
  },
  {
   "cell_type": "code",
   "execution_count": 29,
   "metadata": {},
   "outputs": [],
   "source": [
    "# for col in tqdm(log_transform):\n",
    "#     X_train[col] = np.log(X_train[col]+1)\n",
    "#     X_test[col] = np.log(X_test[col]+1)"
   ]
  },
  {
   "cell_type": "code",
   "execution_count": 41,
   "metadata": {
    "scrolled": true
   },
   "outputs": [
    {
     "name": "stdout",
     "output_type": "stream",
     "text": [
      " \n",
      "--------------------------------------------------\n",
      "Training fold 0:-\n",
      "X_train shape: (367130, 2444)\n",
      "X_valid shape: (91783, 2444)\n",
      "X_test shape: (924621, 2444)\n",
      "Our fold 0 CV score is 0.788466956500341\n",
      " \n",
      "--------------------------------------------------\n",
      "Training fold 1:-\n",
      "X_train shape: (367130, 2444)\n",
      "X_valid shape: (91783, 2444)\n",
      "X_test shape: (924621, 2444)\n",
      "0:\tlearn: 0.6317612\ttest: 0.6318188\ttest1: 0.6319571\tbest: 0.6319571 (0)\ttotal: 334ms\tremaining: 41m 46s\n",
      "500:\tlearn: 0.2089413\ttest: 0.2089646\ttest1: 0.2277766\tbest: 0.2277766 (500)\ttotal: 2m 38s\tremaining: 36m 52s\n",
      "1000:\tlearn: 0.1891066\ttest: 0.1891290\ttest1: 0.2247715\tbest: 0.2247715 (1000)\ttotal: 5m 9s\tremaining: 33m 29s\n",
      "1500:\tlearn: 0.1733262\ttest: 0.1733483\ttest1: 0.2236477\tbest: 0.2236298 (1489)\ttotal: 7m 40s\tremaining: 30m 38s\n",
      "2000:\tlearn: 0.1595947\ttest: 0.1596165\ttest1: 0.2233507\tbest: 0.2233507 (2000)\ttotal: 10m 13s\tremaining: 28m 6s\n",
      "Stopped by overfitting detector  (100 iterations wait)\n",
      "\n",
      "bestTest = 0.2232298252\n",
      "bestIteration = 2126\n",
      "\n",
      "Our fold 1 CV score is 0.7821711474967525\n",
      " \n",
      "--------------------------------------------------\n",
      "Training fold 2:-\n",
      "X_train shape: (367130, 2444)\n",
      "X_valid shape: (91783, 2444)\n",
      "X_test shape: (924621, 2444)\n",
      "0:\tlearn: 0.6315322\ttest: 0.6315861\ttest1: 0.6316931\tbest: 0.6316931 (0)\ttotal: 340ms\tremaining: 42m 30s\n",
      "500:\tlearn: 0.2091962\ttest: 0.2092193\ttest1: 0.2276130\tbest: 0.2276130 (500)\ttotal: 2m 40s\tremaining: 37m 16s\n",
      "1000:\tlearn: 0.1898601\ttest: 0.1898825\ttest1: 0.2247319\tbest: 0.2247267 (994)\ttotal: 5m 20s\tremaining: 34m 43s\n",
      "1500:\tlearn: 0.1741977\ttest: 0.1742198\ttest1: 0.2236918\tbest: 0.2236918 (1500)\ttotal: 8m 3s\tremaining: 32m 13s\n",
      "Stopped by overfitting detector  (100 iterations wait)\n",
      "\n",
      "bestTest = 0.2234808834\n",
      "bestIteration = 1721\n",
      "\n",
      "Our fold 2 CV score is 0.7847434852094912\n",
      " \n",
      "--------------------------------------------------\n",
      "Training fold 3:-\n",
      "X_train shape: (367131, 2444)\n",
      "X_valid shape: (91782, 2444)\n",
      "X_test shape: (924621, 2444)\n",
      "0:\tlearn: 0.6329549\ttest: 0.6330142\ttest1: 0.6333315\tbest: 0.6333315 (0)\ttotal: 328ms\tremaining: 40m 57s\n",
      "500:\tlearn: 0.2084749\ttest: 0.2084981\ttest1: 0.2285978\tbest: 0.2285978 (500)\ttotal: 2m 38s\tremaining: 36m 59s\n",
      "1000:\tlearn: 0.1887316\ttest: 0.1887541\ttest1: 0.2256794\tbest: 0.2256794 (1000)\ttotal: 5m 11s\tremaining: 33m 44s\n",
      "1500:\tlearn: 0.1729413\ttest: 0.1729633\ttest1: 0.2246839\tbest: 0.2246839 (1500)\ttotal: 7m 56s\tremaining: 31m 42s\n",
      "2000:\tlearn: 0.1589055\ttest: 0.1589272\ttest1: 0.2242242\tbest: 0.2242242 (2000)\ttotal: 10m 40s\tremaining: 29m 20s\n",
      "Stopped by overfitting detector  (100 iterations wait)\n",
      "\n",
      "bestTest = 0.2240596631\n",
      "bestIteration = 2363\n",
      "\n",
      "Our fold 3 CV score is 0.7808019702919462\n",
      " \n",
      "--------------------------------------------------\n",
      "Training fold 4:-\n",
      "X_train shape: (367131, 2444)\n",
      "X_valid shape: (91782, 2444)\n",
      "X_test shape: (924621, 2444)\n",
      "0:\tlearn: 0.6332939\ttest: 0.6333545\ttest1: 0.6333116\tbest: 0.6333116 (0)\ttotal: 339ms\tremaining: 42m 18s\n",
      "500:\tlearn: 0.2094003\ttest: 0.2094236\ttest1: 0.2256474\tbest: 0.2256474 (500)\ttotal: 2m 35s\tremaining: 36m 9s\n",
      "1000:\tlearn: 0.1899803\ttest: 0.1900029\ttest1: 0.2225839\tbest: 0.2225839 (1000)\ttotal: 5m 3s\tremaining: 32m 51s\n",
      "1500:\tlearn: 0.1745435\ttest: 0.1745657\ttest1: 0.2217281\tbest: 0.2217146 (1457)\ttotal: 7m 33s\tremaining: 30m 10s\n",
      "2000:\tlearn: 0.1611014\ttest: 0.1611233\ttest1: 0.2213946\tbest: 0.2213178 (1908)\ttotal: 10m 1s\tremaining: 27m 34s\n",
      "Stopped by overfitting detector  (100 iterations wait)\n",
      "\n",
      "bestTest = 0.221317779\n",
      "bestIteration = 1908\n",
      "\n",
      "Our fold 4 CV score is 0.7861987713902632\n"
     ]
    }
   ],
   "source": [
    "def cb_amex_metric(y_pred, y_true):\n",
    "    y_true = y_true.get_label()\n",
    "    return 'amex_metric', amex_metric(y_true, y_pred), True\n",
    "\n",
    "params = {\n",
    " 'nan_mode': 'Min',\n",
    " 'eval_metric': 'Logloss',\n",
    " 'iterations': 7500,\n",
    " 'grow_policy': 'SymmetricTree', #['Depthwise','Lossguide']\n",
    " 'boosting_type': 'Plain', #['Ordered']\n",
    " 'l2_leaf_reg': 3,\n",
    " 'subsample': 0.66,\n",
    " 'use_best_model': True,\n",
    " 'random_seed': 42,\n",
    " 'depth': 8,\n",
    " 'best_model_min_trees': 4200,\n",
    " 'min_data_in_leaf': 31,\n",
    " 'loss_function': 'Logloss',\n",
    " 'learning_rate': 0.05}\n",
    "\n",
    "# Create a numpy array to store test predictions\n",
    "test_predictions = np.zeros(len(X_test))\n",
    "# Create a numpy array to store out of folds predictions\n",
    "oof_predictions = np.zeros(len(X_train))\n",
    "\n",
    "kfold = StratifiedKFold(n_splits = CFG.n_folds, shuffle = True, random_state = CFG.seed)\n",
    "for fold, (trn_ind, val_ind) in enumerate(kfold.split(X_train, Y_train)):\n",
    "\n",
    "    print(' ')\n",
    "    print('-'*50)\n",
    "    print(f'Training fold {fold}:-')\n",
    "    x_train, x_val = X_train.drop('target', axis=1).iloc[trn_ind], X_train.drop('target', axis=1).iloc[val_ind]\n",
    "    y_train, y_val = Y_train.iloc[trn_ind], Y_train.iloc[val_ind]\n",
    "\n",
    "    print('X_train shape:', x_train.shape)\n",
    "    print('X_valid shape:', x_val.shape)\n",
    "    print('X_test shape:', X_test.shape)\n",
    "    \n",
    "    cb_train = Pool(data=x_train, label=y_train)\n",
    "    cb_valid = Pool(data=x_val, label=y_val)\n",
    "\n",
    "#     if fold<=4:\n",
    "    if fold>0:\n",
    "    \n",
    "        model = cb.train(\n",
    "            params=params,\n",
    "            dtrain=cb_train,\n",
    "            num_boost_round=7500,\n",
    "            eval_set=[cb_train, cb_valid],\n",
    "            verbose_eval=500,\n",
    "            early_stopping_rounds=100)\n",
    "\n",
    "        # Save best model\n",
    "        joblib.dump(model, f'../src/models/BinaryModels/cb_{CFG.mv}_dp{CFG.dpv}_fold{fold}_seed{CFG.seed}.pkl')\n",
    "\n",
    "    else:\n",
    "        with open(f'../src/models/BinaryModels/cb_{CFG.mv}_dp{CFG.dpv}_fold{fold}_seed{CFG.seed}.pkl', 'rb') as f:\n",
    "            model = pickle.load(f)\n",
    "\n",
    "    # Predict validation\n",
    "    val_pred = model.predict(x_val)\n",
    "    # Add to out of folds array\n",
    "    oof_predictions[val_ind] = val_pred\n",
    "    # Predict the test set\n",
    "    test_pred = model.predict(X_test)\n",
    "    test_predictions += test_pred / CFG.n_folds\n",
    "    # Compute fold metric\n",
    "    score = amex_metric(y_val, val_pred)\n",
    "    print(f'Our fold {fold} CV score is {score}')\n",
    "    del x_train, x_val, y_train, y_val, cb_train, cb_valid\n",
    "    gc.collect()"
   ]
  },
  {
   "cell_type": "code",
   "execution_count": 42,
   "metadata": {},
   "outputs": [
    {
     "name": "stdout",
     "output_type": "stream",
     "text": [
      "Our out of folds CV score is 0.7845458563047485\n"
     ]
    }
   ],
   "source": [
    "# Compute out of folds metric\n",
    "score = amex_metric(Y_train, oof_predictions)\n",
    "print(f'Our out of folds CV score is {score}')\n",
    "\n",
    "# Create a dataframe to store out of folds predictions\n",
    "oof_df = pd.DataFrame({'customer_ID': df_train['customer_ID'], 'target': Y_train, 'prediction': oof_predictions})\n",
    "oof_df.to_csv(f'cboof_{CFG.mv}_dp{CFG.dpv}{CFG.n_folds}fold_seed{CFG.seed}.csv', index = False)\n",
    "\n",
    "# Create a dataframe to store test prediction\n",
    "test_df = pd.DataFrame({'customer_ID': df_test['customer_ID'], 'prediction': test_predictions})\n",
    "test_df.to_csv(f'cb_{CFG.mv}_dp{CFG.dpv}{CFG.n_folds}fold_seed{CFG.seed}.csv', index = False)"
   ]
  },
  {
   "cell_type": "code",
   "execution_count": 42,
   "metadata": {},
   "outputs": [
    {
     "name": "stdout",
     "output_type": "stream",
     "text": [
      "100%|██████████████████████████████████████| 75.2M/75.2M [00:07<00:00, 10.5MB/s]\n",
      "Successfully submitted to American Express - Default Prediction"
     ]
    }
   ],
   "source": [
    "# !kaggle competitions submit -c amex-default-prediction -f cb_v1_dpv45fold_seed42.csv -m \"all pivoted \\\n",
    "# 2444 feats CV 7875\""
   ]
  },
  {
   "cell_type": "code",
   "execution_count": null,
   "metadata": {},
   "outputs": [],
   "source": []
  }
 ],
 "metadata": {
  "kernelspec": {
   "display_name": "Python 3 (ipykernel)",
   "language": "python",
   "name": "python3"
  },
  "language_info": {
   "codemirror_mode": {
    "name": "ipython",
    "version": 3
   },
   "file_extension": ".py",
   "mimetype": "text/x-python",
   "name": "python",
   "nbconvert_exporter": "python",
   "pygments_lexer": "ipython3",
   "version": "3.8.12"
  }
 },
 "nbformat": 4,
 "nbformat_minor": 4
}
