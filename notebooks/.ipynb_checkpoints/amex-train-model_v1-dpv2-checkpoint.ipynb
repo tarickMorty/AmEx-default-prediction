{
 "cells": [
  {
   "cell_type": "code",
   "execution_count": 1,
   "metadata": {
    "execution": {
     "iopub.execute_input": "2022-08-07T06:08:55.379396Z",
     "iopub.status.busy": "2022-08-07T06:08:55.378107Z",
     "iopub.status.idle": "2022-08-07T06:08:55.412431Z",
     "shell.execute_reply": "2022-08-07T06:08:55.411149Z",
     "shell.execute_reply.started": "2022-08-07T06:08:55.379267Z"
    }
   },
   "outputs": [],
   "source": [
    "import numpy as np\n",
    "import pandas as pd\n",
    "import os\n",
    "pd.options.display.max_rows = 500\n",
    "pd.options.display.max_columns = 500"
   ]
  },
  {
   "cell_type": "code",
   "execution_count": 2,
   "metadata": {
    "execution": {
     "iopub.execute_input": "2022-08-07T06:08:55.415365Z",
     "iopub.status.busy": "2022-08-07T06:08:55.414595Z",
     "iopub.status.idle": "2022-08-07T06:08:58.401412Z",
     "shell.execute_reply": "2022-08-07T06:08:58.399724Z",
     "shell.execute_reply.started": "2022-08-07T06:08:55.415313Z"
    }
   },
   "outputs": [
    {
     "data": {
      "text/html": [
       "<style type='text/css'>\n",
       ".datatable table.frame { margin-bottom: 0; }\n",
       ".datatable table.frame thead { border-bottom: none; }\n",
       ".datatable table.frame tr.coltypes td {  color: #FFFFFF;  line-height: 6px;  padding: 0 0.5em;}\n",
       ".datatable .bool    { background: #DDDD99; }\n",
       ".datatable .object  { background: #565656; }\n",
       ".datatable .int     { background: #5D9E5D; }\n",
       ".datatable .float   { background: #4040CC; }\n",
       ".datatable .str     { background: #CC4040; }\n",
       ".datatable .time    { background: #40CC40; }\n",
       ".datatable .row_index {  background: var(--jp-border-color3);  border-right: 1px solid var(--jp-border-color0);  color: var(--jp-ui-font-color3);  font-size: 9px;}\n",
       ".datatable .frame tbody td { text-align: left; }\n",
       ".datatable .frame tr.coltypes .row_index {  background: var(--jp-border-color0);}\n",
       ".datatable th:nth-child(2) { padding-left: 12px; }\n",
       ".datatable .hellipsis {  color: var(--jp-cell-editor-border-color);}\n",
       ".datatable .vellipsis {  background: var(--jp-layout-color0);  color: var(--jp-cell-editor-border-color);}\n",
       ".datatable .na {  color: var(--jp-cell-editor-border-color);  font-size: 80%;}\n",
       ".datatable .sp {  opacity: 0.25;}\n",
       ".datatable .footer { font-size: 9px; }\n",
       ".datatable .frame_dimensions {  background: var(--jp-border-color3);  border-top: 1px solid var(--jp-border-color0);  color: var(--jp-ui-font-color3);  display: inline-block;  opacity: 0.6;  padding: 1px 10px 1px 5px;}\n",
       "</style>\n"
      ],
      "text/plain": [
       "<IPython.core.display.HTML object>"
      ]
     },
     "metadata": {},
     "output_type": "display_data"
    }
   ],
   "source": [
    "import gc\n",
    "from math import sqrt\n",
    "import lightgbm as lgb\n",
    "from sklearn.metrics import roc_auc_score\n",
    "import pickle\n",
    "\n",
    "import math as mt\n",
    "from math import *\n",
    "import matplotlib as mlp\n",
    "import matplotlib.pyplot as plt\n",
    "\n",
    "from sklearn.model_selection import KFold, StratifiedKFold, train_test_split\n",
    "import seaborn as sns\n",
    "from tqdm import tqdm\n",
    "\n",
    "from sklearn.linear_model import LinearRegression\n",
    "from sklearn.preprocessing import OneHotEncoder\n",
    "from sklearn.preprocessing import LabelEncoder\n",
    "from sklearn.model_selection import cross_val_predict\n",
    "\n",
    "\n",
    "import joblib\n",
    "import random\n",
    "import itertools\n",
    "import scipy as sp\n",
    "\n",
    "from itertools import combinations\n",
    "import warnings\n",
    "warnings.filterwarnings('ignore')"
   ]
  },
  {
   "cell_type": "code",
   "execution_count": 3,
   "metadata": {
    "execution": {
     "iopub.execute_input": "2022-08-07T06:08:58.462180Z",
     "iopub.status.busy": "2022-08-07T06:08:58.461074Z",
     "iopub.status.idle": "2022-08-07T06:08:58.492634Z",
     "shell.execute_reply": "2022-08-07T06:08:58.491357Z",
     "shell.execute_reply.started": "2022-08-07T06:08:58.462119Z"
    }
   },
   "outputs": [],
   "source": [
    "cat_feats = ['B_30','B_38','D_114','D_116','D_117','D_120','D_126','D_63','D_64','D_66','D_68']"
   ]
  },
  {
   "cell_type": "code",
   "execution_count": 4,
   "metadata": {},
   "outputs": [],
   "source": [
    "class CFG:\n",
    "    seed = 98\n",
    "    n_folds = 5\n",
    "    target = 'target'\n",
    "    input_dir = '../src/data/processed/'\n",
    "    dpv = 'v2'\n",
    "    mv = 'v1'"
   ]
  },
  {
   "cell_type": "code",
   "execution_count": 5,
   "metadata": {},
   "outputs": [],
   "source": [
    "def seed_everything(seed):\n",
    "    random.seed(seed)\n",
    "    np.random.seed(seed)\n",
    "    os.environ['PYTHONHASHSEED'] = str(seed)\n",
    "\n",
    "def read_data():\n",
    "    train = pd.read_parquet(CFG.input_dir + 'train_fe_public.parquet')\n",
    "    test = pd.read_parquet(CFG.input_dir + 'test_fe_public.parquet')\n",
    "#     test['D_86_last'] = np.where(test['D_86_last']==-1, 0, test['D_86_last'])\n",
    "    return train, test\n",
    "\n",
    "def amex_metric(y_true, y_pred):\n",
    "    labels = np.transpose(np.array([y_true, y_pred]))\n",
    "    labels = labels[labels[:, 1].argsort()[::-1]]\n",
    "    weights = np.where(labels[:,0]==0, 20, 1)\n",
    "    cut_vals = labels[np.cumsum(weights) <= int(0.04 * np.sum(weights))]\n",
    "    top_four = np.sum(cut_vals[:,0]) / np.sum(labels[:,0])\n",
    "    gini = [0,0]\n",
    "    for i in [1,0]:\n",
    "        labels = np.transpose(np.array([y_true, y_pred]))\n",
    "        labels = labels[labels[:, i].argsort()[::-1]]\n",
    "        weight = np.where(labels[:,0]==0, 20, 1)\n",
    "        weight_random = np.cumsum(weight / np.sum(weight))\n",
    "        total_pos = np.sum(labels[:, 0] *  weight)\n",
    "        cum_pos_found = np.cumsum(labels[:, 0] * weight)\n",
    "        lorentz = cum_pos_found / total_pos\n",
    "        gini[i] = np.sum((lorentz - weight_random) * weight)\n",
    "    return 0.5 * (gini[1]/gini[0] + top_four)\n",
    "\n",
    "def amex_metric_np(preds, target):\n",
    "    indices = np.argsort(preds)[::-1]\n",
    "    preds, target = preds[indices], target[indices]\n",
    "    weight = 20.0 - target * 19.0\n",
    "    cum_norm_weight = (weight / weight.sum()).cumsum()\n",
    "    four_pct_mask = cum_norm_weight <= 0.04\n",
    "    d = np.sum(target[four_pct_mask]) / np.sum(target)\n",
    "    weighted_target = target * weight\n",
    "    lorentz = (weighted_target / weighted_target.sum()).cumsum()\n",
    "    gini = ((lorentz - cum_norm_weight) * weight).sum()\n",
    "    n_pos = np.sum(target)\n",
    "    n_neg = target.shape[0] - n_pos\n",
    "    gini_max = 10 * n_neg * (n_pos + 20 * n_neg - 19) / (n_pos + 20 * n_neg)\n",
    "    g = gini / gini_max\n",
    "    return 0.5 * (g + d)"
   ]
  },
  {
   "cell_type": "code",
   "execution_count": 6,
   "metadata": {},
   "outputs": [
    {
     "data": {
      "text/plain": [
       "((458913, 2358), (924621, 2357))"
      ]
     },
     "execution_count": 6,
     "metadata": {},
     "output_type": "execute_result"
    }
   ],
   "source": [
    "seed_everything(CFG.seed)\n",
    "df_train, df_test = read_data()\n",
    "df_train.shape, df_test.shape"
   ]
  },
  {
   "cell_type": "code",
   "execution_count": 7,
   "metadata": {},
   "outputs": [],
   "source": [
    "def lgb_amex_metric(y_pred, y_true):\n",
    "    y_true = y_true.get_label()\n",
    "    return 'amex_metric', amex_metric(y_true, y_pred), True\n",
    "\n",
    "def train_and_evaluate(train, X_test, cat_feats):\n",
    "    \n",
    "#   cat_features = [f\"{cf}_last\" for cf in cat_feats]\n",
    "    cat_features = ([f\"{cf}_last\" for cf in cat_feats]+[f\"{cf}_first\" for cf in cat_feats]+\n",
    "                    [f\"{cf}_median\" for cf in cat_feats])\n",
    "    \n",
    "    add_cats = ([col for col in train.columns.tolist() if f\"_isFirst\" in col]+\n",
    "                [col for col in train.columns.tolist() if f\"_isLast\" in col])\n",
    "    \n",
    "    # Label encode categorical features\n",
    "#     for cat_col in cat_features:\n",
    "#         encoder = LabelEncoder()\n",
    "#         train[cat_col] = encoder.fit_transform(train[cat_col])\n",
    "#         test[cat_col] = encoder.transform(test[cat_col])\n",
    "        \n",
    "    # Round last float features to 2 decimal place\n",
    "    num_cols = list(train.dtypes[(train.dtypes == 'float32') | (train.dtypes == 'float64')].index)\n",
    "    num_cols = [col for col in num_cols if 'last' in col]\n",
    "    for col in num_cols:\n",
    "        train[col + '_round2'] = train[col].round(2)\n",
    "        X_test[col + '_round2'] = X_test[col].round(2)\n",
    "    \n",
    "    # Get the difference between last and mean\n",
    "    num_cols = [col for col in train.columns if 'last' in col]\n",
    "    num_cols = [col[:-5] for col in num_cols if 'round' not in col]\n",
    "    \n",
    "    for col in num_cols:\n",
    "        try:\n",
    "            train[f'{col}_last_mean_diff'] = train[f'{col}_last'] - train[f'{col}_mean']\n",
    "            X_test[f'{col}_last_mean_diff'] = X_test[f'{col}_last'] - X_test[f'{col}_mean']\n",
    "        except:\n",
    "            pass\n",
    "    \n",
    "    # Transform float64 and float32 to float16\n",
    "    num_cols = list(train.dtypes[(train.dtypes == 'float32') | (train.dtypes == 'float64')].index)\n",
    "    \n",
    "    print('numeric cols: ',len(num_cols))\n",
    "#     for col in tqdm(num_cols):\n",
    "#         train[col] = train[col].astype(np.float16)\n",
    "#         test[col] = test[col].astype(np.float16)\n",
    "    \n",
    "    # Get feature list\n",
    "    features = [col for col in train.columns if col not in ['customer_ID', CFG.target]]\n",
    "    print('all cols: ',len(features))\n",
    "\n",
    "    params = {\n",
    "        'objective': 'binary',\n",
    "        'metric': \"binary_logloss\",\n",
    "        'boosting': 'dart',\n",
    "        'seed': CFG.seed,\n",
    "        'num_leaves': 127,\n",
    "        'learning_rate': 0.012,\n",
    "        'feature_fraction': 0.30,\n",
    "        'bagging_freq': 8,\n",
    "        'bagging_fraction': 0.34,\n",
    "        'n_jobs': -1,\n",
    "        'verbose': -1,\n",
    "        'lambda_l2': 2,\n",
    "        'min_data_in_leaf': 40,\n",
    "        'max_bin': 255+128\n",
    "        }\n",
    "    \n",
    "    # Create a numpy array to store test predictions\n",
    "    test_predictions = np.zeros(len(X_test))\n",
    "    # Create a numpy array to store out of folds predictions\n",
    "    oof_predictions = np.zeros(len(train))\n",
    "    \n",
    "    kfold = StratifiedKFold(n_splits = CFG.n_folds, shuffle = True, random_state = CFG.seed)\n",
    "\n",
    "    for fold, (trn_ind, val_ind) in enumerate(kfold.split(train, train[CFG.target])):\n",
    "            \n",
    "        test = X_test.reset_index(drop=True)\n",
    "        print(' ')\n",
    "        print('-'*50)\n",
    "        print(f'Training fold {fold} with {len(features)} features...')\n",
    "        x_train, x_val = train[features].iloc[trn_ind], train[features].iloc[val_ind]\n",
    "        y_train, y_val = train[CFG.target].iloc[trn_ind], train[CFG.target].iloc[val_ind]\n",
    "\n",
    "        for cc in tqdm(cat_features, disable=True):\n",
    "            le = LabelEncoder()\n",
    "            le.fit(list(set(x_val[cc]) | set(x_train[cc])))\n",
    "            x_train[cc] = le.transform(x_train[[cc]])\n",
    "            x_val[cc] = le.transform(x_val[[cc]])\n",
    "            test[cc] = le.transform(test[[cc]])\n",
    "\n",
    "            lr = LinearRegression(n_jobs=-1)\n",
    "            ohe = OneHotEncoder(sparse=True)\n",
    "            ohe.fit(np.arange(len(le.classes_)).reshape(-1, 1))\n",
    "            x_ohe_train = ohe.transform(x_train[[cc]])\n",
    "            x_ohe_val = ohe.transform(x_val[[cc]])\n",
    "            x_ohe_test = ohe.transform(test[[cc]])\n",
    "\n",
    "            lr.fit(x_ohe_train, y_train)\n",
    "\n",
    "            x_train[cc] = cross_val_predict(lr, x_ohe_train, y_train, cv=kfold, n_jobs=-1)\n",
    "            x_val[cc] = lr.predict(x_ohe_val)\n",
    "            test[cc] = lr.predict(x_ohe_test)\n",
    "\n",
    "        print('X_train shape:', x_train.shape)\n",
    "        print('X_valid shape:', x_val.shape)\n",
    "        print('X_test shape:', test.shape)\n",
    "\n",
    "        lgb_train = lgb.Dataset(x_train, y_train, categorical_feature = add_cats)\n",
    "        lgb_valid = lgb.Dataset(x_val, y_val, categorical_feature = add_cats)\n",
    "            \n",
    "        if fold>4:\n",
    "            \n",
    "            model = lgb.train(\n",
    "                params = params,\n",
    "                train_set = lgb_train,\n",
    "                num_boost_round = 6000,\n",
    "                valid_sets = [lgb_train, lgb_valid],\n",
    "                early_stopping_rounds = 100,\n",
    "                verbose_eval = 500,\n",
    "                feval = lgb_amex_metric\n",
    "                )\n",
    "\n",
    "            # Save best model\n",
    "            joblib.dump(model, f'../src/models/BinaryModels/lgbm_{CFG.mv}_dp{CFG.dpv}_fold{fold}_seed{CFG.seed}.pkl')\n",
    "        \n",
    "        else:\n",
    "            with open(f'../src/models/BinaryModels/lgbm_{CFG.mv}_dp{CFG.dpv}_fold{fold}_seed{CFG.seed}.pkl', 'rb') as f:\n",
    "                model = pickle.load(f)\n",
    "                \n",
    "        # Predict validation\n",
    "        val_pred = model.predict(x_val)\n",
    "        # Add to out of folds array\n",
    "        oof_predictions[val_ind] = val_pred\n",
    "        # Predict the test set\n",
    "        test_pred = model.predict(test[features])\n",
    "        test_predictions += test_pred / CFG.n_folds\n",
    "        # Compute fold metric\n",
    "        score = amex_metric(y_val, val_pred)\n",
    "        print(f'Our fold {fold} CV score is {score}')\n",
    "        del x_train, x_val, y_train, y_val, lgb_train, lgb_valid\n",
    "        gc.collect()\n",
    "    \n",
    "    # Compute out of folds metric\n",
    "    score = amex_metric(train[CFG.target], oof_predictions)\n",
    "    print(f'Our out of folds CV score is {score}')\n",
    "    \n",
    "    # Create a dataframe to store out of folds predictions\n",
    "    oof_df = pd.DataFrame({'customer_ID': train['customer_ID'], 'target': train[CFG.target], 'prediction': oof_predictions})\n",
    "    oof_df.to_csv(f'oof_{CFG.mv}_dp{CFG.dpv}{CFG.n_folds}fold_seed{CFG.seed}.csv', index = False)\n",
    "    \n",
    "    # Create a dataframe to store test prediction\n",
    "    test_df = pd.DataFrame({'customer_ID': test['customer_ID'], 'prediction': test_predictions})\n",
    "    test_df.to_csv(f'lgb_{CFG.mv}_dp{CFG.dpv}{CFG.n_folds}fold_seed{CFG.seed}.csv', index = False)\n",
    "    "
   ]
  },
  {
   "cell_type": "code",
   "execution_count": 8,
   "metadata": {
    "scrolled": false
   },
   "outputs": [
    {
     "name": "stdout",
     "output_type": "stream",
     "text": [
      "numeric cols:  1713\n",
      "all cols:  2896\n",
      " \n",
      "--------------------------------------------------\n",
      "Training fold 0 with 2896 features...\n",
      "X_train shape: (367130, 2896)\n",
      "X_valid shape: (91783, 2896)\n",
      "X_test shape: (924621, 2897)\n",
      "Our fold 0 CV score is 0.794602532513109\n",
      " \n",
      "--------------------------------------------------\n",
      "Training fold 1 with 2896 features...\n",
      "X_train shape: (367130, 2896)\n",
      "X_valid shape: (91783, 2896)\n",
      "X_test shape: (924621, 2897)\n",
      "Our fold 1 CV score is 0.797076575315461\n",
      " \n",
      "--------------------------------------------------\n",
      "Training fold 2 with 2896 features...\n",
      "X_train shape: (367130, 2896)\n",
      "X_valid shape: (91783, 2896)\n",
      "X_test shape: (924621, 2897)\n",
      "Our fold 2 CV score is 0.7967903316814736\n",
      " \n",
      "--------------------------------------------------\n",
      "Training fold 3 with 2896 features...\n",
      "X_train shape: (367131, 2896)\n",
      "X_valid shape: (91782, 2896)\n",
      "X_test shape: (924621, 2897)\n",
      "Our fold 3 CV score is 0.7982481826395691\n",
      " \n",
      "--------------------------------------------------\n",
      "Training fold 4 with 2896 features...\n",
      "X_train shape: (367131, 2896)\n",
      "X_valid shape: (91782, 2896)\n",
      "X_test shape: (924621, 2897)\n",
      "Our fold 4 CV score is 0.7971856757291067\n",
      "Our out of folds CV score is 0.7964541222149923\n"
     ]
    }
   ],
   "source": [
    "train_and_evaluate(df_train, df_test, cat_feats)"
   ]
  },
  {
   "cell_type": "code",
   "execution_count": 9,
   "metadata": {},
   "outputs": [
    {
     "name": "stdout",
     "output_type": "stream",
     "text": [
      "100%|██████████████████████████████████████| 75.3M/75.3M [00:06<00:00, 12.2MB/s]\n",
      "Successfully submitted to American Express - Default Prediction"
     ]
    }
   ],
   "source": [
    "!kaggle competitions submit -c amex-default-prediction -f lgb_v1_dpv25fold_seed98.csv -m \"add \\\n",
    "cats 2896 feats v1 CV 79645\""
   ]
  },
  {
   "cell_type": "code",
   "execution_count": null,
   "metadata": {},
   "outputs": [],
   "source": []
  }
 ],
 "metadata": {
  "kernelspec": {
   "display_name": "Python 3 (ipykernel)",
   "language": "python",
   "name": "python3"
  },
  "language_info": {
   "codemirror_mode": {
    "name": "ipython",
    "version": 3
   },
   "file_extension": ".py",
   "mimetype": "text/x-python",
   "name": "python",
   "nbconvert_exporter": "python",
   "pygments_lexer": "ipython3",
   "version": "3.8.12"
  }
 },
 "nbformat": 4,
 "nbformat_minor": 4
}
