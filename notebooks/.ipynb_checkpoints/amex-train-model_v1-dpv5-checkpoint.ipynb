{
 "cells": [
  {
   "cell_type": "code",
   "execution_count": 1,
   "metadata": {
    "execution": {
     "iopub.execute_input": "2022-08-07T06:08:55.379396Z",
     "iopub.status.busy": "2022-08-07T06:08:55.378107Z",
     "iopub.status.idle": "2022-08-07T06:08:55.412431Z",
     "shell.execute_reply": "2022-08-07T06:08:55.411149Z",
     "shell.execute_reply.started": "2022-08-07T06:08:55.379267Z"
    }
   },
   "outputs": [],
   "source": [
    "import numpy as np\n",
    "import pandas as pd\n",
    "import os\n",
    "pd.options.display.max_rows = 500\n",
    "pd.options.display.max_columns = 500"
   ]
  },
  {
   "cell_type": "code",
   "execution_count": 2,
   "metadata": {
    "execution": {
     "iopub.execute_input": "2022-08-07T06:08:55.415365Z",
     "iopub.status.busy": "2022-08-07T06:08:55.414595Z",
     "iopub.status.idle": "2022-08-07T06:08:58.401412Z",
     "shell.execute_reply": "2022-08-07T06:08:58.399724Z",
     "shell.execute_reply.started": "2022-08-07T06:08:55.415313Z"
    }
   },
   "outputs": [
    {
     "data": {
      "text/html": [
       "<style type='text/css'>\n",
       ".datatable table.frame { margin-bottom: 0; }\n",
       ".datatable table.frame thead { border-bottom: none; }\n",
       ".datatable table.frame tr.coltypes td {  color: #FFFFFF;  line-height: 6px;  padding: 0 0.5em;}\n",
       ".datatable .bool    { background: #DDDD99; }\n",
       ".datatable .object  { background: #565656; }\n",
       ".datatable .int     { background: #5D9E5D; }\n",
       ".datatable .float   { background: #4040CC; }\n",
       ".datatable .str     { background: #CC4040; }\n",
       ".datatable .time    { background: #40CC40; }\n",
       ".datatable .row_index {  background: var(--jp-border-color3);  border-right: 1px solid var(--jp-border-color0);  color: var(--jp-ui-font-color3);  font-size: 9px;}\n",
       ".datatable .frame tbody td { text-align: left; }\n",
       ".datatable .frame tr.coltypes .row_index {  background: var(--jp-border-color0);}\n",
       ".datatable th:nth-child(2) { padding-left: 12px; }\n",
       ".datatable .hellipsis {  color: var(--jp-cell-editor-border-color);}\n",
       ".datatable .vellipsis {  background: var(--jp-layout-color0);  color: var(--jp-cell-editor-border-color);}\n",
       ".datatable .na {  color: var(--jp-cell-editor-border-color);  font-size: 80%;}\n",
       ".datatable .sp {  opacity: 0.25;}\n",
       ".datatable .footer { font-size: 9px; }\n",
       ".datatable .frame_dimensions {  background: var(--jp-border-color3);  border-top: 1px solid var(--jp-border-color0);  color: var(--jp-ui-font-color3);  display: inline-block;  opacity: 0.6;  padding: 1px 10px 1px 5px;}\n",
       "</style>\n"
      ],
      "text/plain": [
       "<IPython.core.display.HTML object>"
      ]
     },
     "metadata": {},
     "output_type": "display_data"
    }
   ],
   "source": [
    "import gc\n",
    "from math import sqrt\n",
    "from sklearn.metrics import roc_auc_score\n",
    "import pickle\n",
    "\n",
    "import lightgbm as lgb\n",
    "import math as mt\n",
    "from math import *\n",
    "import matplotlib as mlp\n",
    "import matplotlib.pyplot as plt\n",
    "\n",
    "from sklearn.model_selection import KFold, StratifiedKFold, train_test_split\n",
    "import seaborn as sns\n",
    "from tqdm import tqdm\n",
    "\n",
    "from sklearn.linear_model import LinearRegression\n",
    "from sklearn.preprocessing import OneHotEncoder\n",
    "from sklearn.preprocessing import LabelEncoder\n",
    "from sklearn.model_selection import cross_val_predict\n",
    "\n",
    "\n",
    "import joblib\n",
    "import random\n",
    "import itertools\n",
    "import scipy as sp\n",
    "\n",
    "from itertools import combinations\n",
    "import warnings\n",
    "warnings.filterwarnings('ignore')"
   ]
  },
  {
   "cell_type": "code",
   "execution_count": 3,
   "metadata": {},
   "outputs": [],
   "source": [
    "class CFG:\n",
    "    seed = 42\n",
    "    n_folds = 9\n",
    "    target = 'target'\n",
    "    input_dir = '../src/data/processed/'\n",
    "    dpv = 'v5' # v2 with date feats\n",
    "    mv = 'v1'"
   ]
  },
  {
   "cell_type": "code",
   "execution_count": 4,
   "metadata": {},
   "outputs": [],
   "source": [
    "def seed_everything(seed):\n",
    "    random.seed(seed)\n",
    "    np.random.seed(seed)\n",
    "    os.environ['PYTHONHASHSEED'] = str(seed)\n",
    "\n",
    "def read_data():\n",
    "    train = pd.read_parquet(CFG.input_dir + 'train_fe_public.parquet')\n",
    "    test = pd.read_parquet(CFG.input_dir + 'test_fe_public.parquet')\n",
    "    test['D_86_last'] = np.where(test['D_86_last']==-1, 0, test['D_86_last'])\n",
    "    dcols = [col for col in train.columns if '_isFirstEq' in col] + [col for col in train.columns if '_isLastEq' in col]\n",
    "    train = train.drop(dcols, axis=1)\n",
    "    test = test.drop(dcols, axis=1)\n",
    "    return train, test\n",
    "\n",
    "def amex_metric(y_true, y_pred):\n",
    "    labels = np.transpose(np.array([y_true, y_pred]))\n",
    "    labels = labels[labels[:, 1].argsort()[::-1]]\n",
    "    weights = np.where(labels[:,0]==0, 20, 1)\n",
    "    cut_vals = labels[np.cumsum(weights) <= int(0.04 * np.sum(weights))]\n",
    "    top_four = np.sum(cut_vals[:,0]) / np.sum(labels[:,0])\n",
    "    gini = [0,0]\n",
    "    for i in [1,0]:\n",
    "        labels = np.transpose(np.array([y_true, y_pred]))\n",
    "        labels = labels[labels[:, i].argsort()[::-1]]\n",
    "        weight = np.where(labels[:,0]==0, 20, 1)\n",
    "        weight_random = np.cumsum(weight / np.sum(weight))\n",
    "        total_pos = np.sum(labels[:, 0] *  weight)\n",
    "        cum_pos_found = np.cumsum(labels[:, 0] * weight)\n",
    "        lorentz = cum_pos_found / total_pos\n",
    "        gini[i] = np.sum((lorentz - weight_random) * weight)\n",
    "    return 0.5 * (gini[1]/gini[0] + top_four)\n",
    "\n",
    "def amex_metric_np(preds, target):\n",
    "    indices = np.argsort(preds)[::-1]\n",
    "    preds, target = preds[indices], target[indices]\n",
    "    weight = 20.0 - target * 19.0\n",
    "    cum_norm_weight = (weight / weight.sum()).cumsum()\n",
    "    four_pct_mask = cum_norm_weight <= 0.04\n",
    "    d = np.sum(target[four_pct_mask]) / np.sum(target)\n",
    "    weighted_target = target * weight\n",
    "    lorentz = (weighted_target / weighted_target.sum()).cumsum()\n",
    "    gini = ((lorentz - cum_norm_weight) * weight).sum()\n",
    "    n_pos = np.sum(target)\n",
    "    n_neg = target.shape[0] - n_pos\n",
    "    gini_max = 10 * n_neg * (n_pos + 20 * n_neg - 19) / (n_pos + 20 * n_neg)\n",
    "    g = gini / gini_max\n",
    "    return 0.5 * (g + d)"
   ]
  },
  {
   "cell_type": "code",
   "execution_count": 5,
   "metadata": {},
   "outputs": [
    {
     "data": {
      "text/plain": [
       "((458913, 1650), (924621, 1649))"
      ]
     },
     "execution_count": 5,
     "metadata": {},
     "output_type": "execute_result"
    }
   ],
   "source": [
    "seed_everything(CFG.seed)\n",
    "df_train, df_test = read_data()\n",
    "df_train.shape, df_test.shape"
   ]
  },
  {
   "cell_type": "code",
   "execution_count": 6,
   "metadata": {},
   "outputs": [
    {
     "data": {
      "text/plain": [
       "1173"
      ]
     },
     "execution_count": 6,
     "metadata": {},
     "output_type": "execute_result"
    }
   ],
   "source": [
    "num_cols = list(df_train.dtypes[(df_train.dtypes == 'float32') | (df_train.dtypes == 'float64')].index)\n",
    "len(num_cols)"
   ]
  },
  {
   "cell_type": "code",
   "execution_count": 7,
   "metadata": {},
   "outputs": [],
   "source": [
    "# D_* = Delinquency variables\n",
    "# S_* = Spend variables\n",
    "# P_* = Payment variables\n",
    "# B_* = Balance variables\n",
    "# R_* = Risk variables"
   ]
  },
  {
   "cell_type": "code",
   "execution_count": 8,
   "metadata": {},
   "outputs": [],
   "source": [
    "# Scols = [col for col in df_train.columns if col.startswith('S_') and col in num_cols]\n",
    "# Dcols = [col for col in df_train.columns if col.startswith('D_') and col in num_cols]\n",
    "# Bcols = [col for col in df_train.columns if col.startswith('B_') and col in num_cols]\n",
    "# Rcols = [col for col in df_train.columns if col.startswith('R_') and col in num_cols]\n",
    "\n",
    "# len(Scols), len(Dcols), len(Bcols), len(Rcols)"
   ]
  },
  {
   "cell_type": "code",
   "execution_count": 9,
   "metadata": {
    "scrolled": true
   },
   "outputs": [],
   "source": [
    "from sklearn.preprocessing import QuantileTransformer\n",
    "\n",
    "for col in (num_cols):\n",
    "\n",
    "    transformer = QuantileTransformer(n_quantiles=100,random_state=0, output_distribution=\"normal\")\n",
    "    vec_len = len(df_train[col].values)\n",
    "    vec_len_test = len(df_test[col].values)\n",
    "    raw_vec = df_train[col].replace([np.inf, -np.inf], np.nan).values.reshape(vec_len, 1)\n",
    "    transformer.fit(raw_vec)\n",
    "    df_train[col] = transformer.transform(raw_vec).reshape(1, vec_len)[0]\n",
    "    df_test[col] = transformer.transform(df_test[col].replace([np.inf, -np.inf], \n",
    "                             np.nan).values.reshape(vec_len_test,1)).reshape(1, vec_len_test)[0]"
   ]
  },
  {
   "cell_type": "code",
   "execution_count": 10,
   "metadata": {
    "execution": {
     "iopub.execute_input": "2022-08-07T06:08:58.462180Z",
     "iopub.status.busy": "2022-08-07T06:08:58.461074Z",
     "iopub.status.idle": "2022-08-07T06:08:58.492634Z",
     "shell.execute_reply": "2022-08-07T06:08:58.491357Z",
     "shell.execute_reply.started": "2022-08-07T06:08:58.462119Z"
    }
   },
   "outputs": [],
   "source": [
    "cat_cols = ['B_30','B_38','D_114','D_116','D_117','D_120','D_126','D_63','D_64','D_66','D_68']\n",
    "cat_features = [f\"{cf}_last\" for cf in cat_cols]"
   ]
  },
  {
   "cell_type": "code",
   "execution_count": 11,
   "metadata": {},
   "outputs": [
    {
     "data": {
      "text/plain": [
       "((458913, 1650), (924621, 1649))"
      ]
     },
     "execution_count": 11,
     "metadata": {},
     "output_type": "execute_result"
    }
   ],
   "source": [
    "df_train.shape, df_test.shape"
   ]
  },
  {
   "cell_type": "code",
   "execution_count": 12,
   "metadata": {
    "scrolled": true
   },
   "outputs": [],
   "source": [
    "rcols = ['P_2','B_9','D_44','D_48','B_2','B_1','B_11','B_37','B_3','B_18','R_1','D_41','S_23','S_3','B_4',\n",
    "         'R_2','B_7','D_41','D_39','D_48']\n",
    "\n",
    "for col in [f\"{cf}_last\" for cf in rcols]:\n",
    "    try:\n",
    "        df_train['round_'+col] = df_train[col].round(2)\n",
    "        df_test['round_'+col] = df_test[col].round(2)\n",
    "    except:\n",
    "        pass"
   ]
  },
  {
   "cell_type": "code",
   "execution_count": 13,
   "metadata": {},
   "outputs": [
    {
     "data": {
      "text/plain": [
       "((458913, 1668), (924621, 1667))"
      ]
     },
     "execution_count": 13,
     "metadata": {},
     "output_type": "execute_result"
    }
   ],
   "source": [
    "df_train.shape, df_test.shape"
   ]
  },
  {
   "cell_type": "code",
   "execution_count": 14,
   "metadata": {},
   "outputs": [],
   "source": [
    "def add_stats(data, feats, type_col):\n",
    "    \n",
    "    cols = feats\n",
    "    data[type_col+'_f_min']   = data[cols].fillna(0).min(axis = 1).round(2)\n",
    "    data[type_col+'_f_max']   = data[cols].fillna(0).max(axis = 1).round(2)\n",
    "    data[type_col+'_f_mean']  = data[cols].fillna(0).mean(axis = 1).round(2)\n",
    "    data[type_col+'_f_sd']    = data[cols].fillna(0).std(axis = 1).round(2)\n",
    "    data[type_col+'_f_sum']   = data[cols].fillna(0).sum(axis = 1).round(2)\n",
    "    data[type_col+'_f_skew']  = data[cols].fillna(0).skew(axis = 1).round(2)\n",
    "    data[type_col+'_f_gtone']  = data[cols].gt(1).sum(axis=1)\n",
    "    data[type_col+'_f_gttwo']  = data[cols].gt(2).sum(axis=1)\n",
    "    data[type_col+'_f_gtfour']  = data[cols].gt(4).sum(axis=1)\n",
    "    data[type_col+'_f_gteight']  = data[cols].gt(8).sum(axis=1)\n",
    "    data[type_col+'_f_gtsixteen']  = data[cols].gt(16).sum(axis=1)\n",
    "    data[type_col+'_f_meanone_meandiff'] = (data[type_col+'_f_sum']/data[type_col+'_f_gtone']-data[type_col+'_f_mean'])\n",
    "    data[type_col+'_f_meantwo_meandiff'] = (data[type_col+'_f_sum']/data[type_col+'_f_gttwo']-data[type_col+'_f_mean'])\n",
    "    data[type_col+'_f_meanfour_meandiff'] = (data[type_col+'_f_sum']/data[type_col+'_f_gtfour']-data[type_col+'_f_mean'])\n",
    "    data[type_col+'_f_meaneight_meandiff'] = (data[type_col+'_f_sum']/data[type_col+'_f_gteight']-data[type_col+'_f_mean'])\n",
    "    data[type_col+'_f_meansixteen_meandiff'] = (data[type_col+'_f_sum']/data[type_col+'_f_gtsixteen']-data[type_col+'_f_mean'])\n",
    "    \n",
    "    data = data.drop([type_col+'_f_gtone',type_col+'_f_gttwo',\n",
    "                      type_col+'_f_gtfour',type_col+'_f_gteight',type_col+'_f_gtsixteen'], axis=1)\n",
    "    \n",
    "    return data"
   ]
  },
  {
   "cell_type": "code",
   "execution_count": 15,
   "metadata": {
    "scrolled": true
   },
   "outputs": [
    {
     "data": {
      "text/plain": [
       "((458913, 1679), (924621, 1678))"
      ]
     },
     "execution_count": 15,
     "metadata": {},
     "output_type": "execute_result"
    }
   ],
   "source": [
    "typecol = 'last'\n",
    "df_train = add_stats(df_train, [col for col in num_cols if 'last' in col and col not in cat_features], typecol)\n",
    "df_test = add_stats(df_test, [col for col in num_cols if 'last' in col and col not in cat_features], typecol)\n",
    "\n",
    "df_train.shape, df_test.shape"
   ]
  },
  {
   "cell_type": "code",
   "execution_count": 16,
   "metadata": {},
   "outputs": [
    {
     "data": {
      "text/plain": [
       "((458913, 1690), (924621, 1689))"
      ]
     },
     "execution_count": 16,
     "metadata": {},
     "output_type": "execute_result"
    }
   ],
   "source": [
    "typecol = 'round'\n",
    "df_train = add_stats(df_train,[col for col in num_cols if 'round_' in col and col not in cat_features],typecol)\n",
    "df_test = add_stats(df_test,[col for col in num_cols if 'round_' in col and col not in cat_features],typecol)\n",
    "\n",
    "df_train.shape, df_test.shape"
   ]
  },
  {
   "cell_type": "code",
   "execution_count": 17,
   "metadata": {},
   "outputs": [
    {
     "data": {
      "text/plain": [
       "((458913, 1701), (924621, 1700))"
      ]
     },
     "execution_count": 17,
     "metadata": {},
     "output_type": "execute_result"
    }
   ],
   "source": [
    "typecol = 'mean'\n",
    "df_train = add_stats(df_train, [col for col in num_cols if 'mean' in col and col not in cat_features],typecol)\n",
    "df_test = add_stats(df_test, [col for col in num_cols if 'mean' in col and col not in cat_features],typecol)\n",
    "\n",
    "df_train.shape, df_test.shape"
   ]
  },
  {
   "cell_type": "code",
   "execution_count": 18,
   "metadata": {},
   "outputs": [
    {
     "data": {
      "text/plain": [
       "((458913, 1712), (924621, 1711))"
      ]
     },
     "execution_count": 18,
     "metadata": {},
     "output_type": "execute_result"
    }
   ],
   "source": [
    "typecol = 'min'\n",
    "df_train = add_stats(df_train, [col for col in num_cols if 'min' in col and col not in cat_features],typecol)\n",
    "df_test = add_stats(df_test, [col for col in num_cols if 'min' in col and col not in cat_features],typecol)\n",
    "\n",
    "df_train.shape, df_test.shape"
   ]
  },
  {
   "cell_type": "code",
   "execution_count": 19,
   "metadata": {},
   "outputs": [
    {
     "data": {
      "text/plain": [
       "((458913, 1723), (924621, 1722))"
      ]
     },
     "execution_count": 19,
     "metadata": {},
     "output_type": "execute_result"
    }
   ],
   "source": [
    "typecol = 'max'\n",
    "df_train = add_stats(df_train, [col for col in num_cols if 'max' in col and col not in cat_features],typecol)\n",
    "df_test = add_stats(df_test, [col for col in num_cols if 'max' in col and col not in cat_features],typecol)\n",
    "\n",
    "df_train.shape, df_test.shape"
   ]
  },
  {
   "cell_type": "code",
   "execution_count": 20,
   "metadata": {},
   "outputs": [
    {
     "data": {
      "text/plain": [
       "((458913, 1723), (924621, 1722))"
      ]
     },
     "execution_count": 20,
     "metadata": {},
     "output_type": "execute_result"
    }
   ],
   "source": [
    "merge_date = False\n",
    "\n",
    "if merge_date:\n",
    "    \n",
    "    dt_trn = pd.read_parquet(CFG.input_dir + 'dt_trn.parquet')\n",
    "    df_train = df_train.merge(dt_trn, on='customer_ID', how='left')\n",
    "    \n",
    "    del dt_trn\n",
    "    gc.collect()\n",
    "    \n",
    "    dt_tst = pd.read_parquet(CFG.input_dir + 'dt_tst.parquet')\n",
    "    df_test = df_test.merge(dt_tst, on='customer_ID', how='left')\n",
    "    \n",
    "    del dt_tst, fcols\n",
    "    gc.collect()\n",
    "    \n",
    "df_train.shape, df_test.shape"
   ]
  },
  {
   "cell_type": "code",
   "execution_count": 21,
   "metadata": {},
   "outputs": [],
   "source": [
    "X_train = df_train.drop(['customer_ID'], axis=1)\n",
    "X_test = df_test.drop(['customer_ID'], axis=1)\n",
    "Y_train = df_train['target']"
   ]
  },
  {
   "cell_type": "code",
   "execution_count": 22,
   "metadata": {},
   "outputs": [],
   "source": [
    "for cat_col in [f\"{cf}_last\" for cf in cat_cols]:\n",
    "    encoder = LabelEncoder()\n",
    "    X_train[cat_col] = encoder.fit_transform(X_train[cat_col])\n",
    "    X_test[cat_col] = encoder.transform(X_test[cat_col])"
   ]
  },
  {
   "cell_type": "code",
   "execution_count": 23,
   "metadata": {},
   "outputs": [
    {
     "name": "stdout",
     "output_type": "stream",
     "text": [
      "188\n",
      "177\n"
     ]
    }
   ],
   "source": [
    "# Get the difference between last and mean\n",
    "# num_cols = [col for col in df_train.columns if 'last' in col]\n",
    "# num_cols = [col[:-5] for col in num_cols if 'round' not in col]\n",
    "\n",
    "num_cols = [col for col in df_train.columns if 'last' in col]\n",
    "num_cols = [col for col in num_cols if 'lag' not in col]\n",
    "num_cols = [col for col in num_cols if 'round' not in col]\n",
    "num_cols = [col for col in num_cols if 'last_f_' not in col]\n",
    "num_cols = [col[:-5] for col in num_cols]\n",
    "\n",
    "print(len(num_cols))\n",
    "l = 0\n",
    "for col in num_cols:\n",
    "    try:\n",
    "        X_train[f'{col}_last_mean_diff'] = X_train[f'{col}_last'] - X_train[f'{col}_mean']\n",
    "        X_test[f'{col}_last_mean_diff'] = X_test[f'{col}_last'] - X_test[f'{col}_mean']\n",
    "        X_train[f'{col}_last_first_R'] = X_train[f'{col}_last']/X_train[f'{col}_first']\n",
    "        X_test[f'{col}_last_first_R'] = X_test[f'{col}_last']/X_test[f'{col}_first']\n",
    "        X_train[f'{col}_last_mean_R'] = X_train[f'{col}_last']/X_train[f'{col}_mean']\n",
    "        X_test[f'{col}_last_mean_R'] = X_test[f'{col}_last']/X_test[f'{col}_mean']\n",
    "        X_train[f'{col}_last_max_diff'] = X_train[f'{col}_last'] - X_train[f'{col}_max']\n",
    "        X_test[f'{col}_last_max_diff'] = X_test[f'{col}_last'] - X_test[f'{col}_max']\n",
    "        X_train[f'{col}_last_max_R'] = X_train[f'{col}_last']/X_train[f'{col}_max']\n",
    "        X_test[f'{col}_last_max_R'] = X_test[f'{col}_last']/X_test[f'{col}_max']\n",
    "        X_train[f'{col}_max_mean_R'] = X_train[f'{col}_max']/X_train[f'{col}_mean']\n",
    "        X_test[f'{col}_max_mean_R'] = X_test[f'{col}_max']/X_test[f'{col}_mean']\n",
    "        l = l+1\n",
    "    except:\n",
    "        pass\n",
    "    \n",
    "print(l)"
   ]
  },
  {
   "cell_type": "code",
   "execution_count": 24,
   "metadata": {},
   "outputs": [
    {
     "data": {
      "text/plain": [
       "((458913, 2784), (924621, 2783))"
      ]
     },
     "execution_count": 24,
     "metadata": {},
     "output_type": "execute_result"
    }
   ],
   "source": [
    "X_train.shape, X_test.shape"
   ]
  },
  {
   "cell_type": "code",
   "execution_count": 25,
   "metadata": {},
   "outputs": [],
   "source": [
    "class DartEarlyStopping(object):\n",
    "    \"\"\"DartEarlyStopping\"\"\"\n",
    "\n",
    "    def __init__(self, data_name, monitor_metric, stopping_round):\n",
    "        self.data_name = data_name\n",
    "        self.monitor_metric = monitor_metric\n",
    "        self.stopping_round = stopping_round\n",
    "        self.best_score = None\n",
    "        self.best_model = None\n",
    "        self.best_score_list = []\n",
    "        self.best_iter = 0\n",
    "\n",
    "    def _is_higher_score(self, metric_score, is_higher_better):\n",
    "        if self.best_score is None:\n",
    "            return True\n",
    "        return (self.best_score < metric_score) if is_higher_better else (self.best_score > metric_score)\n",
    "\n",
    "    def _deepcopy(self, x):\n",
    "        return pickle.loads(pickle.dumps(x))\n",
    "\n",
    "    def __call__(self, env):\n",
    "        evals = env.evaluation_result_list\n",
    "        for data, metric, score, is_higher_better in evals:\n",
    "            if data != self.data_name or metric != self.monitor_metric:\n",
    "                continue\n",
    "            if not self._is_higher_score(score, is_higher_better):\n",
    "                if env.iteration - self.best_iter > self.stopping_round:\n",
    "                    eval_result_str = '\\t'.join([lgb.callback._format_eval_result(x) for x in self.best_score_list])\n",
    "                    lgb.basic._log_info(f\"Early stopping, best iteration is:\\n[{self.best_iter+1}]\\t{eval_result_str}\") \n",
    "                    lgb.basic._log_info(f\"You can get best model by \\\"DartEarlyStopping.best_model\\\"\")\n",
    "                    raise lgb.callback.EarlyStopException(self.best_iter, self.best_score_list)\n",
    "                return\n",
    "            self.best_model = self._deepcopy(env.model)\n",
    "            self.best_iter = env.iteration\n",
    "            self.best_score_list = evals\n",
    "            self.best_score = score\n",
    "            return\n",
    "        raise ValueError(\"monitoring metric not found\")\n",
    "        "
   ]
  },
  {
   "cell_type": "code",
   "execution_count": 26,
   "metadata": {},
   "outputs": [],
   "source": [
    "params = {\n",
    "    'objective': 'binary',\n",
    "    'boosting': 'dart',\n",
    "    'seed': CFG.seed,\n",
    "    'num_leaves': 100,\n",
    "    'learning_rate': 0.01,\n",
    "    'feature_fraction': 0.20,\n",
    "    'bagging_freq': 8,\n",
    "    'bagging_fraction': 0.40,\n",
    "    'n_jobs': -1,\n",
    "    'lambda_l2': 2,\n",
    "    'min_data_in_leaf': 40,\n",
    "    'verbose': -1,\n",
    "#     'metric': \"binary_logloss\", \n",
    "    'metric': 'amex_metric',\n",
    "#     'first_metric_only': True,\n",
    "    }"
   ]
  },
  {
   "cell_type": "code",
   "execution_count": 30,
   "metadata": {
    "scrolled": true
   },
   "outputs": [
    {
     "name": "stdout",
     "output_type": "stream",
     "text": [
      " \n",
      "--------------------------------------------------\n",
      "Training fold 0:-\n",
      "X_train shape: (407922, 2783)\n",
      "X_valid shape: (50991, 2783)\n",
      "X_test shape: (924621, 2783)\n",
      "Our fold 0 CV score is 0.8035082131354067\n",
      " \n",
      "--------------------------------------------------\n",
      "Training fold 1:-\n",
      "X_train shape: (407922, 2783)\n",
      "X_valid shape: (50991, 2783)\n",
      "X_test shape: (924621, 2783)\n",
      "Our fold 1 CV score is 0.8002827155503132\n",
      " \n",
      "--------------------------------------------------\n",
      "Training fold 2:-\n",
      "X_train shape: (407922, 2783)\n",
      "X_valid shape: (50991, 2783)\n",
      "X_test shape: (924621, 2783)\n",
      "Our fold 2 CV score is 0.8016446846574319\n",
      " \n",
      "--------------------------------------------------\n",
      "Training fold 3:-\n",
      "X_train shape: (407923, 2783)\n",
      "X_valid shape: (50990, 2783)\n",
      "X_test shape: (924621, 2783)\n",
      "Our fold 3 CV score is 0.7846536069416695\n",
      " \n",
      "--------------------------------------------------\n",
      "Training fold 4:-\n",
      "X_train shape: (407923, 2783)\n",
      "X_valid shape: (50990, 2783)\n",
      "X_test shape: (924621, 2783)\n",
      "Our fold 4 CV score is 0.8030119040168662\n",
      " \n",
      "--------------------------------------------------\n",
      "Training fold 5:-\n",
      "X_train shape: (407923, 2783)\n",
      "X_valid shape: (50990, 2783)\n",
      "X_test shape: (924621, 2783)\n",
      "Our fold 5 CV score is 0.7959912533988343\n",
      " \n",
      "--------------------------------------------------\n",
      "Training fold 6:-\n",
      "X_train shape: (407923, 2783)\n",
      "X_valid shape: (50990, 2783)\n",
      "X_test shape: (924621, 2783)\n",
      "Our fold 6 CV score is 0.7909846955529217\n",
      " \n",
      "--------------------------------------------------\n",
      "Training fold 7:-\n",
      "X_train shape: (407923, 2783)\n",
      "X_valid shape: (50990, 2783)\n",
      "X_test shape: (924621, 2783)\n",
      "Our fold 7 CV score is 0.7963684591008768\n",
      " \n",
      "--------------------------------------------------\n",
      "Training fold 8:-\n",
      "X_train shape: (407923, 2783)\n",
      "X_valid shape: (50990, 2783)\n",
      "X_test shape: (924621, 2783)\n",
      "Our fold 8 CV score is 0.7980767336497565\n"
     ]
    }
   ],
   "source": [
    "def lgb_amex_metric(y_pred, y_true):\n",
    "    y_true = y_true.get_label()\n",
    "    return 'amex_metric', amex_metric(y_true, y_pred), True\n",
    "\n",
    "# Create a numpy array to store test predictions\n",
    "test_predictions = np.zeros(len(X_test))\n",
    "# Create a numpy array to store out of folds predictions\n",
    "oof_predictions = np.zeros(len(X_train))\n",
    "\n",
    "kfold = StratifiedKFold(n_splits = CFG.n_folds, shuffle = True, random_state = CFG.seed)\n",
    "for fold, (trn_ind, val_ind) in enumerate(kfold.split(X_train, Y_train)):\n",
    "    \n",
    "#     if fold>4:\n",
    "    print(' ')\n",
    "    print('-'*50)\n",
    "    print(f'Training fold {fold}:-')\n",
    "\n",
    "    x_train, x_val = X_train.drop('target', axis=1).iloc[trn_ind], X_train.drop('target', axis=1).iloc[val_ind]\n",
    "    y_train, y_val = Y_train.iloc[trn_ind], Y_train.iloc[val_ind]\n",
    "\n",
    "    lgb_train = lgb.Dataset(x_train, y_train, categorical_feature = cat_features)\n",
    "    lgb_valid = lgb.Dataset(x_val, y_val, categorical_feature = cat_features)\n",
    "\n",
    "    print('X_train shape:', x_train.shape)\n",
    "    print('X_valid shape:', x_val.shape)\n",
    "    print('X_test shape:', X_test.shape)\n",
    "    \n",
    "#     if fold <= CFG.n_folds-1:\n",
    "    if fold>8:\n",
    "\n",
    "        des = DartEarlyStopping(\"valid_1\", \"amex_metric\", 750)\n",
    "    \n",
    "        model = lgb.train(\n",
    "            params = params,\n",
    "            train_set = lgb_train,\n",
    "            num_boost_round = 15000,\n",
    "            valid_sets = [lgb_train, lgb_valid],\n",
    "            verbose_eval = 1000,\n",
    "            feval = lgb_amex_metric,\n",
    "#             callbacks=[des],\n",
    "            )\n",
    "\n",
    "        # Save best model\n",
    "        joblib.dump(model, f'../src/models/BinaryModels/lgb_{CFG.mv}_dp{CFG.dpv}_fold{fold}_seed{CFG.seed}.pkl')\n",
    "\n",
    "    else:\n",
    "        with open(f'../src/models/BinaryModels/lgb_{CFG.mv}_dp{CFG.dpv}_fold{fold}_seed{CFG.seed}.pkl', 'rb') as f:\n",
    "            model = pickle.load(f)\n",
    "\n",
    "    # Predict validation\n",
    "    val_pred = model.predict(x_val)\n",
    "    # Add to out of folds array\n",
    "    oof_predictions[val_ind] = val_pred\n",
    "    # Predict the test set\n",
    "    test_pred = model.predict(X_test)\n",
    "    test_predictions += test_pred / CFG.n_folds\n",
    "    # Compute fold metric\n",
    "    score = amex_metric(y_val, val_pred)\n",
    "    print(f'Our fold {fold} CV score is {score}')\n",
    "    del x_train, x_val, y_train, y_val, lgb_train, lgb_valid\n",
    "    gc.collect()"
   ]
  },
  {
   "cell_type": "code",
   "execution_count": 31,
   "metadata": {},
   "outputs": [
    {
     "name": "stdout",
     "output_type": "stream",
     "text": [
      "Our out of folds CV score is 0.7973207780207017\n",
      "PREDs/lgb_v1_dpv59fold_seed42.csv\n"
     ]
    }
   ],
   "source": [
    "# Compute out of folds metric\n",
    "score = amex_metric(Y_train, oof_predictions)\n",
    "print(f'Our out of folds CV score is {score}')\n",
    "\n",
    "oof_filename = f'OOFs/oof_{CFG.mv}_dp{CFG.dpv}{CFG.n_folds}fold_seed{CFG.seed}.csv'\n",
    "tst_filename = f'PREDs/lgb_{CFG.mv}_dp{CFG.dpv}{CFG.n_folds}fold_seed{CFG.seed}.csv'\n",
    "\n",
    "# Create a dataframe to store out of folds predictions\n",
    "oof_df = pd.DataFrame({'customer_ID': df_train['customer_ID'], 'target': Y_train, 'prediction': oof_predictions})\n",
    "oof_df.to_csv(oof_filename, index = False)\n",
    "\n",
    "# Create a dataframe to store test prediction\n",
    "test_df = pd.DataFrame({'customer_ID': df_test['customer_ID'], 'prediction': test_predictions})\n",
    "test_df.to_csv(tst_filename, index = False)\n",
    "print(tst_filename)"
   ]
  },
  {
   "cell_type": "code",
   "execution_count": 29,
   "metadata": {},
   "outputs": [],
   "source": [
    "# !kaggle competitions submit -c amex-default-prediction -f cb_v2_dpv25fold_seed802.csv -m \"catboost with \\\n",
    "# 2008 feats CV 7952\""
   ]
  },
  {
   "cell_type": "code",
   "execution_count": null,
   "metadata": {},
   "outputs": [],
   "source": []
  }
 ],
 "metadata": {
  "kernelspec": {
   "display_name": "Python 3 (ipykernel)",
   "language": "python",
   "name": "python3"
  },
  "language_info": {
   "codemirror_mode": {
    "name": "ipython",
    "version": 3
   },
   "file_extension": ".py",
   "mimetype": "text/x-python",
   "name": "python",
   "nbconvert_exporter": "python",
   "pygments_lexer": "ipython3",
   "version": "3.8.12"
  }
 },
 "nbformat": 4,
 "nbformat_minor": 4
}
