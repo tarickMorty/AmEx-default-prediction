{
 "cells": [
  {
   "cell_type": "code",
   "execution_count": 1,
   "id": "a35485a2",
   "metadata": {},
   "outputs": [],
   "source": [
    "import numpy as np\n",
    "import pandas as pd\n",
    "from tqdm.auto import tqdm\n",
    "from sklearn.neighbors import KNeighborsRegressor\n",
    "from sklearn.neighbors import NearestNeighbors"
   ]
  },
  {
   "cell_type": "code",
   "execution_count": 2,
   "id": "fb5b6aec",
   "metadata": {},
   "outputs": [],
   "source": [
    "train = pd.read_parquet('../src/data/raw/train.parquet')\n",
    "train['monthyear'] = (pd.to_datetime(train['S_2']).dt.year.astype(str)+\n",
    "                      pd.to_datetime(train['S_2']).dt.month.map(\"{:02}\".format).astype(str))\n",
    "\n",
    "x = train.groupby(\"customer_ID\")['monthyear'].agg(['min','max','nunique'])"
   ]
  },
  {
   "cell_type": "code",
   "execution_count": 3,
   "id": "685fd75a",
   "metadata": {},
   "outputs": [],
   "source": [
    "test = pd.read_parquet('../src/data/raw/test.parquet')\n",
    "test['monthyear'] = (pd.to_datetime(test['S_2']).dt.year.astype(str)+\n",
    "                      pd.to_datetime(test['S_2']).dt.month.map(\"{:02}\".format).astype(str))\n",
    "\n",
    "y = test.groupby(\"customer_ID\")['monthyear'].agg(['min','max','nunique'])"
   ]
  },
  {
   "cell_type": "code",
   "execution_count": 4,
   "id": "fcf33e59",
   "metadata": {},
   "outputs": [],
   "source": [
    "imp = ['P_2','S_3','D_43','B_3','B_4']\n",
    "sub_train = train[['customer_ID']+imp]\n",
    "sub_test = test[['customer_ID']+imp]\n",
    "\n",
    "sub_train = sub_train.merge(x.drop(['min','max'], axis=1), on='customer_ID')\n",
    "sub_test = sub_test.merge(y.drop(['min','max'], axis=1), on='customer_ID')"
   ]
  },
  {
   "cell_type": "code",
   "execution_count": 5,
   "id": "1d766dec",
   "metadata": {},
   "outputs": [],
   "source": [
    "def recall_knn(df, Neighbors = 12):\n",
    "    \n",
    "    print('Start knn grouped by user data')\n",
    "    \n",
    "    train_df_user = []\n",
    "    df = df.fillna(10.0)\n",
    "    fdf = df[df['nunique']==13]\n",
    "    imp = ['P_2','S_3','D_43','B_3','B_4']\n",
    "\n",
    "    for usercrd, usercrd_df in tqdm(df.groupby('nunique')):\n",
    "\n",
    "        if usercrd<13:\n",
    "            usercrd_df = usercrd_df.reset_index(drop = True)\n",
    "            neighbors = max(13-usercrd, 1)\n",
    "            knn = KNeighborsRegressor(n_neighbors = neighbors,\n",
    "                                        metric = 'euclidean',\n",
    "                                        n_jobs = -1)\n",
    "\n",
    "            knn.fit(fdf[imp], fdf.index)\n",
    "            dists, nears = knn.kneighbors(usercrd_df[imp], n_neighbors=neighbors)\n",
    "\n",
    "            for k in range(neighbors):            \n",
    "                cur_df = usercrd_df[['customer_ID']]\n",
    "                cur_df['match_id'] = fdf['customer_ID'].values[nears[:, k]]\n",
    "                train_df_user.append(cur_df)\n",
    "\n",
    "    train_df_user = pd.concat(train_df_user)\n",
    "    \n",
    "    return train_df_user"
   ]
  },
  {
   "cell_type": "code",
   "execution_count": null,
   "id": "85e1eeb5",
   "metadata": {
    "scrolled": true
   },
   "outputs": [
    {
     "name": "stdout",
     "output_type": "stream",
     "text": [
      "Start knn grouped by user data\n"
     ]
    },
    {
     "data": {
      "application/vnd.jupyter.widget-view+json": {
       "model_id": "67dff5e4a827491ea272350710790cc7",
       "version_major": 2,
       "version_minor": 0
      },
      "text/plain": [
       "HBox(children=(HTML(value=''), FloatProgress(value=0.0, max=13.0), HTML(value='')))"
      ]
     },
     "metadata": {},
     "output_type": "display_data"
    },
    {
     "name": "stderr",
     "output_type": "stream",
     "text": [
      "/tmp/ipykernel_20431/352935070.py:24: SettingWithCopyWarning: \n",
      "A value is trying to be set on a copy of a slice from a DataFrame.\n",
      "Try using .loc[row_indexer,col_indexer] = value instead\n",
      "\n",
      "See the caveats in the documentation: https://pandas.pydata.org/pandas-docs/stable/user_guide/indexing.html#returning-a-view-versus-a-copy\n",
      "  cur_df['match_id'] = fdf['customer_ID'].values[nears[:, k]]\n",
      "/tmp/ipykernel_20431/352935070.py:24: SettingWithCopyWarning: \n",
      "A value is trying to be set on a copy of a slice from a DataFrame.\n",
      "Try using .loc[row_indexer,col_indexer] = value instead\n",
      "\n",
      "See the caveats in the documentation: https://pandas.pydata.org/pandas-docs/stable/user_guide/indexing.html#returning-a-view-versus-a-copy\n",
      "  cur_df['match_id'] = fdf['customer_ID'].values[nears[:, k]]\n",
      "/tmp/ipykernel_20431/352935070.py:24: SettingWithCopyWarning: \n",
      "A value is trying to be set on a copy of a slice from a DataFrame.\n",
      "Try using .loc[row_indexer,col_indexer] = value instead\n",
      "\n",
      "See the caveats in the documentation: https://pandas.pydata.org/pandas-docs/stable/user_guide/indexing.html#returning-a-view-versus-a-copy\n",
      "  cur_df['match_id'] = fdf['customer_ID'].values[nears[:, k]]\n",
      "/tmp/ipykernel_20431/352935070.py:24: SettingWithCopyWarning: \n",
      "A value is trying to be set on a copy of a slice from a DataFrame.\n",
      "Try using .loc[row_indexer,col_indexer] = value instead\n",
      "\n",
      "See the caveats in the documentation: https://pandas.pydata.org/pandas-docs/stable/user_guide/indexing.html#returning-a-view-versus-a-copy\n",
      "  cur_df['match_id'] = fdf['customer_ID'].values[nears[:, k]]\n"
     ]
    }
   ],
   "source": [
    "train_matches = recall_knn(sub_train)"
   ]
  },
  {
   "cell_type": "code",
   "execution_count": null,
   "id": "ce6e5e75",
   "metadata": {},
   "outputs": [],
   "source": [
    "train_matches.to_parquet('../src/data/processed/train_match.parquet')"
   ]
  },
  {
   "cell_type": "code",
   "execution_count": null,
   "id": "9c839d46",
   "metadata": {},
   "outputs": [],
   "source": [
    "test_matches = recall_knn(sub_test)"
   ]
  },
  {
   "cell_type": "code",
   "execution_count": null,
   "id": "51c043a2",
   "metadata": {},
   "outputs": [],
   "source": [
    "test_matches.to_parquet('../src/data/processed/test_match.parquet')"
   ]
  },
  {
   "cell_type": "code",
   "execution_count": null,
   "id": "9b6377eb",
   "metadata": {},
   "outputs": [],
   "source": []
  },
  {
   "cell_type": "code",
   "execution_count": null,
   "id": "1cd1cac5",
   "metadata": {},
   "outputs": [],
   "source": []
  },
  {
   "cell_type": "code",
   "execution_count": null,
   "id": "52f3a853",
   "metadata": {},
   "outputs": [],
   "source": []
  }
 ],
 "metadata": {
  "kernelspec": {
   "display_name": "Python 3 (ipykernel)",
   "language": "python",
   "name": "python3"
  },
  "language_info": {
   "codemirror_mode": {
    "name": "ipython",
    "version": 3
   },
   "file_extension": ".py",
   "mimetype": "text/x-python",
   "name": "python",
   "nbconvert_exporter": "python",
   "pygments_lexer": "ipython3",
   "version": "3.8.12"
  }
 },
 "nbformat": 4,
 "nbformat_minor": 5
}
