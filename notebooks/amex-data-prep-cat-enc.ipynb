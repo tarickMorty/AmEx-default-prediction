{
 "cells": [
  {
   "cell_type": "code",
   "execution_count": 1,
   "metadata": {},
   "outputs": [],
   "source": [
    "import fastFM as fm\n",
    "from fastFM import als"
   ]
  },
  {
   "cell_type": "code",
   "execution_count": 2,
   "metadata": {
    "execution": {
     "iopub.execute_input": "2022-08-07T06:08:55.379396Z",
     "iopub.status.busy": "2022-08-07T06:08:55.378107Z",
     "iopub.status.idle": "2022-08-07T06:08:55.412431Z",
     "shell.execute_reply": "2022-08-07T06:08:55.411149Z",
     "shell.execute_reply.started": "2022-08-07T06:08:55.379267Z"
    }
   },
   "outputs": [],
   "source": [
    "import numpy as np\n",
    "import pandas as pd\n",
    "import os\n",
    "pd.options.display.max_rows = 500\n",
    "pd.options.display.max_columns = 500"
   ]
  },
  {
   "cell_type": "code",
   "execution_count": 3,
   "metadata": {
    "execution": {
     "iopub.execute_input": "2022-08-07T06:08:55.415365Z",
     "iopub.status.busy": "2022-08-07T06:08:55.414595Z",
     "iopub.status.idle": "2022-08-07T06:08:58.401412Z",
     "shell.execute_reply": "2022-08-07T06:08:58.399724Z",
     "shell.execute_reply.started": "2022-08-07T06:08:55.415313Z"
    }
   },
   "outputs": [
    {
     "data": {
      "text/html": [
       "<style type='text/css'>\n",
       ".datatable table.frame { margin-bottom: 0; }\n",
       ".datatable table.frame thead { border-bottom: none; }\n",
       ".datatable table.frame tr.coltypes td {  color: #FFFFFF;  line-height: 6px;  padding: 0 0.5em;}\n",
       ".datatable .bool    { background: #DDDD99; }\n",
       ".datatable .object  { background: #565656; }\n",
       ".datatable .int     { background: #5D9E5D; }\n",
       ".datatable .float   { background: #4040CC; }\n",
       ".datatable .str     { background: #CC4040; }\n",
       ".datatable .time    { background: #40CC40; }\n",
       ".datatable .row_index {  background: var(--jp-border-color3);  border-right: 1px solid var(--jp-border-color0);  color: var(--jp-ui-font-color3);  font-size: 9px;}\n",
       ".datatable .frame tbody td { text-align: left; }\n",
       ".datatable .frame tr.coltypes .row_index {  background: var(--jp-border-color0);}\n",
       ".datatable th:nth-child(2) { padding-left: 12px; }\n",
       ".datatable .hellipsis {  color: var(--jp-cell-editor-border-color);}\n",
       ".datatable .vellipsis {  background: var(--jp-layout-color0);  color: var(--jp-cell-editor-border-color);}\n",
       ".datatable .na {  color: var(--jp-cell-editor-border-color);  font-size: 80%;}\n",
       ".datatable .sp {  opacity: 0.25;}\n",
       ".datatable .footer { font-size: 9px; }\n",
       ".datatable .frame_dimensions {  background: var(--jp-border-color3);  border-top: 1px solid var(--jp-border-color0);  color: var(--jp-ui-font-color3);  display: inline-block;  opacity: 0.6;  padding: 1px 10px 1px 5px;}\n",
       "</style>\n"
      ],
      "text/plain": [
       "<IPython.core.display.HTML object>"
      ]
     },
     "metadata": {},
     "output_type": "display_data"
    }
   ],
   "source": [
    "import gc\n",
    "from math import sqrt\n",
    "import lightgbm as lgb\n",
    "from sklearn.metrics import roc_auc_score\n",
    "from sklearn.model_selection import train_test_split\n",
    "\n",
    "import math as mt\n",
    "from math import *\n",
    "import matplotlib as mlp\n",
    "import matplotlib.pyplot as plt\n",
    "\n",
    "from sklearn.model_selection import KFold, StratifiedKFold, train_test_split\n",
    "import seaborn as sns\n",
    "from tqdm import tqdm\n",
    "\n",
    "from sklearn.linear_model import LinearRegression\n",
    "from sklearn.preprocessing import OneHotEncoder\n",
    "from sklearn.preprocessing import LabelEncoder\n",
    "from sklearn.model_selection import cross_val_predict\n",
    "\n",
    "import joblib\n",
    "import random\n",
    "import itertools\n",
    "import scipy as sp\n",
    "\n",
    "from itertools import combinations\n",
    "import warnings; warnings.filterwarnings('ignore')"
   ]
  },
  {
   "cell_type": "code",
   "execution_count": 4,
   "metadata": {},
   "outputs": [],
   "source": [
    "cat_cols = ['B_30','B_38','D_114','D_116','D_117','D_120','D_126','D_63','D_64','D_66','D_68']"
   ]
  },
  {
   "cell_type": "code",
   "execution_count": 5,
   "metadata": {},
   "outputs": [],
   "source": [
    "# cat_feats = []\n",
    "# for col in cat_cols:\n",
    "#     for i in range(1, 14):\n",
    "#         if i==1 or i==13:\n",
    "#             cat_feats.append(col+'_'+('{:0>2}'.format(i)))\n",
    "    \n",
    "cat_feats = []\n",
    "for col in cat_cols:\n",
    "    for i in range(1, 14):\n",
    "        cat_feats.append(col+'_'+('{:0>2}'.format(i)))"
   ]
  },
  {
   "cell_type": "code",
   "execution_count": 6,
   "metadata": {},
   "outputs": [
    {
     "data": {
      "text/plain": [
       "((458913, 2446), (924621, 2445))"
      ]
     },
     "execution_count": 6,
     "metadata": {},
     "output_type": "execute_result"
    }
   ],
   "source": [
    "train = pd.read_parquet('../src/data/processed/train_v4.parquet')\n",
    "test = pd.read_parquet('../src/data/processed/test_v4.parquet')\n",
    "train.shape, test.shape"
   ]
  },
  {
   "cell_type": "code",
   "execution_count": 7,
   "metadata": {},
   "outputs": [
    {
     "data": {
      "text/plain": [
       "((458913, 145), (924621, 144))"
      ]
     },
     "execution_count": 7,
     "metadata": {},
     "output_type": "execute_result"
    }
   ],
   "source": [
    "train = train[['customer_ID','target']+cat_feats]\n",
    "test = test[['customer_ID']+cat_feats]\n",
    "\n",
    "train.shape, test.shape"
   ]
  },
  {
   "cell_type": "code",
   "execution_count": 8,
   "metadata": {},
   "outputs": [],
   "source": [
    "def amex_metric(y_true, y_pred):\n",
    "    labels = np.transpose(np.array([y_true, y_pred]))\n",
    "    labels = labels[labels[:, 1].argsort()[::-1]]\n",
    "    weights = np.where(labels[:,0]==0, 20, 1)\n",
    "    cut_vals = labels[np.cumsum(weights) <= int(0.04 * np.sum(weights))]\n",
    "    top_four = np.sum(cut_vals[:,0]) / np.sum(labels[:,0])\n",
    "    gini = [0,0]\n",
    "    for i in [1,0]:\n",
    "        labels = np.transpose(np.array([y_true, y_pred]))\n",
    "        labels = labels[labels[:, i].argsort()[::-1]]\n",
    "        weight = np.where(labels[:,0]==0, 20, 1)\n",
    "        weight_random = np.cumsum(weight / np.sum(weight))\n",
    "        total_pos = np.sum(labels[:, 0] *  weight)\n",
    "        cum_pos_found = np.cumsum(labels[:, 0] * weight)\n",
    "        lorentz = cum_pos_found / total_pos\n",
    "        gini[i] = np.sum((lorentz - weight_random) * weight)\n",
    "    return 0.5 * (gini[1]/gini[0] + top_four)"
   ]
  },
  {
   "cell_type": "code",
   "execution_count": 9,
   "metadata": {
    "scrolled": true
   },
   "outputs": [
    {
     "name": "stdout",
     "output_type": "stream",
     "text": [
      "Generate Cat Enc for 10 to 11...\n",
      "Starting training on new fold!\n",
      "Train Amex Metric:  0.326300355803056\n",
      "Test Amex Metric:  0.5000724527391337\n",
      "Starting training on new fold!\n",
      "Train Amex Metric:  0.3269636003135296\n",
      "Test Amex Metric:  0.4910618001999941\n",
      "Starting training on new fold!\n",
      "Train Amex Metric:  0.3268041056363672\n",
      "Test Amex Metric:  0.49445133415450343\n",
      "Starting training on new fold!\n",
      "Train Amex Metric:  0.3268058930392428\n",
      "Test Amex Metric:  0.494867114573044\n",
      "Starting training on new fold!\n",
      "Train Amex Metric:  0.3265202959997591\n",
      "Test Amex Metric:  0.4939829265829222\n",
      "\n",
      "\n",
      "Generate Cat Enc for 10 to 12...\n",
      "Starting training on new fold!\n",
      "Train Amex Metric:  0.3324976580902837\n",
      "Test Amex Metric:  0.5091010966522647\n",
      "Starting training on new fold!\n",
      "Train Amex Metric:  0.33309664511093584\n",
      "Test Amex Metric:  0.5035805776760375\n",
      "Starting training on new fold!\n",
      "Train Amex Metric:  0.33311286776458504\n",
      "Test Amex Metric:  0.5033823937980614\n",
      "Starting training on new fold!\n",
      "Train Amex Metric:  0.33313696796716535\n",
      "Test Amex Metric:  0.5030268626326837\n",
      "Starting training on new fold!\n",
      "Train Amex Metric:  0.33246968892819695\n",
      "Test Amex Metric:  0.503519234997736\n",
      "\n",
      "\n",
      "Generate Cat Enc for 10 to 13...\n",
      "Starting training on new fold!\n",
      "Train Amex Metric:  0.33744905613772963\n",
      "Test Amex Metric:  0.5161834882422487\n",
      "Starting training on new fold!\n",
      "Train Amex Metric:  0.33795133587264203\n",
      "Test Amex Metric:  0.5098648956916052\n",
      "Starting training on new fold!\n",
      "Train Amex Metric:  0.3379143174631474\n",
      "Test Amex Metric:  0.5101562199485603\n",
      "Starting training on new fold!\n",
      "Train Amex Metric:  0.33795268003787604\n",
      "Test Amex Metric:  0.510875315259644\n",
      "Starting training on new fold!\n",
      "Train Amex Metric:  0.33749807593099457\n",
      "Test Amex Metric:  0.5103763331373069\n",
      "\n",
      "\n",
      "Generate Cat Enc for 10 to 14...\n",
      "Starting training on new fold!\n",
      "Train Amex Metric:  0.3417104329840099\n",
      "Test Amex Metric:  0.5236774330901732\n",
      "Starting training on new fold!\n",
      "Train Amex Metric:  0.34178248856322047\n",
      "Test Amex Metric:  0.5164116368126122\n",
      "Starting training on new fold!\n",
      "Train Amex Metric:  0.3417851909433366\n",
      "Test Amex Metric:  0.5185900281156401\n",
      "Starting training on new fold!\n",
      "Train Amex Metric:  0.3417223491526581\n",
      "Test Amex Metric:  0.5209077731150444\n",
      "Starting training on new fold!\n",
      "Train Amex Metric:  0.34156806104489057\n",
      "Test Amex Metric:  0.5204425283272468\n",
      "\n",
      "\n"
     ]
    }
   ],
   "source": [
    "for l in range(0, 4):\n",
    "        \n",
    "    start = 10\n",
    "    end = l\n",
    "    cat_feats = []\n",
    "    print(f'Generate Cat Enc for {start} to {start+end+1}...')\n",
    "    \n",
    "    for col in cat_cols:\n",
    "        for i in range(start, start+end+1):\n",
    "            cat_feats.append(col+'_'+('{:0>2}'.format(i)))\n",
    "\n",
    "    merged = train[['customer_ID']+cat_feats].append(test[['customer_ID']+cat_feats])\n",
    "\n",
    "    categorical_indices = np.array([True for col in cat_feats])\n",
    "    encoder = OneHotEncoder(drop='if_binary', dtype=np.int8, sparse=True)\n",
    "    encoder.fit(merged[cat_feats])\n",
    "    x = encoder.transform(train[cat_feats])\n",
    "\n",
    "    target = 'target'\n",
    "    num_folds = 5\n",
    "    kf = StratifiedKFold(n_splits = num_folds, shuffle=True, random_state = 42)\n",
    "    kf.get_n_splits(train)\n",
    "    test_submit = encoder.transform(test[cat_feats])\n",
    "    train['pred_fm'+str(start)+'_'+str(end)] = 0\n",
    "\n",
    "    for i, (train_index, test_index) in zip(range(1, num_folds+1), kf.split(train, train[target])):\n",
    "\n",
    "        X_train = train.loc[train_index,cat_feats]\n",
    "        X_test = train.loc[test_index,cat_feats]\n",
    "        y_train = train.loc[train_index,target]\n",
    "        y_test = train.loc[test_index,target]\n",
    "        y_train = y_train.astype(int).values.squeeze()\n",
    "        y_test = y_test.astype(int).values.squeeze()\n",
    "        y_train[y_train == 0] = -1\n",
    "\n",
    "        X_train = encoder.transform(X_train)\n",
    "        X_test = encoder.transform(X_test)\n",
    "\n",
    "        print('Starting training on new fold!')\n",
    "        z = als.FMClassification(l2_reg_w=25, l2_reg_V=300, rank=16, n_iter=25)\n",
    "        z.fit(X_train, y_train)\n",
    "\n",
    "        y_pred_train = z.predict_proba(X_train)\n",
    "        y_pred_test = z.predict_proba(X_test)\n",
    "\n",
    "        test['pred_fm_' + str(i)] = z.predict_proba(test_submit)\n",
    "        train['pred_fm'+str(start)+'_'+str(end)][test_index] = y_pred_test\n",
    "\n",
    "        print('Train Amex Metric: ', amex_metric(y_train, y_pred_train))\n",
    "        print('Test Amex Metric: ', amex_metric(y_test, y_pred_test))\n",
    "\n",
    "\n",
    "    test['pred_fm'+str(start)+'_'+str(end)] = 0\n",
    "    for i in range(1, num_folds+1):\n",
    "        test['pred_fm'+str(start)+'_'+str(end)] = test['pred_fm'+str(start)+'_'+str(end)] + test['pred_fm_'+str(i)]\n",
    "\n",
    "    test['pred_fm'+str(start)+'_'+str(end)] = test['pred_fm'+str(start)+'_'+str(end)]/float(num_folds)\n",
    "    test.drop(['pred_fm_1','pred_fm_2','pred_fm_3','pred_fm_4','pred_fm_5'], inplace=True,axis=1)\n",
    "    \n",
    "    print('\\n')"
   ]
  },
  {
   "cell_type": "code",
   "execution_count": 10,
   "metadata": {},
   "outputs": [],
   "source": [
    "f = ['pred_fm10_0', 'pred_fm10_1', 'pred_fm10_2', 'pred_fm10_3','customer_ID']"
   ]
  },
  {
   "cell_type": "code",
   "execution_count": 11,
   "metadata": {},
   "outputs": [
    {
     "data": {
      "text/plain": [
       "(0.5570119925521408, 0.4946824319585269)"
      ]
     },
     "execution_count": 11,
     "metadata": {},
     "output_type": "execute_result"
    }
   ],
   "source": [
    "train['pred_fm10_0'].corr(train['target']), amex_metric(train['target'], train['pred_fm10_0'])"
   ]
  },
  {
   "cell_type": "code",
   "execution_count": 12,
   "metadata": {},
   "outputs": [
    {
     "data": {
      "text/plain": [
       "(0.5679039625760062, 0.5042788124786834)"
      ]
     },
     "execution_count": 12,
     "metadata": {},
     "output_type": "execute_result"
    }
   ],
   "source": [
    "train['pred_fm10_1'].corr(train['target']), amex_metric(train['target'], train['pred_fm10_1'])"
   ]
  },
  {
   "cell_type": "code",
   "execution_count": 13,
   "metadata": {},
   "outputs": [
    {
     "data": {
      "text/plain": [
       "(0.5770494637679908, 0.5111781447515893)"
      ]
     },
     "execution_count": 13,
     "metadata": {},
     "output_type": "execute_result"
    }
   ],
   "source": [
    "train['pred_fm10_2'].corr(train['target']), amex_metric(train['target'], train['pred_fm10_2'])"
   ]
  },
  {
   "cell_type": "code",
   "execution_count": 14,
   "metadata": {},
   "outputs": [
    {
     "data": {
      "text/plain": [
       "(0.5857289791040782, 0.5198454259385028)"
      ]
     },
     "execution_count": 14,
     "metadata": {},
     "output_type": "execute_result"
    }
   ],
   "source": [
    "train['pred_fm10_3'].corr(train['target']), amex_metric(train['target'], train['pred_fm10_3'])"
   ]
  },
  {
   "cell_type": "code",
   "execution_count": 15,
   "metadata": {},
   "outputs": [],
   "source": [
    "train[f].to_parquet('../src/data/processed/train_cat_enc_5fold_seed42.parquet')"
   ]
  },
  {
   "cell_type": "code",
   "execution_count": 16,
   "metadata": {},
   "outputs": [],
   "source": [
    "test[f].to_parquet('../src/data/processed/test_cat_enc_5fold_seed42.parquet')"
   ]
  }
 ],
 "metadata": {
  "kernelspec": {
   "display_name": "Python 3 (ipykernel)",
   "language": "python",
   "name": "python3"
  },
  "language_info": {
   "codemirror_mode": {
    "name": "ipython",
    "version": 3
   },
   "file_extension": ".py",
   "mimetype": "text/x-python",
   "name": "python",
   "nbconvert_exporter": "python",
   "pygments_lexer": "ipython3",
   "version": "3.8.12"
  }
 },
 "nbformat": 4,
 "nbformat_minor": 4
}
