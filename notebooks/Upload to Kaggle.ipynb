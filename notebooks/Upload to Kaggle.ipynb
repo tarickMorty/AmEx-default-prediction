{
 "cells": [
  {
   "cell_type": "code",
   "execution_count": null,
   "id": "de82f3c5",
   "metadata": {},
   "outputs": [],
   "source": [
    "!kaggle datasets version -p OOFs/ -m \"Your message here\""
   ]
  },
  {
   "cell_type": "code",
   "execution_count": null,
   "id": "5f105cf8",
   "metadata": {},
   "outputs": [],
   "source": [
    "kaggle datasets version -p PREDs/ -m \"Your message here\""
   ]
  },
  {
   "cell_type": "code",
   "execution_count": 2,
   "id": "5b9e7fbd",
   "metadata": {},
   "outputs": [
    {
     "name": "stdout",
     "output_type": "stream",
     "text": [
      "Data package template written to: OOFs/dataset-metadata.json\r\n"
     ]
    }
   ],
   "source": [
    "!kaggle datasets init -p OOFs/"
   ]
  },
  {
   "cell_type": "code",
   "execution_count": 4,
   "id": "170232ef",
   "metadata": {
    "scrolled": false
   },
   "outputs": [
    {
     "name": "stdout",
     "output_type": "stream",
     "text": [
      "Starting upload for file oof_v5_dpv25fold_seed76.csv\n",
      "100%|██████████████████████████████████████| 38.2M/38.2M [00:05<00:00, 6.70MB/s]\n",
      "Upload successful: oof_v5_dpv25fold_seed76.csv (38MB)\n",
      "Starting upload for file oof_v2_dpv25fold_seed42.csv\n",
      "100%|██████████████████████████████████████| 38.3M/38.3M [00:05<00:00, 7.50MB/s]\n",
      "Upload successful: oof_v2_dpv25fold_seed42.csv (38MB)\n",
      "Starting upload for file oof_lgbm_baseline_5fold_seed42.csv\n",
      "100%|██████████████████████████████████████| 38.2M/38.2M [00:05<00:00, 7.95MB/s]\n",
      "Upload successful: oof_lgbm_baseline_5fold_seed42.csv (38MB)\n",
      "Starting upload for file oof_v2_5fold_seed98.csv\n",
      "100%|██████████████████████████████████████| 38.3M/38.3M [00:04<00:00, 8.65MB/s]\n",
      "Upload successful: oof_v2_5fold_seed98.csv (38MB)\n",
      "Starting upload for file oof_v1_dpv35fold_seed42.csv\n",
      "100%|██████████████████████████████████████| 38.3M/38.3M [00:05<00:00, 8.03MB/s]\n",
      "Upload successful: oof_v1_dpv35fold_seed42.csv (38MB)\n",
      "Starting upload for file oof_v1_dpv45fold_seed42.csv\n",
      "100%|██████████████████████████████████████| 38.2M/38.2M [00:05<00:00, 7.17MB/s]\n",
      "Upload successful: oof_v1_dpv45fold_seed42.csv (38MB)\n",
      "Starting upload for file cboof_v2_dpv25fold_seed802.csv\n",
      "100%|██████████████████████████████████████| 37.7M/37.7M [00:04<00:00, 8.35MB/s]\n",
      "Upload successful: cboof_v2_dpv25fold_seed802.csv (38MB)\n",
      "Starting upload for file oof_v1_dpv25fold_seed98.csv\n",
      "100%|██████████████████████████████████████| 38.2M/38.2M [00:05<00:00, 6.98MB/s]\n",
      "Upload successful: oof_v1_dpv25fold_seed98.csv (38MB)\n",
      "Starting upload for file oof_v4_dpv25fold_seed42.csv\n",
      "100%|██████████████████████████████████████| 38.2M/38.2M [00:05<00:00, 7.83MB/s]\n",
      "Upload successful: oof_v4_dpv25fold_seed42.csv (38MB)\n",
      "Starting upload for file oof_v3_dpv25fold_seed42.csv\n",
      "100%|██████████████████████████████████████| 38.4M/38.4M [00:06<00:00, 6.33MB/s]\n",
      "Upload successful: oof_v3_dpv25fold_seed42.csv (38MB)\n",
      "Your private Dataset is being created. Please check progress at https://www.kaggle.com/datasets/tarique7/amex-oofs\n"
     ]
    }
   ],
   "source": [
    "!kaggle datasets create -p OOFs/"
   ]
  },
  {
   "cell_type": "code",
   "execution_count": 3,
   "id": "d80501b5",
   "metadata": {},
   "outputs": [
    {
     "name": "stdout",
     "output_type": "stream",
     "text": [
      "Data package template written to: PREDs/dataset-metadata.json\r\n"
     ]
    }
   ],
   "source": [
    "!kaggle datasets init -p PREDs/"
   ]
  },
  {
   "cell_type": "code",
   "execution_count": 5,
   "id": "894d5436",
   "metadata": {},
   "outputs": [
    {
     "name": "stdout",
     "output_type": "stream",
     "text": [
      "Starting upload for file lgb_v2_5fold_seed98.csv\n",
      "100%|██████████████████████████████████████| 75.3M/75.3M [00:06<00:00, 12.0MB/s]\n",
      "Upload successful: lgb_v2_5fold_seed98.csv (75MB)\n",
      "Starting upload for file lgb_v4_dpv25fold_seed42.csv\n",
      "100%|██████████████████████████████████████| 75.3M/75.3M [00:06<00:00, 11.8MB/s]\n",
      "Upload successful: lgb_v4_dpv25fold_seed42.csv (75MB)\n",
      "Starting upload for file lgb_v2_dpv25fold_seed42.csv\n",
      "100%|██████████████████████████████████████| 75.3M/75.3M [00:06<00:00, 11.6MB/s]\n",
      "Upload successful: lgb_v2_dpv25fold_seed42.csv (75MB)\n",
      "Starting upload for file lgb_v1_dpv45fold_seed42.csv\n",
      "100%|██████████████████████████████████████| 75.2M/75.2M [00:06<00:00, 12.0MB/s]\n",
      "Upload successful: lgb_v1_dpv45fold_seed42.csv (75MB)\n",
      "Starting upload for file cb_v2_dpv25fold_seed802.csv\n",
      "100%|██████████████████████████████████████| 74.2M/74.2M [00:06<00:00, 11.2MB/s]\n",
      "Upload successful: cb_v2_dpv25fold_seed802.csv (74MB)\n",
      "Starting upload for file test_lgbm_baseline_5fold_seed42.csv\n",
      "100%|██████████████████████████████████████| 75.2M/75.2M [00:07<00:00, 10.9MB/s]\n",
      "Upload successful: test_lgbm_baseline_5fold_seed42.csv (75MB)\n",
      "Starting upload for file lgb_v3_dpv25fold_seed42.csv\n",
      "100%|██████████████████████████████████████| 75.5M/75.5M [00:08<00:00, 9.85MB/s]\n",
      "Upload successful: lgb_v3_dpv25fold_seed42.csv (76MB)\n",
      "Starting upload for file lgb_v1_dpv35fold_seed42.csv\n",
      "100%|██████████████████████████████████████| 75.4M/75.4M [00:06<00:00, 11.4MB/s]\n",
      "Upload successful: lgb_v1_dpv35fold_seed42.csv (75MB)\n",
      "Starting upload for file lgb_v5_dpv25fold_seed76.csv\n",
      "100%|██████████████████████████████████████| 75.3M/75.3M [00:07<00:00, 9.94MB/s]\n",
      "Upload successful: lgb_v5_dpv25fold_seed76.csv (75MB)\n",
      "Starting upload for file lgb_v1_dpv25fold_seed98.csv\n",
      "100%|██████████████████████████████████████| 75.3M/75.3M [00:07<00:00, 10.6MB/s]\n",
      "Upload successful: lgb_v1_dpv25fold_seed98.csv (75MB)\n",
      "Your private Dataset is being created. Please check progress at https://www.kaggle.com/datasets/tarique7/amex-preds\n"
     ]
    }
   ],
   "source": [
    "!kaggle datasets create -p PREDs/"
   ]
  },
  {
   "cell_type": "code",
   "execution_count": null,
   "id": "47f6e1e6",
   "metadata": {},
   "outputs": [],
   "source": []
  }
 ],
 "metadata": {
  "kernelspec": {
   "display_name": "Python 3 (ipykernel)",
   "language": "python",
   "name": "python3"
  },
  "language_info": {
   "codemirror_mode": {
    "name": "ipython",
    "version": 3
   },
   "file_extension": ".py",
   "mimetype": "text/x-python",
   "name": "python",
   "nbconvert_exporter": "python",
   "pygments_lexer": "ipython3",
   "version": "3.8.12"
  }
 },
 "nbformat": 4,
 "nbformat_minor": 5
}
