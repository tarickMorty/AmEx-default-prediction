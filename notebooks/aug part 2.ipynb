{
 "cells": [
  {
   "cell_type": "code",
   "execution_count": 1,
   "id": "acb2859b",
   "metadata": {},
   "outputs": [],
   "source": [
    "import pandas as pd\n",
    "import numpy as np"
   ]
  },
  {
   "cell_type": "code",
   "execution_count": 14,
   "id": "27cef002",
   "metadata": {
    "scrolled": true
   },
   "outputs": [],
   "source": [
    "train = pd.read_parquet('../src/data/raw/train.parquet')\n",
    "features = train.drop('customer_ID', axis=1).columns.to_list()\n",
    "train = train.groupby(\"customer_ID\")[features].agg(['first'])\n",
    "\n",
    "train.columns = features\n",
    "train = train.reset_index()"
   ]
  },
  {
   "cell_type": "code",
   "execution_count": 15,
   "id": "6d242042",
   "metadata": {
    "scrolled": true
   },
   "outputs": [],
   "source": [
    "tm = pd.read_parquet('../src/data/processed/trn_match.parquet').reset_index(drop=True)"
   ]
  },
  {
   "cell_type": "code",
   "execution_count": 33,
   "id": "09af7bd0",
   "metadata": {},
   "outputs": [],
   "source": [
    "df = tm.rename(columns={'customer_ID':'cid'}).merge(train, left_on='match_id', right_on='customer_ID')\n",
    "df = df.drop(['match_id','customer_ID'], axis=1)\n",
    "df = df.rename(columns={'cid':'customer_ID'})"
   ]
  },
  {
   "cell_type": "code",
   "execution_count": 34,
   "id": "f9f6d1c3",
   "metadata": {},
   "outputs": [],
   "source": [
    "rn = [1,2,3,4,5,6,7,8,9,10,11,12]\n",
    "dates = ['2017-02-01','2017-02-02','2017-02-03','2017-02-04','2017-02-05','2017-02-06',\n",
    "        '2017-02-07','2017-02-08','2017-02-09','2017-02-10','2017-02-11','2017-02-12']\n",
    "date_updater = pd.DataFrame.from_dict({'rn':rn, 'S_2':dates})"
   ]
  },
  {
   "cell_type": "code",
   "execution_count": 35,
   "id": "b6955606",
   "metadata": {},
   "outputs": [],
   "source": [
    "df['rn'] = df.groupby(['customer_ID']).cumcount()+1\n",
    "df = df.drop('S_2', axis=1).merge(date_updater, on='rn')\n",
    "df = df.drop('rn', axis=1)\n",
    "df = df[['customer_ID']+features]"
   ]
  },
  {
   "cell_type": "code",
   "execution_count": 39,
   "id": "72414b80",
   "metadata": {},
   "outputs": [],
   "source": [
    "df.to_parquet('../src/data/raw/aug_trn.parquet')"
   ]
  },
  {
   "cell_type": "code",
   "execution_count": 40,
   "id": "51fe3c98",
   "metadata": {},
   "outputs": [],
   "source": [
    "del train, tm, df"
   ]
  },
  {
   "cell_type": "code",
   "execution_count": 41,
   "id": "1ecdb0dc",
   "metadata": {},
   "outputs": [],
   "source": [
    "test = pd.read_parquet('../src/data/raw/test.parquet')\n",
    "test = test.groupby(\"customer_ID\")[features].agg(['first'])\n",
    "\n",
    "test.columns = features\n",
    "test = test.reset_index()\n",
    "\n",
    "# test['monthyear'] = (pd.to_datetime(test['S_2']).dt.year.astype(str)+\n",
    "#                       pd.to_datetime(test['S_2']).dt.month.map(\"{:02}\".format).astype(str))\n",
    "\n",
    "# l = test.groupby(\"customer_ID\")['monthyear'].agg(['nunique'])"
   ]
  },
  {
   "cell_type": "code",
   "execution_count": 42,
   "id": "dc2e216e",
   "metadata": {},
   "outputs": [],
   "source": [
    "# tm = pd.read_parquet('../src/data/processed/test_match.parquet').reset_index(drop=True)\n",
    "# tm = tm.merge(l, on='customer_ID')\n",
    "# tm['rownum'] = tm.groupby(['customer_ID']).cumcount()+1\n",
    "# tm['check'] = tm['nunique'] + tm['rownum']\n",
    "# tm = tm.drop('rownum', axis=1)\n",
    "# tm = tm[(tm['check']<=13)].drop(['nunique','check'], axis=1)"
   ]
  },
  {
   "cell_type": "code",
   "execution_count": 43,
   "id": "2526cb51",
   "metadata": {},
   "outputs": [],
   "source": [
    "# tm.to_parquet('tst_match.parquet')\n",
    "tm = pd.read_parquet('../src/data/processed/tst_match.parquet').reset_index(drop=True)"
   ]
  },
  {
   "cell_type": "code",
   "execution_count": 44,
   "id": "45f90372",
   "metadata": {},
   "outputs": [],
   "source": [
    "df = tm.rename(columns={'customer_ID':'cid'}).merge(test, left_on='match_id', right_on='customer_ID')\n",
    "df = df.drop(['match_id','customer_ID'], axis=1)\n",
    "df = df.rename(columns={'cid':'customer_ID'})"
   ]
  },
  {
   "cell_type": "code",
   "execution_count": 45,
   "id": "9c1916eb",
   "metadata": {},
   "outputs": [],
   "source": [
    "df['rn'] = df.groupby(['customer_ID']).cumcount()+1\n",
    "df = df.drop('S_2', axis=1).merge(date_updater, on='rn')\n",
    "df = df.drop('rn', axis=1)\n",
    "df = df[['customer_ID']+features]"
   ]
  },
  {
   "cell_type": "code",
   "execution_count": 46,
   "id": "d5b43337",
   "metadata": {},
   "outputs": [
    {
     "data": {
      "text/plain": [
       "(656311, 190)"
      ]
     },
     "execution_count": 46,
     "metadata": {},
     "output_type": "execute_result"
    }
   ],
   "source": [
    "df.shape"
   ]
  },
  {
   "cell_type": "code",
   "execution_count": 52,
   "id": "fd5e156f",
   "metadata": {},
   "outputs": [],
   "source": [
    "df.to_parquet('../src/data/raw/aug_tst.parquet')"
   ]
  },
  {
   "cell_type": "code",
   "execution_count": null,
   "id": "12a0685c",
   "metadata": {},
   "outputs": [],
   "source": []
  }
 ],
 "metadata": {
  "kernelspec": {
   "display_name": "Python 3 (ipykernel)",
   "language": "python",
   "name": "python3"
  },
  "language_info": {
   "codemirror_mode": {
    "name": "ipython",
    "version": 3
   },
   "file_extension": ".py",
   "mimetype": "text/x-python",
   "name": "python",
   "nbconvert_exporter": "python",
   "pygments_lexer": "ipython3",
   "version": "3.8.12"
  }
 },
 "nbformat": 4,
 "nbformat_minor": 5
}
