{
 "cells": [
  {
   "cell_type": "code",
   "execution_count": 2,
   "metadata": {
    "colab": {
     "base_uri": "https://localhost:8080/"
    },
    "executionInfo": {
     "elapsed": 14,
     "status": "ok",
     "timestamp": 1660499153378,
     "user": {
      "displayName": "N150762 GOPI DURGAPRASAD",
      "userId": "09525390218886483305"
     },
     "user_tz": -330
    },
    "id": "hzbOI2o4Fj-1",
    "outputId": "de9d0bad-765f-4c53-c64c-a99117384bef"
   },
   "outputs": [
    {
     "data": {
      "text/plain": [
       "8"
      ]
     },
     "execution_count": 2,
     "metadata": {},
     "output_type": "execute_result"
    }
   ],
   "source": [
    "import multiprocessing\n",
    "multiprocessing.cpu_count()"
   ]
  },
  {
   "cell_type": "code",
   "execution_count": 3,
   "metadata": {
    "colab": {
     "base_uri": "https://localhost:8080/"
    },
    "executionInfo": {
     "elapsed": 9,
     "status": "ok",
     "timestamp": 1660499153379,
     "user": {
      "displayName": "N150762 GOPI DURGAPRASAD",
      "userId": "09525390218886483305"
     },
     "user_tz": -330
    },
    "id": "sgUTxbrEFuQA",
    "outputId": "222b716a-0dd0-4960-8b10-d1c68e3d8b4f"
   },
   "outputs": [
    {
     "data": {
      "text/plain": [
       "8"
      ]
     },
     "execution_count": 3,
     "metadata": {},
     "output_type": "execute_result"
    }
   ],
   "source": [
    "import psutil\n",
    "psutil.cpu_count()"
   ]
  },
  {
   "cell_type": "markdown",
   "metadata": {
    "id": "I0hTXW_k6l8u"
   },
   "source": [
    "## Imports"
   ]
  },
  {
   "cell_type": "code",
   "execution_count": 1,
   "metadata": {
    "executionInfo": {
     "elapsed": 3159,
     "status": "ok",
     "timestamp": 1660502827024,
     "user": {
      "displayName": "N150762 GOPI DURGAPRASAD",
      "userId": "09525390218886483305"
     },
     "user_tz": -330
    },
    "id": "7dppn2J-6lU-"
   },
   "outputs": [],
   "source": [
    "import os\n",
    "import gc\n",
    "import sys\n",
    "import glob\n",
    "import json\n",
    "import random\n",
    "import joblib\n",
    "import itertools\n",
    "\n",
    "import numpy as np\n",
    "import pandas as pd\n",
    "\n",
    "import matplotlib.pylab as plt\n",
    "import seaborn as sns\n",
    "\n",
    "from functools import reduce\n",
    "from tqdm.auto import tqdm\n",
    "from itertools import cycle\n",
    "\n",
    "from scipy import stats\n",
    "\n",
    "from sklearn import metrics\n",
    "from sklearn import model_selection\n",
    "from sklearn import preprocessing\n",
    "from sklearn import linear_model\n",
    "from sklearn import ensemble\n",
    "from sklearn import decomposition\n",
    "from sklearn import tree\n",
    "from sklearn import feature_selection\n",
    "\n",
    "import warnings\n",
    "warnings.filterwarnings(\"ignore\")\n",
    "\n",
    "import lightgbm as lgb\n",
    "import xgboost as xgb\n",
    "\n",
    "pd.set_option(\"display.max_columns\", None)\n",
    "\n",
    "plt.style.use(\"ggplot\")\n",
    "color_pal = plt.rcParams[\"axes.prop_cycle\"].by_key()[\"color\"]\n",
    "color_cycle = cycle(plt.rcParams[\"axes.prop_cycle\"].by_key()[\"color\"])"
   ]
  },
  {
   "cell_type": "code",
   "execution_count": 3,
   "metadata": {
    "executionInfo": {
     "elapsed": 4,
     "status": "ok",
     "timestamp": 1660502827024,
     "user": {
      "displayName": "N150762 GOPI DURGAPRASAD",
      "userId": "09525390218886483305"
     },
     "user_tz": -330
    },
    "id": "_UI1rti4qIuT"
   },
   "outputs": [],
   "source": [
    "def amex_metric(y_true, y_pred):\n",
    "    labels = np.transpose(np.array([y_true, y_pred]))\n",
    "    labels = labels[labels[:, 1].argsort()[::-1]]\n",
    "    weights = np.where(labels[:,0]==0, 20, 1)\n",
    "    cut_vals = labels[np.cumsum(weights) <= int(0.04 * np.sum(weights))]\n",
    "    top_four = np.sum(cut_vals[:,0]) / np.sum(labels[:,0])\n",
    "    gini = [0,0]\n",
    "    for i in [1,0]:\n",
    "        labels = np.transpose(np.array([y_true, y_pred]))\n",
    "        labels = labels[labels[:, i].argsort()[::-1]]\n",
    "        weight = np.where(labels[:,0]==0, 20, 1)\n",
    "        weight_random = np.cumsum(weight / np.sum(weight))\n",
    "        total_pos = np.sum(labels[:, 0] *  weight)\n",
    "        cum_pos_found = np.cumsum(labels[:, 0] * weight)\n",
    "        lorentz = cum_pos_found / total_pos\n",
    "        gini[i] = np.sum((lorentz - weight_random) * weight)\n",
    "    return 0.5 * (gini[1]/gini[0] + top_four)"
   ]
  },
  {
   "cell_type": "code",
   "execution_count": 4,
   "metadata": {
    "executionInfo": {
     "elapsed": 5,
     "status": "ok",
     "timestamp": 1660502827025,
     "user": {
      "displayName": "N150762 GOPI DURGAPRASAD",
      "userId": "09525390218886483305"
     },
     "user_tz": -330
    },
    "id": "-NX8rwDCqLp7"
   },
   "outputs": [],
   "source": [
    "def lgb_amex_metric(y_pred, y_true):\n",
    "    y_true = y_true.get_label()\n",
    "    return 'amex_metric', amex_metric(y_true, y_pred), True"
   ]
  },
  {
   "cell_type": "code",
   "execution_count": 5,
   "metadata": {
    "executionInfo": {
     "elapsed": 5,
     "status": "ok",
     "timestamp": 1660502827025,
     "user": {
      "displayName": "N150762 GOPI DURGAPRASAD",
      "userId": "09525390218886483305"
     },
     "user_tz": -330
    },
    "id": "7mtHxGuuqM5C"
   },
   "outputs": [],
   "source": [
    "def seed_everything(seed):\n",
    "    random.seed(seed)\n",
    "    np.random.seed(seed)\n",
    "    os.environ['PYTHONHASHSEED'] = str(seed)"
   ]
  },
  {
   "cell_type": "code",
   "execution_count": 6,
   "metadata": {
    "executionInfo": {
     "elapsed": 5,
     "status": "ok",
     "timestamp": 1660502827025,
     "user": {
      "displayName": "N150762 GOPI DURGAPRASAD",
      "userId": "09525390218886483305"
     },
     "user_tz": -330
    },
    "id": "Q0qMINc2VMeK"
   },
   "outputs": [],
   "source": [
    "def get_P_2_buckets(df, nfolds=5):\n",
    "    \"\"\"\n",
    "    CV stabilization trick 2.\n",
    "    Create buckets to stratify train set by P_2_LST | TARGET values.\n",
    "    Help to reduce noise on hold-out CV.\n",
    "    \"\"\"\n",
    "    df = df[['P_2_last', 'target']].copy()\n",
    "    df = df.sort_values(by='P_2_last', ascending=False)\\\n",
    "    .reset_index().rename({'index':'row_id'}, axis=1)\n",
    "\n",
    "    buckets = np.zeros(df.shape[0])\n",
    "\n",
    "    p0, p1, ind = 0, 0, 0\n",
    "    for i in range(df.shape[0]):\n",
    "        buckets[i] = ind\n",
    "        p0 += np.int8(df.loc[i, 'target'] == 0)\n",
    "        p1 += np.int8(df.loc[i, 'target'] == 1)\n",
    "        if p0 >= nfolds and p1 >= nfolds:\n",
    "            ind += 1\n",
    "            p0, p1 = 0, 0\n",
    "\n",
    "    df.loc[:, 'bucket_id'] = buckets\n",
    "\n",
    "    df.loc[df.loc[:, 'P_2_last'].isnull(), 'bucket_id'] = -1\n",
    "    df.loc[df.loc[:, 'bucket_id'] == 0, 'bucket_id'] = 1\n",
    "    df.loc[df.loc[:, 'bucket_id'] == np.max(df.loc[:, 'bucket_id']), 'bucket_id'] = np.max(df.loc[:, 'bucket_id']) - 1\n",
    "\n",
    "    df = df.sort_values(by='row_id', ascending=True).reset_index(drop=True)\n",
    "    \n",
    "    return np.int64(df.loc[:, 'bucket_id'] + df.loc[:, 'target']*10**6) "
   ]
  },
  {
   "cell_type": "markdown",
   "metadata": {
    "id": "YHzrw7mWqdLb"
   },
   "source": [
    "## Config"
   ]
  },
  {
   "cell_type": "code",
   "execution_count": 7,
   "metadata": {
    "executionInfo": {
     "elapsed": 806,
     "status": "ok",
     "timestamp": 1660502832178,
     "user": {
      "displayName": "N150762 GOPI DURGAPRASAD",
      "userId": "09525390218886483305"
     },
     "user_tz": -330
    },
    "id": "AyG1V4-_qbuD"
   },
   "outputs": [],
   "source": [
    "class cfg:\n",
    "    exp_name = \"new_feats\"\n",
    "    oof_dir = \"OOFs\"\n",
    "    pred_dir = \"PREDs\"\n",
    "    seed = 4242\n",
    "    n_folds = 5\n",
    "    target = 'target'\n",
    "    save_oof = os.path.join(oof_dir, exp_name)\n",
    "    save_pred = os.path.join(pred_dir, exp_name)\n",
    "\n",
    "os.makedirs(cfg.save_oof, exist_ok = True)\n",
    "os.makedirs(cfg.save_pred, exist_ok = True)"
   ]
  },
  {
   "cell_type": "markdown",
   "metadata": {
    "id": "-H3DggxQVvbx"
   },
   "source": [
    "## Loading Data"
   ]
  },
  {
   "cell_type": "code",
   "execution_count": 8,
   "metadata": {
    "executionInfo": {
     "elapsed": 11994,
     "status": "ok",
     "timestamp": 1660502845848,
     "user": {
      "displayName": "N150762 GOPI DURGAPRASAD",
      "userId": "09525390218886483305"
     },
     "user_tz": -330
    },
    "id": "itZic_lrVr2u"
   },
   "outputs": [],
   "source": [
    "train_df = pd.read_feather(\"input/feature_engg_v2/sammy_top_pp_sq.f\")"
   ]
  },
  {
   "cell_type": "markdown",
   "metadata": {
    "id": "7KHvlAESWlFv"
   },
   "source": [
    "## Model"
   ]
  },
  {
   "cell_type": "code",
   "execution_count": 9,
   "metadata": {
    "colab": {
     "base_uri": "https://localhost:8080/"
    },
    "executionInfo": {
     "elapsed": 9,
     "status": "ok",
     "timestamp": 1660502845848,
     "user": {
      "displayName": "N150762 GOPI DURGAPRASAD",
      "userId": "09525390218886483305"
     },
     "user_tz": -330
    },
    "id": "ADqcWNbiWc2B",
    "outputId": "19b16bda-c042-4230-fded-d183475e67fb"
   },
   "outputs": [
    {
     "data": {
      "text/plain": [
       "(3858, 11)"
      ]
     },
     "execution_count": 9,
     "metadata": {},
     "output_type": "execute_result"
    }
   ],
   "source": [
    "cat_features = [\n",
    "    \"B_30\",\n",
    "    \"B_38\",\n",
    "    \"D_114\",\n",
    "    \"D_116\",\n",
    "    \"D_117\",\n",
    "    \"D_120\",\n",
    "    \"D_126\",\n",
    "    \"D_63\",\n",
    "    \"D_64\",\n",
    "    \"D_66\",\n",
    "    \"D_68\",\n",
    "]\n",
    "\n",
    "cat_features = [f\"{cf}_last\" for cf in cat_features]\n",
    "features = [col for col in train_df.columns if col not in ['customer_ID', cfg.target]]\n",
    "cat_features = [col for col in cat_features if col in features]\n",
    "features.__len__(), cat_features.__len__()"
   ]
  },
  {
   "cell_type": "code",
   "execution_count": 10,
   "metadata": {
    "executionInfo": {
     "elapsed": 6,
     "status": "ok",
     "timestamp": 1660502845848,
     "user": {
      "displayName": "N150762 GOPI DURGAPRASAD",
      "userId": "09525390218886483305"
     },
     "user_tz": -330
    },
    "id": "WEAtKYLeWoim"
   },
   "outputs": [],
   "source": [
    "# params = {\n",
    "#     'objective': 'binary',\n",
    "#     #'metric': \"binary_logloss\",\n",
    "#     'boosting': 'dart',\n",
    "#     'seed': cfg.seed,\n",
    "#     'num_leaves': 100,\n",
    "#     'learning_rate': 0.01,\n",
    "#     'feature_fraction': 0.20,\n",
    "#     'bagging_freq': 10,\n",
    "#     'bagging_fraction': 0.50,\n",
    "#     'n_jobs': -1,\n",
    "#     'lambda_l2': 2,\n",
    "#     'min_data_in_leaf': 40,\n",
    "#     'metric' : 'amex_metric'\n",
    "# }"
   ]
  },
  {
   "cell_type": "code",
   "execution_count": 11,
   "metadata": {
    "executionInfo": {
     "elapsed": 7,
     "status": "ok",
     "timestamp": 1660502845849,
     "user": {
      "displayName": "N150762 GOPI DURGAPRASAD",
      "userId": "09525390218886483305"
     },
     "user_tz": -330
    },
    "id": "ybN-6TXlfTy2"
   },
   "outputs": [],
   "source": [
    "params = {\n",
    "    \"drop_rate\": 0.035677,\n",
    "    \"skip_drop\": 0.5,\n",
    "    \"max_drop\": 50,\n",
    "    \"uniform_drop\": False,\n",
    "    \"colsample_bytree\": 0.01935038,\n",
    "    \"reg_alpha\": 0.08525348,\n",
    "    \"reg_lambda\": 56.13959031,\n",
    "    \"learning_rate\": 0.01,\n",
    "    \"max_depth\": -1,\n",
    "    \"min_child_samples\": 40,\n",
    "    \"min_split_gain\": 0,\n",
    "    \"min_child_weight\": 0.01,\n",
    "    \"num_leaves\": 63,\n",
    "    \"max_bin\": 1000,\n",
    "    \"subsample\": 0.85107051,\n",
    "    \"pos_bagging_fraction\": 1,\n",
    "    \"neg_bagging_fraction\": 1,\n",
    "    \"subsample_freq\": 3,\n",
    "    \"save_binary\": True,\n",
    "    \"seed\": 42,\n",
    "    \"feature_fraction_seed\": 42,\n",
    "    \"bagging_seed\": 42,\n",
    "    \"drop_seed\": 42,\n",
    "    \"data_random_seed\": 42,\n",
    "    \"objective\": 'binary',\n",
    "    \"boosting_type\": 'dart',\n",
    "    \"verbose\": -1,\n",
    "    \"metric\": 'amex_metric',\n",
    "    \"is_unbalance\": True,\n",
    "    \"boost_from_average\": True,\n",
    "    \"n_jobs\": -1\n",
    "}"
   ]
  },
  {
   "cell_type": "code",
   "execution_count": 12,
   "metadata": {
    "executionInfo": {
     "elapsed": 17152,
     "status": "ok",
     "timestamp": 1660502862995,
     "user": {
      "displayName": "N150762 GOPI DURGAPRASAD",
      "userId": "09525390218886483305"
     },
     "user_tz": -330
    },
    "id": "5tmI2avGWtaK"
   },
   "outputs": [],
   "source": [
    "bucket_id = get_P_2_buckets(train_df, nfolds=cfg.n_folds)"
   ]
  },
  {
   "cell_type": "code",
   "execution_count": 13,
   "metadata": {
    "colab": {
     "base_uri": "https://localhost:8080/"
    },
    "executionInfo": {
     "elapsed": 10129651,
     "status": "ok",
     "timestamp": 1660545092645,
     "user": {
      "displayName": "N150762 GOPI DURGAPRASAD",
      "userId": "09525390218886483305"
     },
     "user_tz": -330
    },
    "id": "AvTU_lUCWw1U",
    "outputId": "cbca32f3-74f7-48dd-fb5c-784b2eb982ee"
   },
   "outputs": [
    {
     "name": "stdout",
     "output_type": "stream",
     "text": [
      " \n",
      "--------------------------------------------------\n",
      "Training fold 0 with 3858 features...\n",
      "iteration 0, score= 0.61908, max_score= 0.75000\n",
      "[500]\tvalid_0's amex_metric: 0.752423\n",
      "iteration 500, score= 0.75248, max_score= 0.75242\n",
      "[1000]\tvalid_0's amex_metric: 0.765194\n",
      "iteration 1000, score= 0.76519, max_score= 0.76519\n",
      "[1500]\tvalid_0's amex_metric: 0.771493\n",
      "iteration 1500, score= 0.77151, max_score= 0.77166\n",
      "[2000]\tvalid_0's amex_metric: 0.775901\n",
      "iteration 2000, score= 0.77618, max_score= 0.77620\n",
      "[2500]\tvalid_0's amex_metric: 0.779879\n",
      "iteration 2500, score= 0.78001, max_score= 0.78012\n",
      "[3000]\tvalid_0's amex_metric: 0.784738\n",
      "iteration 3000, score= 0.78474, max_score= 0.78475\n",
      "[3500]\tvalid_0's amex_metric: 0.786014\n",
      "iteration 3500, score= 0.78599, max_score= 0.78606\n",
      "[4000]\tvalid_0's amex_metric: 0.787386\n",
      "iteration 4000, score= 0.78739, max_score= 0.78748\n",
      "[4500]\tvalid_0's amex_metric: 0.788234\n",
      "iteration 4500, score= 0.78813, max_score= 0.78835\n",
      "[5000]\tvalid_0's amex_metric: 0.788981\n",
      "iteration 5000, score= 0.78892, max_score= 0.78906\n",
      "[5500]\tvalid_0's amex_metric: 0.790206\n",
      "iteration 5500, score= 0.79025, max_score= 0.79041\n",
      "[6000]\tvalid_0's amex_metric: 0.791254\n",
      "iteration 6000, score= 0.79125, max_score= 0.79141\n",
      "[6500]\tvalid_0's amex_metric: 0.792037\n",
      "iteration 6500, score= 0.79191, max_score= 0.79216\n",
      "[7000]\tvalid_0's amex_metric: 0.792599\n",
      "iteration 7000, score= 0.79268, max_score= 0.79279\n",
      "[7500]\tvalid_0's amex_metric: 0.793179\n",
      "iteration 7500, score= 0.79324, max_score= 0.79357\n",
      "[8000]\tvalid_0's amex_metric: 0.793379\n",
      "iteration 8000, score= 0.79338, max_score= 0.79387\n",
      "[8500]\tvalid_0's amex_metric: 0.793684\n",
      "iteration 8500, score= 0.79368, max_score= 0.79395\n",
      "[9000]\tvalid_0's amex_metric: 0.794018\n",
      "iteration 9000, score= 0.79402, max_score= 0.79408\n",
      "[9500]\tvalid_0's amex_metric: 0.79401\n",
      "iteration 9500, score= 0.79405, max_score= 0.79436\n",
      "[10000]\tvalid_0's amex_metric: 0.79413\n",
      "iteration 10000, score= 0.79413, max_score= 0.79444\n",
      "[10500]\tvalid_0's amex_metric: 0.794042\n",
      "iteration 10500, score= 0.79404, max_score= 0.79463\n",
      "[11000]\tvalid_0's amex_metric: 0.794208\n",
      "iteration 11000, score= 0.79421, max_score= 0.79463\n",
      "[11500]\tvalid_0's amex_metric: 0.794276\n",
      "iteration 11500, score= 0.79419, max_score= 0.79463\n",
      "[12000]\tvalid_0's amex_metric: 0.795023\n",
      "iteration 12000, score= 0.79500, max_score= 0.79509\n",
      "[12500]\tvalid_0's amex_metric: 0.795568\n",
      "iteration 12500, score= 0.79553, max_score= 0.79574\n",
      "[13000]\tvalid_0's amex_metric: 0.794516\n",
      "iteration 13000, score= 0.79452, max_score= 0.79574\n",
      "[13500]\tvalid_0's amex_metric: 0.794876\n",
      "iteration 13500, score= 0.79492, max_score= 0.79574\n",
      "[14000]\tvalid_0's amex_metric: 0.795275\n",
      "iteration 14000, score= 0.79525, max_score= 0.79574\n",
      "[14500]\tvalid_0's amex_metric: 0.795391\n",
      "iteration 14500, score= 0.79529, max_score= 0.79574\n",
      "[15000]\tvalid_0's amex_metric: 0.795693\n",
      "iteration 15000, score= 0.79569, max_score= 0.79611\n",
      "[15500]\tvalid_0's amex_metric: 0.796256\n",
      "iteration 15500, score= 0.79628, max_score= 0.79649\n",
      "[16000]\tvalid_0's amex_metric: 0.796266\n",
      "iteration 16000, score= 0.79627, max_score= 0.79662\n",
      "[16500]\tvalid_0's amex_metric: 0.796421\n",
      "iteration 16500, score= 0.79638, max_score= 0.79675\n",
      "[17000]\tvalid_0's amex_metric: 0.796178\n",
      "iteration 17000, score= 0.79616, max_score= 0.79675\n",
      "[17500]\tvalid_0's amex_metric: 0.796127\n",
      "iteration 17500, score= 0.79613, max_score= 0.79675\n",
      "[18000]\tvalid_0's amex_metric: 0.796169\n",
      "iteration 18000, score= 0.79617, max_score= 0.79675\n",
      "[18500]\tvalid_0's amex_metric: 0.796427\n",
      "iteration 18500, score= 0.79639, max_score= 0.79675\n",
      "[19000]\tvalid_0's amex_metric: 0.79702\n",
      "iteration 19000, score= 0.79704, max_score= 0.79715\n",
      "[19500]\tvalid_0's amex_metric: 0.797015\n",
      "iteration 19500, score= 0.79693, max_score= 0.79724\n",
      "[20000]\tvalid_0's amex_metric: 0.797047\n",
      "iteration 20000, score= 0.79707, max_score= 0.79724\n",
      "[20500]\tvalid_0's amex_metric: 0.79713\n",
      "iteration 20500, score= 0.79713, max_score= 0.79738\n",
      "[21000]\tvalid_0's amex_metric: 0.796799\n",
      "iteration 21000, score= 0.79686, max_score= 0.79738\n",
      "[21500]\tvalid_0's amex_metric: 0.797012\n",
      "iteration 21500, score= 0.79699, max_score= 0.79738\n",
      "[22000]\tvalid_0's amex_metric: 0.796682\n",
      "iteration 22000, score= 0.79668, max_score= 0.79738\n",
      "[22500]\tvalid_0's amex_metric: 0.796921\n",
      "iteration 22500, score= 0.79692, max_score= 0.79738\n",
      "[23000]\tvalid_0's amex_metric: 0.797026\n",
      "iteration 23000, score= 0.79703, max_score= 0.79741\n",
      "[23500]\tvalid_0's amex_metric: 0.79664\n",
      "iteration 23500, score= 0.79662, max_score= 0.79741\n",
      "[24000]\tvalid_0's amex_metric: 0.796461\n",
      "iteration 24000, score= 0.79650, max_score= 0.79741\n",
      "[24500]\tvalid_0's amex_metric: 0.796764\n",
      "iteration 24500, score= 0.79676, max_score= 0.79741\n",
      "[25000]\tvalid_0's amex_metric: 0.796824\n",
      "iteration 25000, score= 0.79680, max_score= 0.79741\n",
      "[25500]\tvalid_0's amex_metric: 0.796722\n",
      "iteration 25500, score= 0.79672, max_score= 0.79741\n",
      "[26000]\tvalid_0's amex_metric: 0.796614\n",
      "iteration 26000, score= 0.79672, max_score= 0.79741\n",
      "[26500]\tvalid_0's amex_metric: 0.796779\n",
      "iteration 26500, score= 0.79674, max_score= 0.79741\n",
      "[27000]\tvalid_0's amex_metric: 0.79742\n",
      "iteration 27000, score= 0.79744, max_score= 0.79748\n",
      "[27500]\tvalid_0's amex_metric: 0.796642\n",
      "iteration 27500, score= 0.79666, max_score= 0.79761\n",
      "[28000]\tvalid_0's amex_metric: 0.796973\n",
      "iteration 28000, score= 0.79697, max_score= 0.79761\n",
      "[28500]\tvalid_0's amex_metric: 0.797115\n",
      "iteration 28500, score= 0.79707, max_score= 0.79761\n",
      "[29000]\tvalid_0's amex_metric: 0.797041\n",
      "iteration 29000, score= 0.79704, max_score= 0.79761\n",
      "[29500]\tvalid_0's amex_metric: 0.797039\n",
      "iteration 29500, score= 0.79704, max_score= 0.79761\n",
      "[30000]\tvalid_0's amex_metric: 0.797033\n",
      "              Variables  Importance\n",
      "298            P_2_last        2633\n",
      "256           D_43_last        2221\n",
      "1359  D_48_last_lag_div        2172\n",
      "260            B_5_last        2145\n",
      "1765          B_1_diff1        2139\n",
      "228          D_46_first        2103\n",
      "3204         L4_P_2_min        2080\n",
      "3140   L4_D_43_quantile        2068\n",
      "1303   P_2_last_lag_sub        2001\n",
      "1647   D_43_L3Mquantile        1974\n",
      "362           B_14_last        1970\n",
      "1593       D_46_L3Mmean        1958\n",
      "3652          D_46_pred        1956\n",
      "1881        P_2_L3Mmean        1918\n",
      "3138       L4_D_43_mean        1912\n",
      "3668          B_11_pred        1910\n",
      "3640          D_39_pred        1909\n",
      "3474         L8_P_2_min        1904\n",
      "200       D_43_quantile        1904\n",
      "1597        D_43_L3Mstd        1883\n",
      "Fold 0 Best score : 0.7976076955044105\n",
      "Our fold 0 CV score is 0.7976076955044105\n",
      " \n",
      "--------------------------------------------------\n",
      "Training fold 1 with 3858 features...\n",
      "iteration 0, score= 0.62686, max_score= 0.75000\n",
      "[500]\tvalid_0's amex_metric: 0.755877\n",
      "iteration 500, score= 0.75568, max_score= 0.75588\n",
      "[1000]\tvalid_0's amex_metric: 0.767053\n",
      "iteration 1000, score= 0.76703, max_score= 0.76713\n",
      "[1500]\tvalid_0's amex_metric: 0.772619\n",
      "iteration 1500, score= 0.77266, max_score= 0.77286\n",
      "[2000]\tvalid_0's amex_metric: 0.778985\n",
      "iteration 2000, score= 0.77893, max_score= 0.77922\n",
      "[2500]\tvalid_0's amex_metric: 0.783142\n",
      "iteration 2500, score= 0.78321, max_score= 0.78336\n",
      "[3000]\tvalid_0's amex_metric: 0.786603\n",
      "iteration 3000, score= 0.78667, max_score= 0.78693\n",
      "[3500]\tvalid_0's amex_metric: 0.789435\n",
      "iteration 3500, score= 0.78944, max_score= 0.78944\n",
      "[4000]\tvalid_0's amex_metric: 0.790987\n",
      "iteration 4000, score= 0.79103, max_score= 0.79113\n",
      "[4500]\tvalid_0's amex_metric: 0.792638\n",
      "iteration 4500, score= 0.79264, max_score= 0.79266\n",
      "[5000]\tvalid_0's amex_metric: 0.794193\n",
      "iteration 5000, score= 0.79421, max_score= 0.79439\n",
      "[5500]\tvalid_0's amex_metric: 0.79465\n",
      "iteration 5500, score= 0.79463, max_score= 0.79465\n",
      "[6000]\tvalid_0's amex_metric: 0.794804\n",
      "iteration 6000, score= 0.79480, max_score= 0.79487\n",
      "[6500]\tvalid_0's amex_metric: 0.795998\n",
      "iteration 6500, score= 0.79587, max_score= 0.79600\n",
      "[7000]\tvalid_0's amex_metric: 0.795858\n",
      "iteration 7000, score= 0.79594, max_score= 0.79628\n",
      "[7500]\tvalid_0's amex_metric: 0.795952\n",
      "iteration 7500, score= 0.79595, max_score= 0.79655\n",
      "[8000]\tvalid_0's amex_metric: 0.796579\n",
      "iteration 8000, score= 0.79658, max_score= 0.79674\n",
      "[8500]\tvalid_0's amex_metric: 0.797001\n",
      "iteration 8500, score= 0.79700, max_score= 0.79714\n",
      "[9000]\tvalid_0's amex_metric: 0.797182\n",
      "iteration 9000, score= 0.79718, max_score= 0.79744\n",
      "[9500]\tvalid_0's amex_metric: 0.797493\n",
      "iteration 9500, score= 0.79747, max_score= 0.79774\n",
      "[10000]\tvalid_0's amex_metric: 0.797656\n",
      "iteration 10000, score= 0.79763, max_score= 0.79791\n",
      "[10500]\tvalid_0's amex_metric: 0.79791\n",
      "iteration 10500, score= 0.79791, max_score= 0.79846\n",
      "[11000]\tvalid_0's amex_metric: 0.798449\n",
      "iteration 11000, score= 0.79836, max_score= 0.79869\n",
      "[11500]\tvalid_0's amex_metric: 0.798492\n",
      "iteration 11500, score= 0.79855, max_score= 0.79885\n",
      "[12000]\tvalid_0's amex_metric: 0.798454\n",
      "iteration 12000, score= 0.79846, max_score= 0.79896\n",
      "[12500]\tvalid_0's amex_metric: 0.798395\n",
      "iteration 12500, score= 0.79842, max_score= 0.79896\n",
      "[13000]\tvalid_0's amex_metric: 0.798418\n",
      "iteration 13000, score= 0.79840, max_score= 0.79896\n",
      "[13500]\tvalid_0's amex_metric: 0.79822\n",
      "iteration 13500, score= 0.79824, max_score= 0.79896\n",
      "[14000]\tvalid_0's amex_metric: 0.798503\n",
      "iteration 14000, score= 0.79859, max_score= 0.79896\n",
      "[14500]\tvalid_0's amex_metric: 0.798641\n",
      "iteration 14500, score= 0.79858, max_score= 0.79896\n",
      "[15000]\tvalid_0's amex_metric: 0.798292\n",
      "iteration 15000, score= 0.79829, max_score= 0.79896\n",
      "[15500]\tvalid_0's amex_metric: 0.797907\n",
      "iteration 15500, score= 0.79791, max_score= 0.79896\n",
      "[16000]\tvalid_0's amex_metric: 0.79788\n",
      "iteration 16000, score= 0.79788, max_score= 0.79896\n",
      "[16500]\tvalid_0's amex_metric: 0.797652\n",
      "iteration 16500, score= 0.79761, max_score= 0.79896\n",
      "[17000]\tvalid_0's amex_metric: 0.798096\n",
      "iteration 17000, score= 0.79810, max_score= 0.79896\n",
      "[17500]\tvalid_0's amex_metric: 0.798007\n",
      "iteration 17500, score= 0.79801, max_score= 0.79896\n",
      "[18000]\tvalid_0's amex_metric: 0.798023\n",
      "iteration 18000, score= 0.79800, max_score= 0.79896\n",
      "[18500]\tvalid_0's amex_metric: 0.798407\n",
      "iteration 18500, score= 0.79839, max_score= 0.79896\n",
      "[19000]\tvalid_0's amex_metric: 0.79859\n",
      "iteration 19000, score= 0.79859, max_score= 0.79896\n",
      "[19500]\tvalid_0's amex_metric: 0.798158\n",
      "iteration 19500, score= 0.79809, max_score= 0.79896\n",
      "[20000]\tvalid_0's amex_metric: 0.798601\n",
      "iteration 20000, score= 0.79856, max_score= 0.79896\n",
      "[20500]\tvalid_0's amex_metric: 0.799005\n",
      "iteration 20500, score= 0.79901, max_score= 0.79913\n",
      "[21000]\tvalid_0's amex_metric: 0.798863\n",
      "iteration 21000, score= 0.79880, max_score= 0.79926\n",
      "[21500]\tvalid_0's amex_metric: 0.798616\n",
      "iteration 21500, score= 0.79864, max_score= 0.79926\n",
      "[22000]\tvalid_0's amex_metric: 0.798379\n",
      "iteration 22000, score= 0.79838, max_score= 0.79926\n",
      "[22500]\tvalid_0's amex_metric: 0.798291\n",
      "iteration 22500, score= 0.79829, max_score= 0.79926\n",
      "[23000]\tvalid_0's amex_metric: 0.798373\n",
      "iteration 23000, score= 0.79837, max_score= 0.79926\n",
      "[23500]\tvalid_0's amex_metric: 0.798253\n",
      "iteration 23500, score= 0.79825, max_score= 0.79926\n",
      "[24000]\tvalid_0's amex_metric: 0.7984\n",
      "iteration 24000, score= 0.79842, max_score= 0.79926\n",
      "[24500]\tvalid_0's amex_metric: 0.798065\n",
      "iteration 24500, score= 0.79807, max_score= 0.79926\n",
      "[25000]\tvalid_0's amex_metric: 0.798331\n",
      "iteration 25000, score= 0.79833, max_score= 0.79926\n",
      "[25500]\tvalid_0's amex_metric: 0.798075\n",
      "iteration 25500, score= 0.79812, max_score= 0.79926\n",
      "[26000]\tvalid_0's amex_metric: 0.798686\n",
      "iteration 26000, score= 0.79854, max_score= 0.79926\n",
      "[26500]\tvalid_0's amex_metric: 0.798353\n",
      "iteration 26500, score= 0.79835, max_score= 0.79926\n",
      "[27000]\tvalid_0's amex_metric: 0.798791\n",
      "iteration 27000, score= 0.79879, max_score= 0.79926\n",
      "[27500]\tvalid_0's amex_metric: 0.798963\n",
      "iteration 27500, score= 0.79905, max_score= 0.79926\n",
      "[28000]\tvalid_0's amex_metric: 0.798607\n",
      "iteration 28000, score= 0.79857, max_score= 0.79926\n",
      "[28500]\tvalid_0's amex_metric: 0.798376\n",
      "iteration 28500, score= 0.79831, max_score= 0.79926\n",
      "[29000]\tvalid_0's amex_metric: 0.798725\n",
      "iteration 29000, score= 0.79879, max_score= 0.79926\n",
      "[29500]\tvalid_0's amex_metric: 0.798742\n",
      "iteration 29500, score= 0.79881, max_score= 0.79926\n",
      "[30000]\tvalid_0's amex_metric: 0.798776\n",
      "             Variables  Importance\n",
      "298           P_2_last        2540\n",
      "1778         B_9_diff1        2302\n",
      "1760         P_2_diff1        2267\n",
      "1776        D_48_diff1        2260\n",
      "1772        D_46_diff1        2162\n",
      "998          B_37_last        2110\n",
      "1606        B_25_diff1        2107\n",
      "256          D_43_last        2098\n",
      "260           B_5_last        2098\n",
      "1880        P_2_L3Mmin        2092\n",
      "3140  L4_D_43_quantile        2087\n",
      "1768         B_3_diff1        2085\n",
      "1824        B_37_diff1        2078\n",
      "228         D_46_first        2075\n",
      "1574        B_11_diff1        2039\n",
      "1608  D_46_L3Mquantile        2037\n",
      "1874   P_2_L3Mquantile        2019\n",
      "3640         D_39_pred        2008\n",
      "1638      D_43_L3Mmean        2007\n",
      "3366        L8_B_4_std        1997\n",
      "Fold 1 Best score : 0.7992602376471856\n",
      "Our fold 1 CV score is 0.7992602376471856\n"
     ]
    }
   ],
   "source": [
    "kfold = model_selection.StratifiedKFold(n_splits = cfg.n_folds, shuffle = True, random_state = cfg.seed)\n",
    "for fold, (trn_ind, val_ind) in enumerate(kfold.split(train_df, train_df[cfg.target], groups=bucket_id)):\n",
    "    if fold in [0, 1]:\n",
    "        print(' ')\n",
    "        print('-'*50)\n",
    "        print(f'Training fold {fold} with {len(features)} features...')\n",
    "        x_train, x_val = train_df[features].iloc[trn_ind], train_df[features].iloc[val_ind]\n",
    "        y_train, y_val = train_df[cfg.target].iloc[trn_ind], train_df[cfg.target].iloc[val_ind]\n",
    "        lgb_train = lgb.Dataset(x_train, y_train, categorical_feature = cat_features)\n",
    "        lgb_valid = lgb.Dataset(x_val, y_val, categorical_feature = cat_features)\n",
    "\n",
    "        del x_train, y_train\n",
    "        gc.collect()\n",
    "\n",
    "        global max_score \n",
    "        max_score = 0.75\n",
    "        def save_model():\n",
    "            def callback(env):\n",
    "                global max_score\n",
    "                iteration = env.iteration\n",
    "                score = env.evaluation_result_list[0][2]\n",
    "                if iteration % 500 == 0:\n",
    "                    print('iteration {}, score= {:.05f}, max_score= {:.05f}'.format(iteration,score,max_score))\n",
    "                if score > max_score:\n",
    "                    max_score = score\n",
    "                    path = f'{cfg.save_dir}/fold_{fold}'\n",
    "                    os.makedirs(path, exist_ok=True)\n",
    "                    for fname in os.listdir(path):\n",
    "                        if fname.endswith(\".pkl\"):\n",
    "                            os.remove(os.path.join(path, fname))\n",
    "                    # print('High Score: iteration {}, score={:.05f}'.format(iteration, score))\n",
    "                    joblib.dump(env.model,os.path.join(path,f\"{score}.pkl\"))\n",
    "            callback.order = 0\n",
    "            return callback\n",
    "\n",
    "        model = lgb.train(\n",
    "            params = params,\n",
    "            train_set = lgb_train,\n",
    "            num_boost_round = 30000,\n",
    "            valid_sets = [lgb_valid],\n",
    "            early_stopping_rounds = 2000,\n",
    "            verbose_eval = 500,\n",
    "            feval = lgb_amex_metric,\n",
    "            callbacks=[save_model()]\n",
    "        )\n",
    "        feat_imp=pd.DataFrame({'Variables':features,'Importance':model.feature_importance()})\n",
    "        feat_imp=feat_imp.sort_values(by='Importance',ascending=False)\n",
    "        print(feat_imp.head(20))\n",
    "\n",
    "        print(f\"Fold {fold} Best score : {max_score}\")\n",
    "        model = joblib.load(f\"{cfg.save_dir}/fold_{fold}/{max_score}.pkl\")\n",
    "\n",
    "        val_pred = model.predict(x_val)\n",
    "        score = amex_metric(y_val, val_pred)\n",
    "        oof_df = y_val.reset_index()\n",
    "        oof_df['pred'] = val_pred\n",
    "        oof_df.to_csv(f\"{cfg.save_oof}/oof_fold{fold}_seed{cfg.seed}.csv\", index=False)\n",
    "\n",
    "        print(f'Our fold {fold} CV score is {score}')\n",
    "        del x_val, y_val, lgb_train, lgb_valid\n",
    "        gc.collect()"
   ]
  },
  {
   "cell_type": "code",
   "execution_count": 14,
   "metadata": {
    "colab": {
     "base_uri": "https://localhost:8080/"
    },
    "executionInfo": {
     "elapsed": 5324,
     "status": "ok",
     "timestamp": 1660550662079,
     "user": {
      "displayName": "N150762 GOPI DURGAPRASAD",
      "userId": "09525390218886483305"
     },
     "user_tz": -330
    },
    "id": "tcVDyVJ1XBB_",
    "outputId": "6b3cc555-17a8-489b-f584-214a6e0b4ad2"
   },
   "outputs": [
    {
     "name": "stdout",
     "output_type": "stream",
     "text": [
      "0.7982081642589892\n"
     ]
    }
   ],
   "source": [
    "oof_dfs = []\n",
    "for fold in range(0, 5):\n",
    "    try:\n",
    "        tmp_df = pd.read_csv(f\"{cfg.save_oof}/oof_fold{fold}_seed{cfg.seed}.csv\")\n",
    "        oof_dfs.append(tmp_df)\n",
    "    except:\n",
    "        pass\n",
    "oof_dfs = pd.concat(oof_dfs)\n",
    "oof_dfs = oof_dfs.sort_values('index')\n",
    "oof_dfs.to_csv(f\"{cfg.save_oof}/oof_fold{cfg.seed}.csv\")\n",
    "oof_score = amex_metric(y_true=oof_dfs['target'], y_pred=oof_dfs['pred'])\n",
    "print(oof_score)"
   ]
  },
  {
   "cell_type": "code",
   "execution_count": null,
   "metadata": {
    "id": "383Iy6MfiC-8"
   },
   "outputs": [],
   "source": []
  },
  {
   "cell_type": "code",
   "execution_count": 15,
   "metadata": {
    "colab": {
     "base_uri": "https://localhost:8080/"
    },
    "executionInfo": {
     "elapsed": 797,
     "status": "ok",
     "timestamp": 1660550701732,
     "user": {
      "displayName": "N150762 GOPI DURGAPRASAD",
      "userId": "09525390218886483305"
     },
     "user_tz": -330
    },
    "id": "PT0jZWbGa1YQ",
    "outputId": "c94bfc16-59b0-4fba-ec50-ae5b5335843d"
   },
   "outputs": [
    {
     "data": {
      "text/plain": [
       "172"
      ]
     },
     "execution_count": 15,
     "metadata": {},
     "output_type": "execute_result"
    }
   ],
   "source": [
    "del train_df\n",
    "gc.collect()"
   ]
  },
  {
   "cell_type": "code",
   "execution_count": 16,
   "metadata": {
    "executionInfo": {
     "elapsed": 51985,
     "status": "ok",
     "timestamp": 1660550754802,
     "user": {
      "displayName": "N150762 GOPI DURGAPRASAD",
      "userId": "09525390218886483305"
     },
     "user_tz": -330
    },
    "id": "YcLxD5jrbVGL"
   },
   "outputs": [],
   "source": [
    "test_df = pd.read_feather(\"input/feature_engg_v2/sammy_top_pp_sq_test.f\")"
   ]
  },
  {
   "cell_type": "code",
   "execution_count": 17,
   "metadata": {
    "colab": {
     "base_uri": "https://localhost:8080/"
    },
    "executionInfo": {
     "elapsed": 17,
     "status": "ok",
     "timestamp": 1660550754803,
     "user": {
      "displayName": "N150762 GOPI DURGAPRASAD",
      "userId": "09525390218886483305"
     },
     "user_tz": -330
    },
    "id": "dqPkEHjQBe-K",
    "outputId": "3adb9504-9cff-4774-db40-b5cb722889ae"
   },
   "outputs": [
    {
     "data": {
      "text/plain": [
       "3858"
      ]
     },
     "execution_count": 17,
     "metadata": {},
     "output_type": "execute_result"
    }
   ],
   "source": [
    "features.__len__()"
   ]
  },
  {
   "cell_type": "code",
   "execution_count": 18,
   "metadata": {
    "colab": {
     "base_uri": "https://localhost:8080/"
    },
    "executionInfo": {
     "elapsed": 11,
     "status": "ok",
     "timestamp": 1660550754803,
     "user": {
      "displayName": "N150762 GOPI DURGAPRASAD",
      "userId": "09525390218886483305"
     },
     "user_tz": -330
    },
    "id": "EBqniSW9CFeu",
    "outputId": "52e9c4ec-57ca-4115-852c-69424067e0ef"
   },
   "outputs": [
    {
     "data": {
      "text/plain": [
       "308207"
      ]
     },
     "execution_count": 18,
     "metadata": {},
     "output_type": "execute_result"
    }
   ],
   "source": [
    "test_df.shape[0]//3"
   ]
  },
  {
   "cell_type": "code",
   "execution_count": 19,
   "metadata": {
    "colab": {
     "base_uri": "https://localhost:8080/"
    },
    "executionInfo": {
     "elapsed": 7,
     "status": "ok",
     "timestamp": 1660550754803,
     "user": {
      "displayName": "N150762 GOPI DURGAPRASAD",
      "userId": "09525390218886483305"
     },
     "user_tz": -330
    },
    "id": "ZHi3C6JDe14Z",
    "outputId": "f2657dbf-7e23-4269-8f13-a255129e7602"
   },
   "outputs": [
    {
     "data": {
      "text/plain": [
       "616414"
      ]
     },
     "execution_count": 19,
     "metadata": {},
     "output_type": "execute_result"
    }
   ],
   "source": [
    "308207 + 308207"
   ]
  },
  {
   "cell_type": "code",
   "execution_count": 20,
   "metadata": {
    "colab": {
     "base_uri": "https://localhost:8080/"
    },
    "executionInfo": {
     "elapsed": 622,
     "status": "ok",
     "timestamp": 1660550760973,
     "user": {
      "displayName": "N150762 GOPI DURGAPRASAD",
      "userId": "09525390218886483305"
     },
     "user_tz": -330
    },
    "id": "D7H2RYk2BglJ",
    "outputId": "d34fe9ee-7663-4f3e-e0cd-a04fd8b177e6"
   },
   "outputs": [
    {
     "data": {
      "text/plain": [
       "((308207, 3859), (308207, 3859), (308207, 3859))"
      ]
     },
     "execution_count": 20,
     "metadata": {},
     "output_type": "execute_result"
    }
   ],
   "source": [
    "test_df1 = test_df.iloc[:308207]\n",
    "test_df2 = test_df.iloc[308207:616414]\n",
    "test_df3 = test_df.iloc[616414:]\n",
    "\n",
    "test_df1.shape, test_df2.shape, test_df3.shape"
   ]
  },
  {
   "cell_type": "code",
   "execution_count": 21,
   "metadata": {
    "executionInfo": {
     "elapsed": 997,
     "status": "ok",
     "timestamp": 1660550763798,
     "user": {
      "displayName": "N150762 GOPI DURGAPRASAD",
      "userId": "09525390218886483305"
     },
     "user_tz": -330
    },
    "id": "WTXgUVhjCb4W"
   },
   "outputs": [],
   "source": [
    "ids = test_df['customer_ID']"
   ]
  },
  {
   "cell_type": "code",
   "execution_count": 22,
   "metadata": {
    "colab": {
     "base_uri": "https://localhost:8080/",
     "height": 104,
     "referenced_widgets": [
      "79f098dac63941d8ae3d2743caa512bb",
      "60ba2646a5214097b8700f6ecdec9fcd",
      "120589181baa43e9935f20dd1dd02b01",
      "a656ed4aa71b41759a7eeb0a153b50a9",
      "7bd56a6690db4990a4046990ae25f8e3",
      "83ef40e541c4457b83142b89f6a1fe11",
      "aa86ca0697db4fd6a32726a9c1efdc63",
      "8b1d131b9701472f8735699b56d5f84b",
      "bd878d6794ff4a6a818bdd13c088d952",
      "4a77c4856cad4617989cd97867ac47b6",
      "7c25ea1061d447eca16cae7e83e3a897"
     ]
    },
    "executionInfo": {
     "elapsed": 2150100,
     "status": "ok",
     "timestamp": 1660552918878,
     "user": {
      "displayName": "N150762 GOPI DURGAPRASAD",
      "userId": "09525390218886483305"
     },
     "user_tz": -330
    },
    "id": "Xw0EMUz_CfEb",
    "outputId": "5b34f500-479c-419a-e53d-43781d380bab"
   },
   "outputs": [
    {
     "name": "stdout",
     "output_type": "stream",
     "text": [
      "5\n"
     ]
    },
    {
     "data": {
      "application/vnd.jupyter.widget-view+json": {
       "model_id": "79f098dac63941d8ae3d2743caa512bb",
       "version_major": 2,
       "version_minor": 0
      },
      "text/plain": [
       "  0%|          | 0/5 [00:00<?, ?it/s]"
      ]
     },
     "metadata": {},
     "output_type": "display_data"
    },
    {
     "name": "stdout",
     "output_type": "stream",
     "text": [
      "CPU times: user 4h 8min 45s, sys: 60 s, total: 4h 9min 45s\n",
      "Wall time: 35min 49s\n"
     ]
    }
   ],
   "source": [
    "%%time\n",
    "y_pred_list = []\n",
    "model_list = glob.glob(f\"{cfg.save_dir}/fold*/*.pkl\")\n",
    "print(len(model_list))\n",
    "for path in tqdm(model_list):\n",
    "    model = joblib.load(path)\n",
    "    y_pred = model.predict( test_df1[features])\n",
    "    y_pred_list.append(y_pred)\n",
    "y_pred_mean1 = np.mean(y_pred_list, axis=0)\n",
    "y_pred_median1 = np.median(y_pred_list, axis=0)"
   ]
  },
  {
   "cell_type": "code",
   "execution_count": 23,
   "metadata": {
    "colab": {
     "base_uri": "https://localhost:8080/",
     "height": 104,
     "referenced_widgets": [
      "0ae08ef5dddb4c14b1cf108d238af956",
      "1582b79d7c044c839fefe3b6816bca6b",
      "4d238c71da6e466c83ded95323315a73",
      "74d1d0c84f5c4c71bb7aacfccfa94427",
      "a208b555cf3f4809b01dd8b41f7cc3f1",
      "b8c4e43f1d614f83b34eee85acc03add",
      "9fbe0edf7d5242ebab30a7d83938c818",
      "57e1e29a00c442e8b85aad1101e9828a",
      "1811fb4431ba45409ea710b52df12142",
      "74cf2c7ac96e4016a6184952e421a347",
      "b85121b98816462babb3172ec0af952e"
     ]
    },
    "executionInfo": {
     "elapsed": 2087033,
     "status": "ok",
     "timestamp": 1660555005898,
     "user": {
      "displayName": "N150762 GOPI DURGAPRASAD",
      "userId": "09525390218886483305"
     },
     "user_tz": -330
    },
    "id": "Sx2RAc4NCjFe",
    "outputId": "6a84d50d-74f8-4938-fea9-2008dbcb7a1c"
   },
   "outputs": [
    {
     "name": "stdout",
     "output_type": "stream",
     "text": [
      "5\n"
     ]
    },
    {
     "data": {
      "application/vnd.jupyter.widget-view+json": {
       "model_id": "0ae08ef5dddb4c14b1cf108d238af956",
       "version_major": 2,
       "version_minor": 0
      },
      "text/plain": [
       "  0%|          | 0/5 [00:00<?, ?it/s]"
      ]
     },
     "metadata": {},
     "output_type": "display_data"
    },
    {
     "name": "stdout",
     "output_type": "stream",
     "text": [
      "CPU times: user 4h 6min 59s, sys: 29.4 s, total: 4h 7min 28s\n",
      "Wall time: 34min 46s\n"
     ]
    }
   ],
   "source": [
    "%%time\n",
    "y_pred_list = []\n",
    "model_list = glob.glob(f\"{cfg.save_dir}/fold*/*.pkl\")\n",
    "print(len(model_list))\n",
    "for path in tqdm(model_list):\n",
    "    model = joblib.load(path)\n",
    "    y_pred = model.predict( test_df2[features])\n",
    "    y_pred_list.append(y_pred)\n",
    "y_pred_mean2 = np.mean(y_pred_list, axis=0)\n",
    "y_pred_median2 = np.median(y_pred_list, axis=0)"
   ]
  },
  {
   "cell_type": "code",
   "execution_count": 24,
   "metadata": {
    "colab": {
     "base_uri": "https://localhost:8080/",
     "height": 104,
     "referenced_widgets": [
      "87ddadf1fc8443f9a997750685222cdd",
      "804a2c405502429eaa54f969cae73fd2",
      "60a9bef67b0f44b3a415e0820c354413",
      "ba6145b142e44ea5b7416c78cd158113",
      "c1aa1e3467234f96afddd3f941e68b12",
      "0d41f01a28e14e5ba77dc9c6ce3726de",
      "0c6d7466a895442e876a748777069b1a",
      "c9fd7970667e4d968238404ec5fe075b",
      "a1ade8e79df846f6b880c18b32f3d2d1",
      "8ca25488eaba4525ae23a898d5a79249",
      "ce08035bc1a14d64bbdaa046a2fbf818"
     ]
    },
    "executionInfo": {
     "elapsed": 1861451,
     "status": "ok",
     "timestamp": 1660557079620,
     "user": {
      "displayName": "N150762 GOPI DURGAPRASAD",
      "userId": "09525390218886483305"
     },
     "user_tz": -330
    },
    "id": "LY7NGG-ufEGB",
    "outputId": "b5c2cb8b-f443-4328-d7b4-dcb0f5a6929c"
   },
   "outputs": [
    {
     "metadata": {
      "tags": null
     },
     "name": "stdout",
     "output_type": "stream",
     "text": [
      "5\n"
     ]
    },
    {
     "data": {
      "application/vnd.jupyter.widget-view+json": {
       "model_id": "87ddadf1fc8443f9a997750685222cdd",
       "version_major": 2,
       "version_minor": 0
      },
      "text/plain": [
       "  0%|          | 0/5 [00:00<?, ?it/s]"
      ]
     },
     "metadata": {},
     "output_type": "display_data"
    },
    {
     "name": "stdout",
     "output_type": "stream",
     "text": [
      "CPU times: user 4h 5min 2s, sys: 27.7 s, total: 4h 5min 29s\n",
      "Wall time: 34min 33s\n"
     ]
    }
   ],
   "source": [
    "%%time\n",
    "y_pred_list = []\n",
    "model_list = glob.glob(f\"{cfg.save_dir}/fold*/*.pkl\")\n",
    "print(len(model_list))\n",
    "for path in tqdm(model_list):\n",
    "    model = joblib.load(path)\n",
    "    y_pred = model.predict( test_df3[features])\n",
    "    y_pred_list.append(y_pred)\n",
    "y_pred_mean3 = np.mean(y_pred_list, axis=0)\n",
    "y_pred_median3 = np.median(y_pred_list, axis=0)"
   ]
  },
  {
   "cell_type": "code",
   "execution_count": 25,
   "metadata": {
    "executionInfo": {
     "elapsed": 2,
     "status": "ok",
     "timestamp": 1660557079621,
     "user": {
      "displayName": "N150762 GOPI DURGAPRASAD",
      "userId": "09525390218886483305"
     },
     "user_tz": -330
    },
    "id": "ccgw22XfCvzR"
   },
   "outputs": [],
   "source": [
    "y_pred_mean = np.concatenate([y_pred_mean1, y_pred_mean2, y_pred_mean3])"
   ]
  },
  {
   "cell_type": "code",
   "execution_count": 26,
   "metadata": {
    "executionInfo": {
     "elapsed": 3,
     "status": "ok",
     "timestamp": 1660557079622,
     "user": {
      "displayName": "N150762 GOPI DURGAPRASAD",
      "userId": "09525390218886483305"
     },
     "user_tz": -330
    },
    "id": "YZxHQ1eZDNuz"
   },
   "outputs": [],
   "source": [
    "y_pred_median = np.concatenate([y_pred_median1, y_pred_median2, y_pred_median3])"
   ]
  },
  {
   "cell_type": "code",
   "execution_count": 27,
   "metadata": {
    "executionInfo": {
     "elapsed": 2397,
     "status": "ok",
     "timestamp": 1660557082016,
     "user": {
      "displayName": "N150762 GOPI DURGAPRASAD",
      "userId": "09525390218886483305"
     },
     "user_tz": -330
    },
    "id": "Mqe0_Nh4DV3X"
   },
   "outputs": [],
   "source": [
    "ss_df = pd.read_csv(\"input/sample_submission.csv\")"
   ]
  },
  {
   "cell_type": "code",
   "execution_count": 28,
   "metadata": {
    "executionInfo": {
     "elapsed": 4358,
     "status": "ok",
     "timestamp": 1660557086375,
     "user": {
      "displayName": "N150762 GOPI DURGAPRASAD",
      "userId": "09525390218886483305"
     },
     "user_tz": -330
    },
    "id": "KXD9MiIUEntk"
   },
   "outputs": [],
   "source": [
    "sub_df = pd.DataFrame({\n",
    "    \"customer_ID\" : ss_df['customer_ID'],\n",
    "    \"prediction\" : y_pred_mean\n",
    "})\n",
    "\n",
    "sub_df.to_csv(f\"{cfg.save_dir}/submission_{cfg.exp_name}.csv\", index=False)"
   ]
  },
  {
   "cell_type": "code",
   "execution_count": 29,
   "metadata": {
    "executionInfo": {
     "elapsed": 3674,
     "status": "ok",
     "timestamp": 1660557090049,
     "user": {
      "displayName": "N150762 GOPI DURGAPRASAD",
      "userId": "09525390218886483305"
     },
     "user_tz": -330
    },
    "id": "QjEZATLzEt9Y"
   },
   "outputs": [],
   "source": [
    "sub_df = pd.DataFrame({\n",
    "    \"customer_ID\" : ss_df['customer_ID'],\n",
    "    \"prediction\" : y_pred_median\n",
    "})\n",
    "\n",
    "sub_df.to_csv(f\"{cfg.save_dir}/submission_{cfg.exp_name}_median.csv\", index=False)"
   ]
  },
  {
   "cell_type": "code",
   "execution_count": null,
   "metadata": {
    "id": "mQc45WnJiknX"
   },
   "outputs": [],
   "source": []
  }
 ],
 "metadata": {
  "colab": {
   "authorship_tag": "ABX9TyMPUXqEWipTeGa8z2UqbVYy",
   "background_execution": "on",
   "collapsed_sections": [],
   "machine_shape": "hm",
   "mount_file_id": "1GCRHC_IMK0U_wDenyET9TANhnIMde-CC",
   "name": "Sammy_top_pp_sq_f[0, 1]_p2.ipynb",
   "provenance": []
  },
  "gpuClass": "standard",
  "kernelspec": {
   "display_name": "Python 3 (ipykernel)",
   "language": "python",
   "name": "python3"
  },
  "language_info": {
   "codemirror_mode": {
    "name": "ipython",
    "version": 3
   },
   "file_extension": ".py",
   "mimetype": "text/x-python",
   "name": "python",
   "nbconvert_exporter": "python",
   "pygments_lexer": "ipython3",
   "version": "3.8.12"
  },
  "widgets": {
   "application/vnd.jupyter.widget-state+json": {
    "0ae08ef5dddb4c14b1cf108d238af956": {
     "model_module": "@jupyter-widgets/controls",
     "model_module_version": "1.5.0",
     "model_name": "HBoxModel",
     "state": {
      "_dom_classes": [],
      "_model_module": "@jupyter-widgets/controls",
      "_model_module_version": "1.5.0",
      "_model_name": "HBoxModel",
      "_view_count": null,
      "_view_module": "@jupyter-widgets/controls",
      "_view_module_version": "1.5.0",
      "_view_name": "HBoxView",
      "box_style": "",
      "children": [
       "IPY_MODEL_1582b79d7c044c839fefe3b6816bca6b",
       "IPY_MODEL_4d238c71da6e466c83ded95323315a73",
       "IPY_MODEL_74d1d0c84f5c4c71bb7aacfccfa94427"
      ],
      "layout": "IPY_MODEL_a208b555cf3f4809b01dd8b41f7cc3f1"
     }
    },
    "0c6d7466a895442e876a748777069b1a": {
     "model_module": "@jupyter-widgets/controls",
     "model_module_version": "1.5.0",
     "model_name": "DescriptionStyleModel",
     "state": {
      "_model_module": "@jupyter-widgets/controls",
      "_model_module_version": "1.5.0",
      "_model_name": "DescriptionStyleModel",
      "_view_count": null,
      "_view_module": "@jupyter-widgets/base",
      "_view_module_version": "1.2.0",
      "_view_name": "StyleView",
      "description_width": ""
     }
    },
    "0d41f01a28e14e5ba77dc9c6ce3726de": {
     "model_module": "@jupyter-widgets/base",
     "model_module_version": "1.2.0",
     "model_name": "LayoutModel",
     "state": {
      "_model_module": "@jupyter-widgets/base",
      "_model_module_version": "1.2.0",
      "_model_name": "LayoutModel",
      "_view_count": null,
      "_view_module": "@jupyter-widgets/base",
      "_view_module_version": "1.2.0",
      "_view_name": "LayoutView",
      "align_content": null,
      "align_items": null,
      "align_self": null,
      "border": null,
      "bottom": null,
      "display": null,
      "flex": null,
      "flex_flow": null,
      "grid_area": null,
      "grid_auto_columns": null,
      "grid_auto_flow": null,
      "grid_auto_rows": null,
      "grid_column": null,
      "grid_gap": null,
      "grid_row": null,
      "grid_template_areas": null,
      "grid_template_columns": null,
      "grid_template_rows": null,
      "height": null,
      "justify_content": null,
      "justify_items": null,
      "left": null,
      "margin": null,
      "max_height": null,
      "max_width": null,
      "min_height": null,
      "min_width": null,
      "object_fit": null,
      "object_position": null,
      "order": null,
      "overflow": null,
      "overflow_x": null,
      "overflow_y": null,
      "padding": null,
      "right": null,
      "top": null,
      "visibility": null,
      "width": null
     }
    },
    "120589181baa43e9935f20dd1dd02b01": {
     "model_module": "@jupyter-widgets/controls",
     "model_module_version": "1.5.0",
     "model_name": "FloatProgressModel",
     "state": {
      "_dom_classes": [],
      "_model_module": "@jupyter-widgets/controls",
      "_model_module_version": "1.5.0",
      "_model_name": "FloatProgressModel",
      "_view_count": null,
      "_view_module": "@jupyter-widgets/controls",
      "_view_module_version": "1.5.0",
      "_view_name": "ProgressView",
      "bar_style": "success",
      "description": "",
      "description_tooltip": null,
      "layout": "IPY_MODEL_8b1d131b9701472f8735699b56d5f84b",
      "max": 5,
      "min": 0,
      "orientation": "horizontal",
      "style": "IPY_MODEL_bd878d6794ff4a6a818bdd13c088d952",
      "value": 5
     }
    },
    "1582b79d7c044c839fefe3b6816bca6b": {
     "model_module": "@jupyter-widgets/controls",
     "model_module_version": "1.5.0",
     "model_name": "HTMLModel",
     "state": {
      "_dom_classes": [],
      "_model_module": "@jupyter-widgets/controls",
      "_model_module_version": "1.5.0",
      "_model_name": "HTMLModel",
      "_view_count": null,
      "_view_module": "@jupyter-widgets/controls",
      "_view_module_version": "1.5.0",
      "_view_name": "HTMLView",
      "description": "",
      "description_tooltip": null,
      "layout": "IPY_MODEL_b8c4e43f1d614f83b34eee85acc03add",
      "placeholder": "​",
      "style": "IPY_MODEL_9fbe0edf7d5242ebab30a7d83938c818",
      "value": "100%"
     }
    },
    "1811fb4431ba45409ea710b52df12142": {
     "model_module": "@jupyter-widgets/controls",
     "model_module_version": "1.5.0",
     "model_name": "ProgressStyleModel",
     "state": {
      "_model_module": "@jupyter-widgets/controls",
      "_model_module_version": "1.5.0",
      "_model_name": "ProgressStyleModel",
      "_view_count": null,
      "_view_module": "@jupyter-widgets/base",
      "_view_module_version": "1.2.0",
      "_view_name": "StyleView",
      "bar_color": null,
      "description_width": ""
     }
    },
    "4a77c4856cad4617989cd97867ac47b6": {
     "model_module": "@jupyter-widgets/base",
     "model_module_version": "1.2.0",
     "model_name": "LayoutModel",
     "state": {
      "_model_module": "@jupyter-widgets/base",
      "_model_module_version": "1.2.0",
      "_model_name": "LayoutModel",
      "_view_count": null,
      "_view_module": "@jupyter-widgets/base",
      "_view_module_version": "1.2.0",
      "_view_name": "LayoutView",
      "align_content": null,
      "align_items": null,
      "align_self": null,
      "border": null,
      "bottom": null,
      "display": null,
      "flex": null,
      "flex_flow": null,
      "grid_area": null,
      "grid_auto_columns": null,
      "grid_auto_flow": null,
      "grid_auto_rows": null,
      "grid_column": null,
      "grid_gap": null,
      "grid_row": null,
      "grid_template_areas": null,
      "grid_template_columns": null,
      "grid_template_rows": null,
      "height": null,
      "justify_content": null,
      "justify_items": null,
      "left": null,
      "margin": null,
      "max_height": null,
      "max_width": null,
      "min_height": null,
      "min_width": null,
      "object_fit": null,
      "object_position": null,
      "order": null,
      "overflow": null,
      "overflow_x": null,
      "overflow_y": null,
      "padding": null,
      "right": null,
      "top": null,
      "visibility": null,
      "width": null
     }
    },
    "4d238c71da6e466c83ded95323315a73": {
     "model_module": "@jupyter-widgets/controls",
     "model_module_version": "1.5.0",
     "model_name": "FloatProgressModel",
     "state": {
      "_dom_classes": [],
      "_model_module": "@jupyter-widgets/controls",
      "_model_module_version": "1.5.0",
      "_model_name": "FloatProgressModel",
      "_view_count": null,
      "_view_module": "@jupyter-widgets/controls",
      "_view_module_version": "1.5.0",
      "_view_name": "ProgressView",
      "bar_style": "success",
      "description": "",
      "description_tooltip": null,
      "layout": "IPY_MODEL_57e1e29a00c442e8b85aad1101e9828a",
      "max": 5,
      "min": 0,
      "orientation": "horizontal",
      "style": "IPY_MODEL_1811fb4431ba45409ea710b52df12142",
      "value": 5
     }
    },
    "57e1e29a00c442e8b85aad1101e9828a": {
     "model_module": "@jupyter-widgets/base",
     "model_module_version": "1.2.0",
     "model_name": "LayoutModel",
     "state": {
      "_model_module": "@jupyter-widgets/base",
      "_model_module_version": "1.2.0",
      "_model_name": "LayoutModel",
      "_view_count": null,
      "_view_module": "@jupyter-widgets/base",
      "_view_module_version": "1.2.0",
      "_view_name": "LayoutView",
      "align_content": null,
      "align_items": null,
      "align_self": null,
      "border": null,
      "bottom": null,
      "display": null,
      "flex": null,
      "flex_flow": null,
      "grid_area": null,
      "grid_auto_columns": null,
      "grid_auto_flow": null,
      "grid_auto_rows": null,
      "grid_column": null,
      "grid_gap": null,
      "grid_row": null,
      "grid_template_areas": null,
      "grid_template_columns": null,
      "grid_template_rows": null,
      "height": null,
      "justify_content": null,
      "justify_items": null,
      "left": null,
      "margin": null,
      "max_height": null,
      "max_width": null,
      "min_height": null,
      "min_width": null,
      "object_fit": null,
      "object_position": null,
      "order": null,
      "overflow": null,
      "overflow_x": null,
      "overflow_y": null,
      "padding": null,
      "right": null,
      "top": null,
      "visibility": null,
      "width": null
     }
    },
    "60a9bef67b0f44b3a415e0820c354413": {
     "model_module": "@jupyter-widgets/controls",
     "model_module_version": "1.5.0",
     "model_name": "FloatProgressModel",
     "state": {
      "_dom_classes": [],
      "_model_module": "@jupyter-widgets/controls",
      "_model_module_version": "1.5.0",
      "_model_name": "FloatProgressModel",
      "_view_count": null,
      "_view_module": "@jupyter-widgets/controls",
      "_view_module_version": "1.5.0",
      "_view_name": "ProgressView",
      "bar_style": "success",
      "description": "",
      "description_tooltip": null,
      "layout": "IPY_MODEL_c9fd7970667e4d968238404ec5fe075b",
      "max": 5,
      "min": 0,
      "orientation": "horizontal",
      "style": "IPY_MODEL_a1ade8e79df846f6b880c18b32f3d2d1",
      "value": 5
     }
    },
    "60ba2646a5214097b8700f6ecdec9fcd": {
     "model_module": "@jupyter-widgets/controls",
     "model_module_version": "1.5.0",
     "model_name": "HTMLModel",
     "state": {
      "_dom_classes": [],
      "_model_module": "@jupyter-widgets/controls",
      "_model_module_version": "1.5.0",
      "_model_name": "HTMLModel",
      "_view_count": null,
      "_view_module": "@jupyter-widgets/controls",
      "_view_module_version": "1.5.0",
      "_view_name": "HTMLView",
      "description": "",
      "description_tooltip": null,
      "layout": "IPY_MODEL_83ef40e541c4457b83142b89f6a1fe11",
      "placeholder": "​",
      "style": "IPY_MODEL_aa86ca0697db4fd6a32726a9c1efdc63",
      "value": "100%"
     }
    },
    "74cf2c7ac96e4016a6184952e421a347": {
     "model_module": "@jupyter-widgets/base",
     "model_module_version": "1.2.0",
     "model_name": "LayoutModel",
     "state": {
      "_model_module": "@jupyter-widgets/base",
      "_model_module_version": "1.2.0",
      "_model_name": "LayoutModel",
      "_view_count": null,
      "_view_module": "@jupyter-widgets/base",
      "_view_module_version": "1.2.0",
      "_view_name": "LayoutView",
      "align_content": null,
      "align_items": null,
      "align_self": null,
      "border": null,
      "bottom": null,
      "display": null,
      "flex": null,
      "flex_flow": null,
      "grid_area": null,
      "grid_auto_columns": null,
      "grid_auto_flow": null,
      "grid_auto_rows": null,
      "grid_column": null,
      "grid_gap": null,
      "grid_row": null,
      "grid_template_areas": null,
      "grid_template_columns": null,
      "grid_template_rows": null,
      "height": null,
      "justify_content": null,
      "justify_items": null,
      "left": null,
      "margin": null,
      "max_height": null,
      "max_width": null,
      "min_height": null,
      "min_width": null,
      "object_fit": null,
      "object_position": null,
      "order": null,
      "overflow": null,
      "overflow_x": null,
      "overflow_y": null,
      "padding": null,
      "right": null,
      "top": null,
      "visibility": null,
      "width": null
     }
    },
    "74d1d0c84f5c4c71bb7aacfccfa94427": {
     "model_module": "@jupyter-widgets/controls",
     "model_module_version": "1.5.0",
     "model_name": "HTMLModel",
     "state": {
      "_dom_classes": [],
      "_model_module": "@jupyter-widgets/controls",
      "_model_module_version": "1.5.0",
      "_model_name": "HTMLModel",
      "_view_count": null,
      "_view_module": "@jupyter-widgets/controls",
      "_view_module_version": "1.5.0",
      "_view_name": "HTMLView",
      "description": "",
      "description_tooltip": null,
      "layout": "IPY_MODEL_74cf2c7ac96e4016a6184952e421a347",
      "placeholder": "​",
      "style": "IPY_MODEL_b85121b98816462babb3172ec0af952e",
      "value": " 5/5 [34:46&lt;00:00, 394.08s/it]"
     }
    },
    "79f098dac63941d8ae3d2743caa512bb": {
     "model_module": "@jupyter-widgets/controls",
     "model_module_version": "1.5.0",
     "model_name": "HBoxModel",
     "state": {
      "_dom_classes": [],
      "_model_module": "@jupyter-widgets/controls",
      "_model_module_version": "1.5.0",
      "_model_name": "HBoxModel",
      "_view_count": null,
      "_view_module": "@jupyter-widgets/controls",
      "_view_module_version": "1.5.0",
      "_view_name": "HBoxView",
      "box_style": "",
      "children": [
       "IPY_MODEL_60ba2646a5214097b8700f6ecdec9fcd",
       "IPY_MODEL_120589181baa43e9935f20dd1dd02b01",
       "IPY_MODEL_a656ed4aa71b41759a7eeb0a153b50a9"
      ],
      "layout": "IPY_MODEL_7bd56a6690db4990a4046990ae25f8e3"
     }
    },
    "7bd56a6690db4990a4046990ae25f8e3": {
     "model_module": "@jupyter-widgets/base",
     "model_module_version": "1.2.0",
     "model_name": "LayoutModel",
     "state": {
      "_model_module": "@jupyter-widgets/base",
      "_model_module_version": "1.2.0",
      "_model_name": "LayoutModel",
      "_view_count": null,
      "_view_module": "@jupyter-widgets/base",
      "_view_module_version": "1.2.0",
      "_view_name": "LayoutView",
      "align_content": null,
      "align_items": null,
      "align_self": null,
      "border": null,
      "bottom": null,
      "display": null,
      "flex": null,
      "flex_flow": null,
      "grid_area": null,
      "grid_auto_columns": null,
      "grid_auto_flow": null,
      "grid_auto_rows": null,
      "grid_column": null,
      "grid_gap": null,
      "grid_row": null,
      "grid_template_areas": null,
      "grid_template_columns": null,
      "grid_template_rows": null,
      "height": null,
      "justify_content": null,
      "justify_items": null,
      "left": null,
      "margin": null,
      "max_height": null,
      "max_width": null,
      "min_height": null,
      "min_width": null,
      "object_fit": null,
      "object_position": null,
      "order": null,
      "overflow": null,
      "overflow_x": null,
      "overflow_y": null,
      "padding": null,
      "right": null,
      "top": null,
      "visibility": null,
      "width": null
     }
    },
    "7c25ea1061d447eca16cae7e83e3a897": {
     "model_module": "@jupyter-widgets/controls",
     "model_module_version": "1.5.0",
     "model_name": "DescriptionStyleModel",
     "state": {
      "_model_module": "@jupyter-widgets/controls",
      "_model_module_version": "1.5.0",
      "_model_name": "DescriptionStyleModel",
      "_view_count": null,
      "_view_module": "@jupyter-widgets/base",
      "_view_module_version": "1.2.0",
      "_view_name": "StyleView",
      "description_width": ""
     }
    },
    "804a2c405502429eaa54f969cae73fd2": {
     "model_module": "@jupyter-widgets/controls",
     "model_module_version": "1.5.0",
     "model_name": "HTMLModel",
     "state": {
      "_dom_classes": [],
      "_model_module": "@jupyter-widgets/controls",
      "_model_module_version": "1.5.0",
      "_model_name": "HTMLModel",
      "_view_count": null,
      "_view_module": "@jupyter-widgets/controls",
      "_view_module_version": "1.5.0",
      "_view_name": "HTMLView",
      "description": "",
      "description_tooltip": null,
      "layout": "IPY_MODEL_0d41f01a28e14e5ba77dc9c6ce3726de",
      "placeholder": "​",
      "style": "IPY_MODEL_0c6d7466a895442e876a748777069b1a",
      "value": "100%"
     }
    },
    "83ef40e541c4457b83142b89f6a1fe11": {
     "model_module": "@jupyter-widgets/base",
     "model_module_version": "1.2.0",
     "model_name": "LayoutModel",
     "state": {
      "_model_module": "@jupyter-widgets/base",
      "_model_module_version": "1.2.0",
      "_model_name": "LayoutModel",
      "_view_count": null,
      "_view_module": "@jupyter-widgets/base",
      "_view_module_version": "1.2.0",
      "_view_name": "LayoutView",
      "align_content": null,
      "align_items": null,
      "align_self": null,
      "border": null,
      "bottom": null,
      "display": null,
      "flex": null,
      "flex_flow": null,
      "grid_area": null,
      "grid_auto_columns": null,
      "grid_auto_flow": null,
      "grid_auto_rows": null,
      "grid_column": null,
      "grid_gap": null,
      "grid_row": null,
      "grid_template_areas": null,
      "grid_template_columns": null,
      "grid_template_rows": null,
      "height": null,
      "justify_content": null,
      "justify_items": null,
      "left": null,
      "margin": null,
      "max_height": null,
      "max_width": null,
      "min_height": null,
      "min_width": null,
      "object_fit": null,
      "object_position": null,
      "order": null,
      "overflow": null,
      "overflow_x": null,
      "overflow_y": null,
      "padding": null,
      "right": null,
      "top": null,
      "visibility": null,
      "width": null
     }
    },
    "87ddadf1fc8443f9a997750685222cdd": {
     "model_module": "@jupyter-widgets/controls",
     "model_module_version": "1.5.0",
     "model_name": "HBoxModel",
     "state": {
      "_dom_classes": [],
      "_model_module": "@jupyter-widgets/controls",
      "_model_module_version": "1.5.0",
      "_model_name": "HBoxModel",
      "_view_count": null,
      "_view_module": "@jupyter-widgets/controls",
      "_view_module_version": "1.5.0",
      "_view_name": "HBoxView",
      "box_style": "",
      "children": [
       "IPY_MODEL_804a2c405502429eaa54f969cae73fd2",
       "IPY_MODEL_60a9bef67b0f44b3a415e0820c354413",
       "IPY_MODEL_ba6145b142e44ea5b7416c78cd158113"
      ],
      "layout": "IPY_MODEL_c1aa1e3467234f96afddd3f941e68b12"
     }
    },
    "8b1d131b9701472f8735699b56d5f84b": {
     "model_module": "@jupyter-widgets/base",
     "model_module_version": "1.2.0",
     "model_name": "LayoutModel",
     "state": {
      "_model_module": "@jupyter-widgets/base",
      "_model_module_version": "1.2.0",
      "_model_name": "LayoutModel",
      "_view_count": null,
      "_view_module": "@jupyter-widgets/base",
      "_view_module_version": "1.2.0",
      "_view_name": "LayoutView",
      "align_content": null,
      "align_items": null,
      "align_self": null,
      "border": null,
      "bottom": null,
      "display": null,
      "flex": null,
      "flex_flow": null,
      "grid_area": null,
      "grid_auto_columns": null,
      "grid_auto_flow": null,
      "grid_auto_rows": null,
      "grid_column": null,
      "grid_gap": null,
      "grid_row": null,
      "grid_template_areas": null,
      "grid_template_columns": null,
      "grid_template_rows": null,
      "height": null,
      "justify_content": null,
      "justify_items": null,
      "left": null,
      "margin": null,
      "max_height": null,
      "max_width": null,
      "min_height": null,
      "min_width": null,
      "object_fit": null,
      "object_position": null,
      "order": null,
      "overflow": null,
      "overflow_x": null,
      "overflow_y": null,
      "padding": null,
      "right": null,
      "top": null,
      "visibility": null,
      "width": null
     }
    },
    "8ca25488eaba4525ae23a898d5a79249": {
     "model_module": "@jupyter-widgets/base",
     "model_module_version": "1.2.0",
     "model_name": "LayoutModel",
     "state": {
      "_model_module": "@jupyter-widgets/base",
      "_model_module_version": "1.2.0",
      "_model_name": "LayoutModel",
      "_view_count": null,
      "_view_module": "@jupyter-widgets/base",
      "_view_module_version": "1.2.0",
      "_view_name": "LayoutView",
      "align_content": null,
      "align_items": null,
      "align_self": null,
      "border": null,
      "bottom": null,
      "display": null,
      "flex": null,
      "flex_flow": null,
      "grid_area": null,
      "grid_auto_columns": null,
      "grid_auto_flow": null,
      "grid_auto_rows": null,
      "grid_column": null,
      "grid_gap": null,
      "grid_row": null,
      "grid_template_areas": null,
      "grid_template_columns": null,
      "grid_template_rows": null,
      "height": null,
      "justify_content": null,
      "justify_items": null,
      "left": null,
      "margin": null,
      "max_height": null,
      "max_width": null,
      "min_height": null,
      "min_width": null,
      "object_fit": null,
      "object_position": null,
      "order": null,
      "overflow": null,
      "overflow_x": null,
      "overflow_y": null,
      "padding": null,
      "right": null,
      "top": null,
      "visibility": null,
      "width": null
     }
    },
    "9fbe0edf7d5242ebab30a7d83938c818": {
     "model_module": "@jupyter-widgets/controls",
     "model_module_version": "1.5.0",
     "model_name": "DescriptionStyleModel",
     "state": {
      "_model_module": "@jupyter-widgets/controls",
      "_model_module_version": "1.5.0",
      "_model_name": "DescriptionStyleModel",
      "_view_count": null,
      "_view_module": "@jupyter-widgets/base",
      "_view_module_version": "1.2.0",
      "_view_name": "StyleView",
      "description_width": ""
     }
    },
    "a1ade8e79df846f6b880c18b32f3d2d1": {
     "model_module": "@jupyter-widgets/controls",
     "model_module_version": "1.5.0",
     "model_name": "ProgressStyleModel",
     "state": {
      "_model_module": "@jupyter-widgets/controls",
      "_model_module_version": "1.5.0",
      "_model_name": "ProgressStyleModel",
      "_view_count": null,
      "_view_module": "@jupyter-widgets/base",
      "_view_module_version": "1.2.0",
      "_view_name": "StyleView",
      "bar_color": null,
      "description_width": ""
     }
    },
    "a208b555cf3f4809b01dd8b41f7cc3f1": {
     "model_module": "@jupyter-widgets/base",
     "model_module_version": "1.2.0",
     "model_name": "LayoutModel",
     "state": {
      "_model_module": "@jupyter-widgets/base",
      "_model_module_version": "1.2.0",
      "_model_name": "LayoutModel",
      "_view_count": null,
      "_view_module": "@jupyter-widgets/base",
      "_view_module_version": "1.2.0",
      "_view_name": "LayoutView",
      "align_content": null,
      "align_items": null,
      "align_self": null,
      "border": null,
      "bottom": null,
      "display": null,
      "flex": null,
      "flex_flow": null,
      "grid_area": null,
      "grid_auto_columns": null,
      "grid_auto_flow": null,
      "grid_auto_rows": null,
      "grid_column": null,
      "grid_gap": null,
      "grid_row": null,
      "grid_template_areas": null,
      "grid_template_columns": null,
      "grid_template_rows": null,
      "height": null,
      "justify_content": null,
      "justify_items": null,
      "left": null,
      "margin": null,
      "max_height": null,
      "max_width": null,
      "min_height": null,
      "min_width": null,
      "object_fit": null,
      "object_position": null,
      "order": null,
      "overflow": null,
      "overflow_x": null,
      "overflow_y": null,
      "padding": null,
      "right": null,
      "top": null,
      "visibility": null,
      "width": null
     }
    },
    "a656ed4aa71b41759a7eeb0a153b50a9": {
     "model_module": "@jupyter-widgets/controls",
     "model_module_version": "1.5.0",
     "model_name": "HTMLModel",
     "state": {
      "_dom_classes": [],
      "_model_module": "@jupyter-widgets/controls",
      "_model_module_version": "1.5.0",
      "_model_name": "HTMLModel",
      "_view_count": null,
      "_view_module": "@jupyter-widgets/controls",
      "_view_module_version": "1.5.0",
      "_view_name": "HTMLView",
      "description": "",
      "description_tooltip": null,
      "layout": "IPY_MODEL_4a77c4856cad4617989cd97867ac47b6",
      "placeholder": "​",
      "style": "IPY_MODEL_7c25ea1061d447eca16cae7e83e3a897",
      "value": " 5/5 [35:48&lt;00:00, 406.41s/it]"
     }
    },
    "aa86ca0697db4fd6a32726a9c1efdc63": {
     "model_module": "@jupyter-widgets/controls",
     "model_module_version": "1.5.0",
     "model_name": "DescriptionStyleModel",
     "state": {
      "_model_module": "@jupyter-widgets/controls",
      "_model_module_version": "1.5.0",
      "_model_name": "DescriptionStyleModel",
      "_view_count": null,
      "_view_module": "@jupyter-widgets/base",
      "_view_module_version": "1.2.0",
      "_view_name": "StyleView",
      "description_width": ""
     }
    },
    "b85121b98816462babb3172ec0af952e": {
     "model_module": "@jupyter-widgets/controls",
     "model_module_version": "1.5.0",
     "model_name": "DescriptionStyleModel",
     "state": {
      "_model_module": "@jupyter-widgets/controls",
      "_model_module_version": "1.5.0",
      "_model_name": "DescriptionStyleModel",
      "_view_count": null,
      "_view_module": "@jupyter-widgets/base",
      "_view_module_version": "1.2.0",
      "_view_name": "StyleView",
      "description_width": ""
     }
    },
    "b8c4e43f1d614f83b34eee85acc03add": {
     "model_module": "@jupyter-widgets/base",
     "model_module_version": "1.2.0",
     "model_name": "LayoutModel",
     "state": {
      "_model_module": "@jupyter-widgets/base",
      "_model_module_version": "1.2.0",
      "_model_name": "LayoutModel",
      "_view_count": null,
      "_view_module": "@jupyter-widgets/base",
      "_view_module_version": "1.2.0",
      "_view_name": "LayoutView",
      "align_content": null,
      "align_items": null,
      "align_self": null,
      "border": null,
      "bottom": null,
      "display": null,
      "flex": null,
      "flex_flow": null,
      "grid_area": null,
      "grid_auto_columns": null,
      "grid_auto_flow": null,
      "grid_auto_rows": null,
      "grid_column": null,
      "grid_gap": null,
      "grid_row": null,
      "grid_template_areas": null,
      "grid_template_columns": null,
      "grid_template_rows": null,
      "height": null,
      "justify_content": null,
      "justify_items": null,
      "left": null,
      "margin": null,
      "max_height": null,
      "max_width": null,
      "min_height": null,
      "min_width": null,
      "object_fit": null,
      "object_position": null,
      "order": null,
      "overflow": null,
      "overflow_x": null,
      "overflow_y": null,
      "padding": null,
      "right": null,
      "top": null,
      "visibility": null,
      "width": null
     }
    },
    "ba6145b142e44ea5b7416c78cd158113": {
     "model_module": "@jupyter-widgets/controls",
     "model_module_version": "1.5.0",
     "model_name": "HTMLModel",
     "state": {
      "_dom_classes": [],
      "_model_module": "@jupyter-widgets/controls",
      "_model_module_version": "1.5.0",
      "_model_name": "HTMLModel",
      "_view_count": null,
      "_view_module": "@jupyter-widgets/controls",
      "_view_module_version": "1.5.0",
      "_view_name": "HTMLView",
      "description": "",
      "description_tooltip": null,
      "layout": "IPY_MODEL_8ca25488eaba4525ae23a898d5a79249",
      "placeholder": "​",
      "style": "IPY_MODEL_ce08035bc1a14d64bbdaa046a2fbf818",
      "value": " 5/5 [34:33&lt;00:00, 392.13s/it]"
     }
    },
    "bd878d6794ff4a6a818bdd13c088d952": {
     "model_module": "@jupyter-widgets/controls",
     "model_module_version": "1.5.0",
     "model_name": "ProgressStyleModel",
     "state": {
      "_model_module": "@jupyter-widgets/controls",
      "_model_module_version": "1.5.0",
      "_model_name": "ProgressStyleModel",
      "_view_count": null,
      "_view_module": "@jupyter-widgets/base",
      "_view_module_version": "1.2.0",
      "_view_name": "StyleView",
      "bar_color": null,
      "description_width": ""
     }
    },
    "c1aa1e3467234f96afddd3f941e68b12": {
     "model_module": "@jupyter-widgets/base",
     "model_module_version": "1.2.0",
     "model_name": "LayoutModel",
     "state": {
      "_model_module": "@jupyter-widgets/base",
      "_model_module_version": "1.2.0",
      "_model_name": "LayoutModel",
      "_view_count": null,
      "_view_module": "@jupyter-widgets/base",
      "_view_module_version": "1.2.0",
      "_view_name": "LayoutView",
      "align_content": null,
      "align_items": null,
      "align_self": null,
      "border": null,
      "bottom": null,
      "display": null,
      "flex": null,
      "flex_flow": null,
      "grid_area": null,
      "grid_auto_columns": null,
      "grid_auto_flow": null,
      "grid_auto_rows": null,
      "grid_column": null,
      "grid_gap": null,
      "grid_row": null,
      "grid_template_areas": null,
      "grid_template_columns": null,
      "grid_template_rows": null,
      "height": null,
      "justify_content": null,
      "justify_items": null,
      "left": null,
      "margin": null,
      "max_height": null,
      "max_width": null,
      "min_height": null,
      "min_width": null,
      "object_fit": null,
      "object_position": null,
      "order": null,
      "overflow": null,
      "overflow_x": null,
      "overflow_y": null,
      "padding": null,
      "right": null,
      "top": null,
      "visibility": null,
      "width": null
     }
    },
    "c9fd7970667e4d968238404ec5fe075b": {
     "model_module": "@jupyter-widgets/base",
     "model_module_version": "1.2.0",
     "model_name": "LayoutModel",
     "state": {
      "_model_module": "@jupyter-widgets/base",
      "_model_module_version": "1.2.0",
      "_model_name": "LayoutModel",
      "_view_count": null,
      "_view_module": "@jupyter-widgets/base",
      "_view_module_version": "1.2.0",
      "_view_name": "LayoutView",
      "align_content": null,
      "align_items": null,
      "align_self": null,
      "border": null,
      "bottom": null,
      "display": null,
      "flex": null,
      "flex_flow": null,
      "grid_area": null,
      "grid_auto_columns": null,
      "grid_auto_flow": null,
      "grid_auto_rows": null,
      "grid_column": null,
      "grid_gap": null,
      "grid_row": null,
      "grid_template_areas": null,
      "grid_template_columns": null,
      "grid_template_rows": null,
      "height": null,
      "justify_content": null,
      "justify_items": null,
      "left": null,
      "margin": null,
      "max_height": null,
      "max_width": null,
      "min_height": null,
      "min_width": null,
      "object_fit": null,
      "object_position": null,
      "order": null,
      "overflow": null,
      "overflow_x": null,
      "overflow_y": null,
      "padding": null,
      "right": null,
      "top": null,
      "visibility": null,
      "width": null
     }
    },
    "ce08035bc1a14d64bbdaa046a2fbf818": {
     "model_module": "@jupyter-widgets/controls",
     "model_module_version": "1.5.0",
     "model_name": "DescriptionStyleModel",
     "state": {
      "_model_module": "@jupyter-widgets/controls",
      "_model_module_version": "1.5.0",
      "_model_name": "DescriptionStyleModel",
      "_view_count": null,
      "_view_module": "@jupyter-widgets/base",
      "_view_module_version": "1.2.0",
      "_view_name": "StyleView",
      "description_width": ""
     }
    }
   }
  }
 },
 "nbformat": 4,
 "nbformat_minor": 1
}
