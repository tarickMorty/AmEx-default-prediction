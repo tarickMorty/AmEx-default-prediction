{
 "cells": [
  {
   "cell_type": "code",
   "execution_count": 1,
   "id": "ba57232c",
   "metadata": {},
   "outputs": [],
   "source": [
    "import pandas as pd\n",
    "import numpy as np\n",
    "\n",
    "dt_trn = pd.read_parquet('../src/data/raw/train.parquet')\n",
    "dt_trn = dt_trn[['customer_ID','S_2']]\n",
    "dt_tst = pd.read_parquet('../src/data/raw/test.parquet')\n",
    "dt_tst = dt_tst[['customer_ID','S_2']]\n",
    "\n",
    "dt_trn['S_2'] = pd.to_datetime(dt_trn['S_2'])\n",
    "dt_tst['S_2'] = pd.to_datetime(dt_tst['S_2'])\n",
    "\n",
    "dt_trn['rn'] = dt_trn.groupby(\"customer_ID\").cumcount()+1\n",
    "dt_trn['rn'] = dt_trn['rn'].apply('{:0>2}'.format).astype(str)\n",
    "dt_trn = dt_trn.pivot_table('S_2', ['customer_ID'], 'rn', aggfunc='first')\n",
    "dt_trn.columns = ['_'.join(x) for x in dt_trn.columns]\n",
    "dt_trn = dt_trn.reset_index()\n",
    "\n",
    "dt_tst['rn'] = dt_tst.groupby(\"customer_ID\").cumcount()+1\n",
    "dt_tst['rn'] = dt_tst['rn'].apply('{:0>2}'.format).astype(str)\n",
    "dt_tst = dt_tst.pivot_table('S_2', ['customer_ID'], 'rn', aggfunc='first')\n",
    "dt_tst.columns = ['_'.join(x) for x in dt_tst.columns]\n",
    "dt_tst = dt_tst.reset_index()"
   ]
  },
  {
   "cell_type": "code",
   "execution_count": 2,
   "id": "a504f393",
   "metadata": {},
   "outputs": [],
   "source": [
    "dtcols = ['S2_'+str(i) for i in range(1,14)]\n",
    "dt_trn.columns = ['customer_ID'] + dtcols\n",
    "dt_tst.columns = ['customer_ID'] + dtcols"
   ]
  },
  {
   "cell_type": "code",
   "execution_count": 4,
   "id": "8cca6688",
   "metadata": {},
   "outputs": [],
   "source": [
    "def basic_features(data, col):\n",
    "\n",
    "    data[col+'_year'] = data[col].dt.year\n",
    "    data[col+'_year'] = data[col+'_year']-min(data[col+'_year'])\n",
    "    data[col+'_month'] = data[col].dt.month\n",
    "    data[col+'_week'] = data[col].dt.week\n",
    "\n",
    "    return data\n",
    "\n",
    "def ddiff_features(data, col1, col2):\n",
    "    \n",
    "    data['MD_'+col1+'_'+col2] = ((data[col1] - data[col2])/np.timedelta64(1, 'M')).astype(int, errors='ignore')\n",
    "    data['YD_'+col1+'_'+col2] = ((data[col1] - data[col2])/np.timedelta64(1, 'Y')).astype(int, errors='ignore')\n",
    "    data['DD_'+col1+'_'+col2] = ((data[col1] - data[col2])/np.timedelta64(1, 'D')).astype(int, errors='ignore')\n",
    "    \n",
    "    return data"
   ]
  },
  {
   "cell_type": "code",
   "execution_count": 5,
   "id": "40c91b34",
   "metadata": {},
   "outputs": [
    {
     "name": "stderr",
     "output_type": "stream",
     "text": [
      "/tmp/ipykernel_19444/1140007516.py:6: FutureWarning: Series.dt.weekofyear and Series.dt.week have been deprecated.  Please use Series.dt.isocalendar().week instead.\n",
      "  data[col+'_week'] = data[col].dt.week\n"
     ]
    }
   ],
   "source": [
    "for col in dtcols:\n",
    "    dt_trn = basic_features(dt_trn, col)\n",
    "    dt_tst = basic_features(dt_tst, col)\n",
    "    \n",
    "for i in range(0, len(dtcols)+1):\n",
    "    for j in range(i+1, len(dtcols)):\n",
    "        dt_trn = ddiff_features(dt_trn, dtcols[j], dtcols[i])\n",
    "        dt_tst = ddiff_features(dt_tst, dtcols[j], dtcols[i])\n",
    "        \n",
    "dt_trn = dt_trn.drop(dtcols, axis=1)\n",
    "dt_tst = dt_tst.drop(dtcols, axis=1)\n",
    "\n",
    "dt_trn.to_parquet('../src/data/processed/dt_trn.parquet')\n",
    "dt_tst.to_parquet('../src/data/processed/dt_tst.parquet')"
   ]
  },
  {
   "cell_type": "code",
   "execution_count": 6,
   "id": "e1f93838",
   "metadata": {},
   "outputs": [
    {
     "data": {
      "text/plain": [
       "((458913, 274), (924621, 274))"
      ]
     },
     "execution_count": 6,
     "metadata": {},
     "output_type": "execute_result"
    }
   ],
   "source": [
    "dt_trn.shape, dt_tst.shape"
   ]
  },
  {
   "cell_type": "code",
   "execution_count": 2,
   "id": "9a12a88d",
   "metadata": {},
   "outputs": [],
   "source": [
    "import pandas as pd\n",
    "dt_trn = pd.read_parquet('../src/data/processed/dt_trn.parquet')\n",
    "fcols = ['customer_ID','MD_S2_13_S2_1', 'YD_S2_13_S2_1', 'DD_S2_13_S2_1', 'MD_S2_13_S2_2', 'YD_S2_13_S2_2', 'DD_S2_13_S2_2', 'MD_S2_13_S2_3', 'YD_S2_13_S2_3', 'DD_S2_13_S2_3', \n",
    "             'MD_S2_13_S2_4', 'YD_S2_13_S2_4', 'DD_S2_13_S2_4', 'MD_S2_13_S2_5', 'YD_S2_13_S2_5', 'DD_S2_13_S2_5', 'MD_S2_13_S2_6', 'YD_S2_13_S2_6', 'DD_S2_13_S2_6', \n",
    "             'MD_S2_13_S2_7', 'YD_S2_13_S2_7', 'DD_S2_13_S2_7', 'MD_S2_13_S2_8', 'YD_S2_13_S2_8', 'DD_S2_13_S2_8', 'MD_S2_13_S2_9', 'YD_S2_13_S2_9', 'DD_S2_13_S2_9', \n",
    "             'MD_S2_13_S2_10', 'YD_S2_13_S2_10', 'DD_S2_13_S2_10', 'MD_S2_13_S2_11', 'YD_S2_13_S2_11', 'DD_S2_13_S2_11', 'MD_S2_13_S2_12', 'YD_S2_13_S2_12', 'DD_S2_13_S2_12']\n",
    "\n",
    "dt_trn = dt_trn[fcols].to_parquet('../src/data/processed/dt_trn.parquet')\n"
   ]
  },
  {
   "cell_type": "code",
   "execution_count": 3,
   "id": "1ccf3804",
   "metadata": {},
   "outputs": [],
   "source": [
    "dt_trn = pd.read_parquet('../src/data/processed/dt_tst.parquet')\n",
    "dt_trn = dt_trn[fcols].to_parquet('../src/data/processed/dt_tst.parquet')"
   ]
  },
  {
   "cell_type": "code",
   "execution_count": null,
   "id": "1b4122c0",
   "metadata": {},
   "outputs": [],
   "source": []
  }
 ],
 "metadata": {
  "kernelspec": {
   "display_name": "Python 3 (ipykernel)",
   "language": "python",
   "name": "python3"
  },
  "language_info": {
   "codemirror_mode": {
    "name": "ipython",
    "version": 3
   },
   "file_extension": ".py",
   "mimetype": "text/x-python",
   "name": "python",
   "nbconvert_exporter": "python",
   "pygments_lexer": "ipython3",
   "version": "3.8.12"
  }
 },
 "nbformat": 4,
 "nbformat_minor": 5
}
